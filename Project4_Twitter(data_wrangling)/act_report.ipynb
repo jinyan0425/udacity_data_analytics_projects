{
 "cells": [
  {
   "cell_type": "markdown",
   "metadata": {},
   "source": [
    "# *“A dog will be your best friend no matter what. Even if your human friends aren't.”*\n",
    "\n",
    "\\bigskip\n",
    "\n",
    "No doubt that many people would agree with this quote. In 2020, dog owners increased to over 63 million in the US, making dogs the most popular kind of pets in American homes. Despite their popularity, not every dog is perfect to everyone. An interesting question for dog lovers and dog breeders is what affects people’s rating of their buddies?\n",
    "\n",
    "With historic rating data gathered from WeRateDogs, a dog rating account provides the anonymous comments and ratings of dogs on Twitter since 2015 and has over 9 million followers, I am able to partly answer this question.\n",
    "\n",
    "\\bigskip\n",
    "\n",
    "Before diving to the conclusions, let me briefly introduce the data.\n",
    "\n",
    "In the 1,874 ratings/tweets collected, the average dog rating is 1.08 out of 1 with a range from 0.6 to 1.30. Ratings come with 1 to 4 pictures and 86% of the ratings (1,606) have only 1 image of the rated dog. The average retweets and favorites of ratings/tweets is 2212 and 7639 respectively.\n",
    "\n",
    "As for rated dogs, over the half are males (52%, 979) and less than one fifth are females (19%, 326); gender information is missing for the rest (569). Unfortunately, the dog stage information is missing for most rated dogs (85%, 1586) and among these with stage information, the majority are puppers (85%, 202 out of 288). Rated dogs have a variable of breeds, and the most common breed is golden (8%, 153), followed by labrador (6%, 107),pembroke (5%, 89) and chihuahua (5%, 87); the most rare breeds among the rated dogs (appear only once) are irish_wolfhound, standard schnauzer, clumber, bouvier_des_flandres, entlebucher, scotch_terrier, silky_terrier and black-and-tan_coonhound.\n",
    "\n",
    "\n",
    "\\break\n",
    "\n",
    "Now, it is time for listing the key take-ways for people who are interested in understanding or predicting dog rating:\n",
    "\n",
    "* Popularity of tweets matters! The number of retweets and favorites of a tweet which suggests how popular the tweet is positively associates with dog rating.\n",
    "    \n",
    "    ![](img/F_retweets_new.jpg)\n",
    "    ![](img/F_favorites.jpg)\n",
    "\n",
    "\\break\n",
    "\n",
    "* Number of images of dogs matters! The more pictures a dog has, the higher ratings the dog receives.\n",
    "    \n",
    "    ![](img/F_img_num.jpg)\n",
    "    \n",
    "* Dog gender matters! Girls receive significantly higher average rating than boys, possibly because girls are more friendly, loyal and attached.\n",
    "    \n",
    "    ![](img/F_dog_gender.jpg)\n",
    "    \n",
    "\\break   \n",
    "\n",
    "* Dog stage also matters! Puppos have the highest ratings and pupper have the lowest ratings!\n",
    "    \n",
    "    ![](img/F_dog_stage.jpg)\n",
    "    \n",
    "* Most interestingly, there is an interaction between dog gender and dog stage on dog rating: female dogs outperform their male counterparts on rating only when they are doggos.\n",
    "    \n",
    "    ![](img/F_int.jpg)\n"
   ]
  }
 ],
 "metadata": {
  "kernelspec": {
   "display_name": "Python 3",
   "language": "python",
   "name": "python3"
  },
  "language_info": {
   "codemirror_mode": {
    "name": "ipython",
    "version": 3
   },
   "file_extension": ".py",
   "mimetype": "text/x-python",
   "name": "python",
   "nbconvert_exporter": "python",
   "pygments_lexer": "ipython3",
   "version": "3.8.8"
  }
 },
 "nbformat": 4,
 "nbformat_minor": 4
}
