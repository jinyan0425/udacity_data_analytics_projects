{
 "cells": [
  {
   "cell_type": "markdown",
   "metadata": {
    "extensions": {
     "jupyter_dashboards": {
      "version": 1,
      "views": {
       "grid_default": {
        "col": 0,
        "height": 4,
        "hidden": false,
        "row": 0,
        "width": 4
       },
       "report_default": {
        "hidden": false
       }
      }
     }
    }
   },
   "source": [
    "# Project: Wrangling and Analyze Data"
   ]
  },
  {
   "cell_type": "code",
   "execution_count": 1,
   "metadata": {},
   "outputs": [],
   "source": [
    "import pandas as pd\n",
    "import numpy as np\n",
    "\n",
    "import time\n",
    "import requests\n",
    "\n",
    "import re\n",
    "\n",
    "import matplotlib.pyplot as plt\n",
    "import seaborn as sns\n",
    "%matplotlib inline\n",
    "\n",
    "import scipy.stats as stats\n",
    "import statsmodels.api as sm\n",
    "from statsmodels.formula.api import ols\n",
    "from statsmodels.stats.multicomp import pairwise_tukeyhsd"
   ]
  },
  {
   "cell_type": "code",
   "execution_count": 2,
   "metadata": {},
   "outputs": [
    {
     "name": "stdout",
     "output_type": "stream",
     "text": [
      "/Users/jinyanxiang/Desktop/Data Science/Udacity/Data Analyst/Project 4_Twitter\n"
     ]
    }
   ],
   "source": [
    "import os\n",
    "path = os.getcwd()\n",
    "print(path)"
   ]
  },
  {
   "cell_type": "markdown",
   "metadata": {},
   "source": [
    "## Data Gathering\n",
    "In the cell below, gather **all** three pieces of data for this project and load them in the notebook. \n",
    "**Note:** the methods required to gather each data are different.\n",
    "#### Gather the WeRateDogs Twitter archive data (twitter_archive_enhanced.csv)"
   ]
  },
  {
   "cell_type": "code",
   "execution_count": 375,
   "metadata": {
    "extensions": {
     "jupyter_dashboards": {
      "version": 1,
      "views": {
       "grid_default": {
        "hidden": true
       },
       "report_default": {
        "hidden": true
       }
      }
     }
    }
   },
   "outputs": [
    {
     "data": {
      "text/html": [
       "<div>\n",
       "<style scoped>\n",
       "    .dataframe tbody tr th:only-of-type {\n",
       "        vertical-align: middle;\n",
       "    }\n",
       "\n",
       "    .dataframe tbody tr th {\n",
       "        vertical-align: top;\n",
       "    }\n",
       "\n",
       "    .dataframe thead th {\n",
       "        text-align: right;\n",
       "    }\n",
       "</style>\n",
       "<table border=\"1\" class=\"dataframe\">\n",
       "  <thead>\n",
       "    <tr style=\"text-align: right;\">\n",
       "      <th></th>\n",
       "      <th>tweet_id</th>\n",
       "      <th>in_reply_to_status_id</th>\n",
       "      <th>in_reply_to_user_id</th>\n",
       "      <th>timestamp</th>\n",
       "      <th>source</th>\n",
       "      <th>text</th>\n",
       "      <th>retweeted_status_id</th>\n",
       "      <th>retweeted_status_user_id</th>\n",
       "      <th>retweeted_status_timestamp</th>\n",
       "      <th>expanded_urls</th>\n",
       "      <th>rating_numerator</th>\n",
       "      <th>rating_denominator</th>\n",
       "      <th>name</th>\n",
       "      <th>doggo</th>\n",
       "      <th>floofer</th>\n",
       "      <th>pupper</th>\n",
       "      <th>puppo</th>\n",
       "    </tr>\n",
       "  </thead>\n",
       "  <tbody>\n",
       "    <tr>\n",
       "      <th>0</th>\n",
       "      <td>892420643555336193</td>\n",
       "      <td>NaN</td>\n",
       "      <td>NaN</td>\n",
       "      <td>2017-08-01 16:23:56 +0000</td>\n",
       "      <td>&lt;a href=\"http://twitter.com/download/iphone\" rel=\"nofollow\"&gt;Twitter for iPhone&lt;/a&gt;</td>\n",
       "      <td>This is Phineas. He's a mystical boy. Only ever appears in the hole of a donut. 13/10 https://t.co/MgUWQ76dJU</td>\n",
       "      <td>NaN</td>\n",
       "      <td>NaN</td>\n",
       "      <td>NaN</td>\n",
       "      <td>https://twitter.com/dog_rates/status/892420643555336193/photo/1</td>\n",
       "      <td>13</td>\n",
       "      <td>10</td>\n",
       "      <td>Phineas</td>\n",
       "      <td>None</td>\n",
       "      <td>None</td>\n",
       "      <td>None</td>\n",
       "      <td>None</td>\n",
       "    </tr>\n",
       "    <tr>\n",
       "      <th>1</th>\n",
       "      <td>892177421306343426</td>\n",
       "      <td>NaN</td>\n",
       "      <td>NaN</td>\n",
       "      <td>2017-08-01 00:17:27 +0000</td>\n",
       "      <td>&lt;a href=\"http://twitter.com/download/iphone\" rel=\"nofollow\"&gt;Twitter for iPhone&lt;/a&gt;</td>\n",
       "      <td>This is Tilly. She's just checking pup on you. Hopes you're doing ok. If not, she's available for pats, snugs, boops, the whole bit. 13/10 https://t.co/0Xxu71qeIV</td>\n",
       "      <td>NaN</td>\n",
       "      <td>NaN</td>\n",
       "      <td>NaN</td>\n",
       "      <td>https://twitter.com/dog_rates/status/892177421306343426/photo/1</td>\n",
       "      <td>13</td>\n",
       "      <td>10</td>\n",
       "      <td>Tilly</td>\n",
       "      <td>None</td>\n",
       "      <td>None</td>\n",
       "      <td>None</td>\n",
       "      <td>None</td>\n",
       "    </tr>\n",
       "    <tr>\n",
       "      <th>2</th>\n",
       "      <td>891815181378084864</td>\n",
       "      <td>NaN</td>\n",
       "      <td>NaN</td>\n",
       "      <td>2017-07-31 00:18:03 +0000</td>\n",
       "      <td>&lt;a href=\"http://twitter.com/download/iphone\" rel=\"nofollow\"&gt;Twitter for iPhone&lt;/a&gt;</td>\n",
       "      <td>This is Archie. He is a rare Norwegian Pouncing Corgo. Lives in the tall grass. You never know when one may strike. 12/10 https://t.co/wUnZnhtVJB</td>\n",
       "      <td>NaN</td>\n",
       "      <td>NaN</td>\n",
       "      <td>NaN</td>\n",
       "      <td>https://twitter.com/dog_rates/status/891815181378084864/photo/1</td>\n",
       "      <td>12</td>\n",
       "      <td>10</td>\n",
       "      <td>Archie</td>\n",
       "      <td>None</td>\n",
       "      <td>None</td>\n",
       "      <td>None</td>\n",
       "      <td>None</td>\n",
       "    </tr>\n",
       "    <tr>\n",
       "      <th>3</th>\n",
       "      <td>891689557279858688</td>\n",
       "      <td>NaN</td>\n",
       "      <td>NaN</td>\n",
       "      <td>2017-07-30 15:58:51 +0000</td>\n",
       "      <td>&lt;a href=\"http://twitter.com/download/iphone\" rel=\"nofollow\"&gt;Twitter for iPhone&lt;/a&gt;</td>\n",
       "      <td>This is Darla. She commenced a snooze mid meal. 13/10 happens to the best of us https://t.co/tD36da7qLQ</td>\n",
       "      <td>NaN</td>\n",
       "      <td>NaN</td>\n",
       "      <td>NaN</td>\n",
       "      <td>https://twitter.com/dog_rates/status/891689557279858688/photo/1</td>\n",
       "      <td>13</td>\n",
       "      <td>10</td>\n",
       "      <td>Darla</td>\n",
       "      <td>None</td>\n",
       "      <td>None</td>\n",
       "      <td>None</td>\n",
       "      <td>None</td>\n",
       "    </tr>\n",
       "    <tr>\n",
       "      <th>4</th>\n",
       "      <td>891327558926688256</td>\n",
       "      <td>NaN</td>\n",
       "      <td>NaN</td>\n",
       "      <td>2017-07-29 16:00:24 +0000</td>\n",
       "      <td>&lt;a href=\"http://twitter.com/download/iphone\" rel=\"nofollow\"&gt;Twitter for iPhone&lt;/a&gt;</td>\n",
       "      <td>This is Franklin. He would like you to stop calling him \"cute.\" He is a very fierce shark and should be respected as such. 12/10 #BarkWeek https://t.co/AtUZn91f7f</td>\n",
       "      <td>NaN</td>\n",
       "      <td>NaN</td>\n",
       "      <td>NaN</td>\n",
       "      <td>https://twitter.com/dog_rates/status/891327558926688256/photo/1,https://twitter.com/dog_rates/status/891327558926688256/photo/1</td>\n",
       "      <td>12</td>\n",
       "      <td>10</td>\n",
       "      <td>Franklin</td>\n",
       "      <td>None</td>\n",
       "      <td>None</td>\n",
       "      <td>None</td>\n",
       "      <td>None</td>\n",
       "    </tr>\n",
       "  </tbody>\n",
       "</table>\n",
       "</div>"
      ],
      "text/plain": [
       "             tweet_id  in_reply_to_status_id  in_reply_to_user_id  \\\n",
       "0  892420643555336193                    NaN                  NaN   \n",
       "1  892177421306343426                    NaN                  NaN   \n",
       "2  891815181378084864                    NaN                  NaN   \n",
       "3  891689557279858688                    NaN                  NaN   \n",
       "4  891327558926688256                    NaN                  NaN   \n",
       "\n",
       "                   timestamp  \\\n",
       "0  2017-08-01 16:23:56 +0000   \n",
       "1  2017-08-01 00:17:27 +0000   \n",
       "2  2017-07-31 00:18:03 +0000   \n",
       "3  2017-07-30 15:58:51 +0000   \n",
       "4  2017-07-29 16:00:24 +0000   \n",
       "\n",
       "                                                                               source  \\\n",
       "0  <a href=\"http://twitter.com/download/iphone\" rel=\"nofollow\">Twitter for iPhone</a>   \n",
       "1  <a href=\"http://twitter.com/download/iphone\" rel=\"nofollow\">Twitter for iPhone</a>   \n",
       "2  <a href=\"http://twitter.com/download/iphone\" rel=\"nofollow\">Twitter for iPhone</a>   \n",
       "3  <a href=\"http://twitter.com/download/iphone\" rel=\"nofollow\">Twitter for iPhone</a>   \n",
       "4  <a href=\"http://twitter.com/download/iphone\" rel=\"nofollow\">Twitter for iPhone</a>   \n",
       "\n",
       "                                                                                                                                                                 text  \\\n",
       "0                                                       This is Phineas. He's a mystical boy. Only ever appears in the hole of a donut. 13/10 https://t.co/MgUWQ76dJU   \n",
       "1  This is Tilly. She's just checking pup on you. Hopes you're doing ok. If not, she's available for pats, snugs, boops, the whole bit. 13/10 https://t.co/0Xxu71qeIV   \n",
       "2                   This is Archie. He is a rare Norwegian Pouncing Corgo. Lives in the tall grass. You never know when one may strike. 12/10 https://t.co/wUnZnhtVJB   \n",
       "3                                                             This is Darla. She commenced a snooze mid meal. 13/10 happens to the best of us https://t.co/tD36da7qLQ   \n",
       "4  This is Franklin. He would like you to stop calling him \"cute.\" He is a very fierce shark and should be respected as such. 12/10 #BarkWeek https://t.co/AtUZn91f7f   \n",
       "\n",
       "   retweeted_status_id  retweeted_status_user_id retweeted_status_timestamp  \\\n",
       "0                  NaN                       NaN                        NaN   \n",
       "1                  NaN                       NaN                        NaN   \n",
       "2                  NaN                       NaN                        NaN   \n",
       "3                  NaN                       NaN                        NaN   \n",
       "4                  NaN                       NaN                        NaN   \n",
       "\n",
       "                                                                                                                     expanded_urls  \\\n",
       "0                                                                  https://twitter.com/dog_rates/status/892420643555336193/photo/1   \n",
       "1                                                                  https://twitter.com/dog_rates/status/892177421306343426/photo/1   \n",
       "2                                                                  https://twitter.com/dog_rates/status/891815181378084864/photo/1   \n",
       "3                                                                  https://twitter.com/dog_rates/status/891689557279858688/photo/1   \n",
       "4  https://twitter.com/dog_rates/status/891327558926688256/photo/1,https://twitter.com/dog_rates/status/891327558926688256/photo/1   \n",
       "\n",
       "   rating_numerator  rating_denominator      name doggo floofer pupper puppo  \n",
       "0                13                  10   Phineas  None    None   None  None  \n",
       "1                13                  10     Tilly  None    None   None  None  \n",
       "2                12                  10    Archie  None    None   None  None  \n",
       "3                13                  10     Darla  None    None   None  None  \n",
       "4                12                  10  Franklin  None    None   None  None  "
      ]
     },
     "execution_count": 375,
     "metadata": {},
     "output_type": "execute_result"
    }
   ],
   "source": [
    "df_tw = pd.read_csv('twitter-archive-enhanced.csv')\n",
    "df_tw.head()"
   ]
  },
  {
   "cell_type": "code",
   "execution_count": 4,
   "metadata": {},
   "outputs": [
    {
     "data": {
      "text/plain": [
       "(2356, 17)"
      ]
     },
     "execution_count": 4,
     "metadata": {},
     "output_type": "execute_result"
    }
   ],
   "source": [
    "df_tw.shape"
   ]
  },
  {
   "cell_type": "markdown",
   "metadata": {},
   "source": [
    "#### Gather the tweet image prediction data (image_predictions.tsv)"
   ]
  },
  {
   "cell_type": "code",
   "execution_count": 5,
   "metadata": {},
   "outputs": [],
   "source": [
    "url = 'https://d17h27t6h515a5.cloudfront.net/topher/2017/August/599fd2ad_image-predictions/image-predictions.tsv'"
   ]
  },
  {
   "cell_type": "code",
   "execution_count": 6,
   "metadata": {},
   "outputs": [],
   "source": [
    "response = requests.get(url)"
   ]
  },
  {
   "cell_type": "code",
   "execution_count": 7,
   "metadata": {},
   "outputs": [],
   "source": [
    "with open(url.split('/')[-1], mode = 'wb') as file:\n",
    "    file.write(response.content)"
   ]
  },
  {
   "cell_type": "code",
   "execution_count": 8,
   "metadata": {},
   "outputs": [
    {
     "data": {
      "text/html": [
       "<div>\n",
       "<style scoped>\n",
       "    .dataframe tbody tr th:only-of-type {\n",
       "        vertical-align: middle;\n",
       "    }\n",
       "\n",
       "    .dataframe tbody tr th {\n",
       "        vertical-align: top;\n",
       "    }\n",
       "\n",
       "    .dataframe thead th {\n",
       "        text-align: right;\n",
       "    }\n",
       "</style>\n",
       "<table border=\"1\" class=\"dataframe\">\n",
       "  <thead>\n",
       "    <tr style=\"text-align: right;\">\n",
       "      <th></th>\n",
       "      <th>tweet_id</th>\n",
       "      <th>jpg_url</th>\n",
       "      <th>img_num</th>\n",
       "      <th>p1</th>\n",
       "      <th>p1_conf</th>\n",
       "      <th>p1_dog</th>\n",
       "      <th>p2</th>\n",
       "      <th>p2_conf</th>\n",
       "      <th>p2_dog</th>\n",
       "      <th>p3</th>\n",
       "      <th>p3_conf</th>\n",
       "      <th>p3_dog</th>\n",
       "    </tr>\n",
       "  </thead>\n",
       "  <tbody>\n",
       "    <tr>\n",
       "      <th>0</th>\n",
       "      <td>666020888022790149</td>\n",
       "      <td>https://pbs.twimg.com/media/CT4udn0WwAA0aMy.jpg</td>\n",
       "      <td>1</td>\n",
       "      <td>Welsh_springer_spaniel</td>\n",
       "      <td>0.465074</td>\n",
       "      <td>True</td>\n",
       "      <td>collie</td>\n",
       "      <td>0.156665</td>\n",
       "      <td>True</td>\n",
       "      <td>Shetland_sheepdog</td>\n",
       "      <td>0.061428</td>\n",
       "      <td>True</td>\n",
       "    </tr>\n",
       "    <tr>\n",
       "      <th>1</th>\n",
       "      <td>666029285002620928</td>\n",
       "      <td>https://pbs.twimg.com/media/CT42GRgUYAA5iDo.jpg</td>\n",
       "      <td>1</td>\n",
       "      <td>redbone</td>\n",
       "      <td>0.506826</td>\n",
       "      <td>True</td>\n",
       "      <td>miniature_pinscher</td>\n",
       "      <td>0.074192</td>\n",
       "      <td>True</td>\n",
       "      <td>Rhodesian_ridgeback</td>\n",
       "      <td>0.072010</td>\n",
       "      <td>True</td>\n",
       "    </tr>\n",
       "    <tr>\n",
       "      <th>2</th>\n",
       "      <td>666033412701032449</td>\n",
       "      <td>https://pbs.twimg.com/media/CT4521TWwAEvMyu.jpg</td>\n",
       "      <td>1</td>\n",
       "      <td>German_shepherd</td>\n",
       "      <td>0.596461</td>\n",
       "      <td>True</td>\n",
       "      <td>malinois</td>\n",
       "      <td>0.138584</td>\n",
       "      <td>True</td>\n",
       "      <td>bloodhound</td>\n",
       "      <td>0.116197</td>\n",
       "      <td>True</td>\n",
       "    </tr>\n",
       "    <tr>\n",
       "      <th>3</th>\n",
       "      <td>666044226329800704</td>\n",
       "      <td>https://pbs.twimg.com/media/CT5Dr8HUEAA-lEu.jpg</td>\n",
       "      <td>1</td>\n",
       "      <td>Rhodesian_ridgeback</td>\n",
       "      <td>0.408143</td>\n",
       "      <td>True</td>\n",
       "      <td>redbone</td>\n",
       "      <td>0.360687</td>\n",
       "      <td>True</td>\n",
       "      <td>miniature_pinscher</td>\n",
       "      <td>0.222752</td>\n",
       "      <td>True</td>\n",
       "    </tr>\n",
       "    <tr>\n",
       "      <th>4</th>\n",
       "      <td>666049248165822465</td>\n",
       "      <td>https://pbs.twimg.com/media/CT5IQmsXIAAKY4A.jpg</td>\n",
       "      <td>1</td>\n",
       "      <td>miniature_pinscher</td>\n",
       "      <td>0.560311</td>\n",
       "      <td>True</td>\n",
       "      <td>Rottweiler</td>\n",
       "      <td>0.243682</td>\n",
       "      <td>True</td>\n",
       "      <td>Doberman</td>\n",
       "      <td>0.154629</td>\n",
       "      <td>True</td>\n",
       "    </tr>\n",
       "  </tbody>\n",
       "</table>\n",
       "</div>"
      ],
      "text/plain": [
       "             tweet_id                                          jpg_url  \\\n",
       "0  666020888022790149  https://pbs.twimg.com/media/CT4udn0WwAA0aMy.jpg   \n",
       "1  666029285002620928  https://pbs.twimg.com/media/CT42GRgUYAA5iDo.jpg   \n",
       "2  666033412701032449  https://pbs.twimg.com/media/CT4521TWwAEvMyu.jpg   \n",
       "3  666044226329800704  https://pbs.twimg.com/media/CT5Dr8HUEAA-lEu.jpg   \n",
       "4  666049248165822465  https://pbs.twimg.com/media/CT5IQmsXIAAKY4A.jpg   \n",
       "\n",
       "   img_num                      p1   p1_conf  p1_dog                  p2  \\\n",
       "0        1  Welsh_springer_spaniel  0.465074    True              collie   \n",
       "1        1                 redbone  0.506826    True  miniature_pinscher   \n",
       "2        1         German_shepherd  0.596461    True            malinois   \n",
       "3        1     Rhodesian_ridgeback  0.408143    True             redbone   \n",
       "4        1      miniature_pinscher  0.560311    True          Rottweiler   \n",
       "\n",
       "    p2_conf  p2_dog                   p3   p3_conf  p3_dog  \n",
       "0  0.156665    True    Shetland_sheepdog  0.061428    True  \n",
       "1  0.074192    True  Rhodesian_ridgeback  0.072010    True  \n",
       "2  0.138584    True           bloodhound  0.116197    True  \n",
       "3  0.360687    True   miniature_pinscher  0.222752    True  \n",
       "4  0.243682    True             Doberman  0.154629    True  "
      ]
     },
     "execution_count": 8,
     "metadata": {},
     "output_type": "execute_result"
    }
   ],
   "source": [
    "df_img = pd.read_csv('image-predictions.tsv', sep = '\\t', encoding = 'utf-8')\n",
    "df_img.head()"
   ]
  },
  {
   "cell_type": "code",
   "execution_count": 9,
   "metadata": {},
   "outputs": [
    {
     "data": {
      "text/plain": [
       "(2075, 12)"
      ]
     },
     "execution_count": 9,
     "metadata": {},
     "output_type": "execute_result"
    }
   ],
   "source": [
    "df_img.shape"
   ]
  },
  {
   "cell_type": "markdown",
   "metadata": {},
   "source": [
    "#### Gather additional data from Tweepy (tweet_json.txt)"
   ]
  },
  {
   "cell_type": "code",
   "execution_count": 10,
   "metadata": {},
   "outputs": [],
   "source": [
    "#Getting started with Tweepy"
   ]
  },
  {
   "cell_type": "code",
   "execution_count": 10,
   "metadata": {},
   "outputs": [
    {
     "name": "stdout",
     "output_type": "stream",
     "text": [
      "Requirement already satisfied: tweepy in /opt/anaconda3/lib/python3.8/site-packages (4.4.0)\n",
      "Requirement already satisfied: requests<3,>=2.11.1 in /opt/anaconda3/lib/python3.8/site-packages (from tweepy) (2.25.1)\n",
      "Requirement already satisfied: requests-oauthlib<2,>=1.0.0 in /opt/anaconda3/lib/python3.8/site-packages (from tweepy) (1.3.0)\n",
      "Requirement already satisfied: chardet<5,>=3.0.2 in /opt/anaconda3/lib/python3.8/site-packages (from requests<3,>=2.11.1->tweepy) (4.0.0)\n",
      "Requirement already satisfied: certifi>=2017.4.17 in /opt/anaconda3/lib/python3.8/site-packages (from requests<3,>=2.11.1->tweepy) (2022.6.15)\n",
      "Requirement already satisfied: urllib3<1.27,>=1.21.1 in /opt/anaconda3/lib/python3.8/site-packages (from requests<3,>=2.11.1->tweepy) (1.26.4)\n",
      "Requirement already satisfied: idna<3,>=2.5 in /opt/anaconda3/lib/python3.8/site-packages (from requests<3,>=2.11.1->tweepy) (2.10)\n",
      "Requirement already satisfied: oauthlib>=3.0.0 in /opt/anaconda3/lib/python3.8/site-packages (from requests-oauthlib<2,>=1.0.0->tweepy) (3.1.1)\n"
     ]
    }
   ],
   "source": [
    "!pip install tweepy"
   ]
  },
  {
   "cell_type": "code",
   "execution_count": 11,
   "metadata": {},
   "outputs": [
    {
     "name": "stdout",
     "output_type": "stream",
     "text": [
      "zsh:1: no matches found: tweepy[async]\n"
     ]
    }
   ],
   "source": [
    "!pip install tweepy[async]"
   ]
  },
  {
   "cell_type": "code",
   "execution_count": 12,
   "metadata": {},
   "outputs": [],
   "source": [
    "import tweepy"
   ]
  },
  {
   "cell_type": "code",
   "execution_count": 11,
   "metadata": {},
   "outputs": [],
   "source": [
    "#Get authentication (elevated access required!!)"
   ]
  },
  {
   "cell_type": "code",
   "execution_count": 14,
   "metadata": {},
   "outputs": [],
   "source": [
    "auth = tweepy.OAuthHandler(api_key, api_secret)\n",
    "auth.set_access_token(access_token, access_secret)"
   ]
  },
  {
   "cell_type": "code",
   "execution_count": 15,
   "metadata": {},
   "outputs": [],
   "source": [
    "#Create API instance"
   ]
  },
  {
   "cell_type": "code",
   "execution_count": 16,
   "metadata": {},
   "outputs": [],
   "source": [
    "api = tweepy.API(auth,\n",
    "                 parser = tweepy.parsers.JSONParser(),\n",
    "                 wait_on_rate_limit = True) #automatically wait for rate limits to replenish (useful for collecting large-number of requests) \n",
    "\n",
    "##NOTE: wait_on_rate_limit_notify is not an unexpected keyword argument and thus removed"
   ]
  },
  {
   "cell_type": "code",
   "execution_count": 17,
   "metadata": {},
   "outputs": [
    {
     "data": {
      "text/plain": [
       "{'created_at': 'Tue Aug 01 00:17:27 +0000 2017',\n",
       " 'id': 892177421306343426,\n",
       " 'id_str': '892177421306343426',\n",
       " 'text': \"This is Tilly. She's just checking pup on you. Hopes you're doing ok. If not, she's available for pats, snugs, boop… https://t.co/aQFSeaCu9L\",\n",
       " 'truncated': True,\n",
       " 'entities': {'hashtags': [],\n",
       "  'symbols': [],\n",
       "  'user_mentions': [],\n",
       "  'urls': [{'url': 'https://t.co/aQFSeaCu9L',\n",
       "    'expanded_url': 'https://twitter.com/i/web/status/892177421306343426',\n",
       "    'display_url': 'twitter.com/i/web/status/8…',\n",
       "    'indices': [117, 140]}]},\n",
       " 'source': '<a href=\"http://twitter.com/download/iphone\" rel=\"nofollow\">Twitter for iPhone</a>',\n",
       " 'in_reply_to_status_id': None,\n",
       " 'in_reply_to_status_id_str': None,\n",
       " 'in_reply_to_user_id': None,\n",
       " 'in_reply_to_user_id_str': None,\n",
       " 'in_reply_to_screen_name': None,\n",
       " 'user': {'id': 4196983835,\n",
       "  'id_str': '4196983835',\n",
       "  'name': 'WeRateDogs®',\n",
       "  'screen_name': 'dog_rates',\n",
       "  'location': 'all our links ➜',\n",
       "  'description': 'Your Only Source For Professional Dog Ratings Instagram and Facebook ➜ WeRateDogs partnerships@weratedogs.com | nonprofit: @15outof10 ⠀⠀⠀⠀⠀⠀⠀⠀⠀⠀⠀⠀',\n",
       "  'url': 'https://t.co/YPc2XqmwyC',\n",
       "  'entities': {'url': {'urls': [{'url': 'https://t.co/YPc2XqmwyC',\n",
       "      'expanded_url': 'http://links.weratedogs.com',\n",
       "      'display_url': 'links.weratedogs.com',\n",
       "      'indices': [0, 23]}]},\n",
       "   'description': {'urls': []}},\n",
       "  'protected': False,\n",
       "  'followers_count': 9330720,\n",
       "  'friends_count': 21,\n",
       "  'listed_count': 7545,\n",
       "  'created_at': 'Sun Nov 15 21:41:29 +0000 2015',\n",
       "  'favourites_count': 147212,\n",
       "  'utc_offset': None,\n",
       "  'time_zone': None,\n",
       "  'geo_enabled': True,\n",
       "  'verified': True,\n",
       "  'statuses_count': 16009,\n",
       "  'lang': None,\n",
       "  'contributors_enabled': False,\n",
       "  'is_translator': False,\n",
       "  'is_translation_enabled': False,\n",
       "  'profile_background_color': '000000',\n",
       "  'profile_background_image_url': 'http://abs.twimg.com/images/themes/theme1/bg.png',\n",
       "  'profile_background_image_url_https': 'https://abs.twimg.com/images/themes/theme1/bg.png',\n",
       "  'profile_background_tile': False,\n",
       "  'profile_image_url': 'http://pbs.twimg.com/profile_images/1552995729014247425/TaJbIdmK_normal.jpg',\n",
       "  'profile_image_url_https': 'https://pbs.twimg.com/profile_images/1552995729014247425/TaJbIdmK_normal.jpg',\n",
       "  'profile_banner_url': 'https://pbs.twimg.com/profile_banners/4196983835/1617810473',\n",
       "  'profile_link_color': 'F5ABB5',\n",
       "  'profile_sidebar_border_color': '000000',\n",
       "  'profile_sidebar_fill_color': '000000',\n",
       "  'profile_text_color': '000000',\n",
       "  'profile_use_background_image': False,\n",
       "  'has_extended_profile': False,\n",
       "  'default_profile': False,\n",
       "  'default_profile_image': False,\n",
       "  'following': False,\n",
       "  'follow_request_sent': False,\n",
       "  'notifications': False,\n",
       "  'translator_type': 'none',\n",
       "  'withheld_in_countries': []},\n",
       " 'geo': None,\n",
       " 'coordinates': None,\n",
       " 'place': None,\n",
       " 'contributors': None,\n",
       " 'is_quote_status': False,\n",
       " 'retweet_count': 5284,\n",
       " 'favorite_count': 29252,\n",
       " 'favorited': False,\n",
       " 'retweeted': False,\n",
       " 'possibly_sensitive': False,\n",
       " 'possibly_sensitive_appealable': False,\n",
       " 'lang': 'en'}"
      ]
     },
     "execution_count": 17,
     "metadata": {},
     "output_type": "execute_result"
    }
   ],
   "source": [
    "#Take a look at a sample return\n",
    "api.get_status(df_tw.tweet_id[1])"
   ]
  },
  {
   "cell_type": "code",
   "execution_count": 18,
   "metadata": {},
   "outputs": [],
   "source": [
    "#Find variables in interest:\n",
    "## 1. 'id_str': tweet id (identifier) (type: string)\n",
    "## 2. 'retweet_count': The number of retweets (type: int)\n",
    "## 3. 'favorite_count': The number of Tweets this user has liked in the account’s lifetime (type: int)\n",
    "## 4. 'created_at':The UTC datetime that the user account was created on Twitter. (type: string)"
   ]
  },
  {
   "cell_type": "code",
   "execution_count": 19,
   "metadata": {},
   "outputs": [],
   "source": [
    "#Collect data from Twitter API"
   ]
  },
  {
   "cell_type": "code",
   "execution_count": 20,
   "metadata": {},
   "outputs": [],
   "source": [
    "##Create a list for creating dataframe later\n",
    "df_list = []\n",
    "df_list_error = []"
   ]
  },
  {
   "cell_type": "code",
   "execution_count": 21,
   "metadata": {},
   "outputs": [
    {
     "name": "stdout",
     "output_type": "stream",
     "text": [
      "888202515573088257 _ 404 Not Found\n",
      "144 - No status found with that ID.\n",
      "873697596434513921 _ 404 Not Found\n",
      "144 - No status found with that ID.\n",
      "872668790621863937 _ 404 Not Found\n",
      "144 - No status found with that ID.\n",
      "872261713294495745 _ 404 Not Found\n",
      "144 - No status found with that ID.\n",
      "869988702071779329 _ 404 Not Found\n",
      "144 - No status found with that ID.\n",
      "866816280283807744 _ 404 Not Found\n",
      "144 - No status found with that ID.\n",
      "861769973181624320 _ 404 Not Found\n",
      "144 - No status found with that ID.\n",
      "856602993587888130 _ 404 Not Found\n",
      "144 - No status found with that ID.\n",
      "856330835276025856 _ 404 Not Found\n",
      "144 - No status found with that ID.\n",
      "851953902622658560 _ 404 Not Found\n",
      "144 - No status found with that ID.\n",
      "851861385021730816 _ 404 Not Found\n",
      "144 - No status found with that ID.\n",
      "845459076796616705 _ 404 Not Found\n",
      "144 - No status found with that ID.\n",
      "844704788403113984 _ 404 Not Found\n",
      "144 - No status found with that ID.\n",
      "842892208864923648 _ 404 Not Found\n",
      "144 - No status found with that ID.\n",
      "837366284874571778 _ 404 Not Found\n",
      "144 - No status found with that ID.\n",
      "837012587749474308 _ 404 Not Found\n",
      "144 - No status found with that ID.\n",
      "829374341691346946 _ 404 Not Found\n",
      "144 - No status found with that ID.\n",
      "827228250799742977 _ 404 Not Found\n",
      "144 - No status found with that ID.\n",
      "812747805718642688 _ 404 Not Found\n",
      "144 - No status found with that ID.\n",
      "802247111496568832 _ 404 Not Found\n",
      "144 - No status found with that ID.\n",
      "779123168116150273 _ 404 Not Found\n",
      "144 - No status found with that ID.\n",
      "775096608509886464 _ 404 Not Found\n",
      "144 - No status found with that ID.\n",
      "771004394259247104 _ 403 Forbidden\n",
      "179 - Sorry, you are not authorized to see this status.\n",
      "770743923962707968 _ 404 Not Found\n",
      "144 - No status found with that ID.\n",
      "766864461642756096 _ 404 Not Found\n",
      "144 - No status found with that ID.\n",
      "759923798737051648 _ 404 Not Found\n",
      "144 - No status found with that ID.\n",
      "759566828574212096 _ 404 Not Found\n",
      "144 - No status found with that ID.\n"
     ]
    },
    {
     "name": "stderr",
     "output_type": "stream",
     "text": [
      "Rate limit reached. Sleeping for: 785\n"
     ]
    },
    {
     "name": "stdout",
     "output_type": "stream",
     "text": [
      "754011816964026368 _ 404 Not Found\n",
      "144 - No status found with that ID.\n",
      "680055455951884288 _ 404 Not Found\n",
      "144 - No status found with that ID.\n"
     ]
    },
    {
     "name": "stderr",
     "output_type": "stream",
     "text": [
      "Rate limit reached. Sleeping for: 787\n"
     ]
    },
    {
     "name": "stdout",
     "output_type": "stream",
     "text": [
      "total_time : 1873.493439912796\n"
     ]
    }
   ],
   "source": [
    "#Get the start time\n",
    "import time\n",
    "start = time.time()\n",
    "\n",
    "for tweet_id in df_tw.tweet_id:\n",
    "    try:\n",
    "        output = api.get_status(tweet_id)\n",
    "        \n",
    "        retweets = output['retweet_count']\n",
    "        favorites = output['favorite_count']\n",
    "        creation_time = output['created_at']\n",
    "        \n",
    "        df_list.append({'tweet_id': int(tweet_id),\n",
    "                        'retweets': int(retweets),\n",
    "                        'favorites': int(favorites),\n",
    "                        'creation_time': pd.to_datetime(creation_time)})\n",
    "    \n",
    "    except Exception as errors:\n",
    "        print(str(tweet_id)+ \" _ \" + str(errors))\n",
    "        df_list_error.append(tweet_id)\n",
    "\n",
    "#Get the end time\n",
    "end = time.time()\n",
    "\n",
    "#Calculate the total execution time\n",
    "print('total_time',':', end-start)"
   ]
  },
  {
   "cell_type": "code",
   "execution_count": 47,
   "metadata": {},
   "outputs": [
    {
     "name": "stdout",
     "output_type": "stream",
     "text": [
      "N of results retrieved is : 2327\n",
      "N of errors received is : 29\n"
     ]
    }
   ],
   "source": [
    "# N of results:\n",
    "print('N of results retrieved is',':',len(df_list))\n",
    "# N of errors:\n",
    "print('N of errors received is',':',len(df_list_error))"
   ]
  },
  {
   "cell_type": "code",
   "execution_count": 48,
   "metadata": {},
   "outputs": [],
   "source": [
    "#Create the new dataframe\n",
    "df_tweepy = pd.DataFrame(df_list)"
   ]
  },
  {
   "cell_type": "code",
   "execution_count": 49,
   "metadata": {},
   "outputs": [],
   "source": [
    "#Check the error tweet_ids\n",
    "df_tweepy_error = pd.DataFrame(df_list_error,columns={'tweet_id'})"
   ]
  },
  {
   "cell_type": "code",
   "execution_count": 50,
   "metadata": {},
   "outputs": [
    {
     "data": {
      "text/html": [
       "<div>\n",
       "<style scoped>\n",
       "    .dataframe tbody tr th:only-of-type {\n",
       "        vertical-align: middle;\n",
       "    }\n",
       "\n",
       "    .dataframe tbody tr th {\n",
       "        vertical-align: top;\n",
       "    }\n",
       "\n",
       "    .dataframe thead th {\n",
       "        text-align: right;\n",
       "    }\n",
       "</style>\n",
       "<table border=\"1\" class=\"dataframe\">\n",
       "  <thead>\n",
       "    <tr style=\"text-align: right;\">\n",
       "      <th></th>\n",
       "      <th>tweet_id</th>\n",
       "    </tr>\n",
       "  </thead>\n",
       "  <tbody>\n",
       "    <tr>\n",
       "      <th>0</th>\n",
       "      <td>888202515573088257</td>\n",
       "    </tr>\n",
       "    <tr>\n",
       "      <th>1</th>\n",
       "      <td>873697596434513921</td>\n",
       "    </tr>\n",
       "    <tr>\n",
       "      <th>2</th>\n",
       "      <td>872668790621863937</td>\n",
       "    </tr>\n",
       "    <tr>\n",
       "      <th>3</th>\n",
       "      <td>872261713294495745</td>\n",
       "    </tr>\n",
       "    <tr>\n",
       "      <th>4</th>\n",
       "      <td>869988702071779329</td>\n",
       "    </tr>\n",
       "  </tbody>\n",
       "</table>\n",
       "</div>"
      ],
      "text/plain": [
       "             tweet_id\n",
       "0  888202515573088257\n",
       "1  873697596434513921\n",
       "2  872668790621863937\n",
       "3  872261713294495745\n",
       "4  869988702071779329"
      ]
     },
     "execution_count": 50,
     "metadata": {},
     "output_type": "execute_result"
    }
   ],
   "source": [
    "df_tweepy_error.head()"
   ]
  },
  {
   "cell_type": "code",
   "execution_count": 51,
   "metadata": {},
   "outputs": [],
   "source": [
    "df_list_recheck = []\n",
    "df_list_error_recheck = []\n",
    "\n",
    "#re-check the error tweets\n",
    "for tweet_id in df_tweepy_error.tweet_id:\n",
    "    try:\n",
    "        retweets = output['retweet_count']\n",
    "        favorites = output['favorite_count']\n",
    "        creation_time = output['created_at']\n",
    "        \n",
    "        df_list_recheck.append({'tweet_id': int(tweet_id),\n",
    "                        'retweets': int(retweets),\n",
    "                        'favorites': int(favorites),\n",
    "                        'creation_time': pd.to_datetime(creation_time)})\n",
    "    \n",
    "    except Exception as errors:\n",
    "        print(str(tweet_id)+ \" _ \" + str(errors))\n",
    "        df_list_error_recheck.append(tweet_id)"
   ]
  },
  {
   "cell_type": "code",
   "execution_count": 52,
   "metadata": {},
   "outputs": [
    {
     "name": "stdout",
     "output_type": "stream",
     "text": [
      "N of results retrieved is : 29\n",
      "N of errors received is : 0\n"
     ]
    }
   ],
   "source": [
    "# N of recheck results:\n",
    "print('N of results retrieved is',':',len(df_list_recheck))\n",
    "# N of recheck errors:\n",
    "print('N of errors received is',':',len(df_list_error_recheck))"
   ]
  },
  {
   "cell_type": "code",
   "execution_count": 53,
   "metadata": {},
   "outputs": [],
   "source": [
    "# Combine the newly retrived data with the previously retrived data\n",
    "df_tweepy = df_tweepy.append(df_list_recheck)"
   ]
  },
  {
   "cell_type": "code",
   "execution_count": 54,
   "metadata": {},
   "outputs": [
    {
     "data": {
      "text/html": [
       "<div>\n",
       "<style scoped>\n",
       "    .dataframe tbody tr th:only-of-type {\n",
       "        vertical-align: middle;\n",
       "    }\n",
       "\n",
       "    .dataframe tbody tr th {\n",
       "        vertical-align: top;\n",
       "    }\n",
       "\n",
       "    .dataframe thead th {\n",
       "        text-align: right;\n",
       "    }\n",
       "</style>\n",
       "<table border=\"1\" class=\"dataframe\">\n",
       "  <thead>\n",
       "    <tr style=\"text-align: right;\">\n",
       "      <th></th>\n",
       "      <th>tweet_id</th>\n",
       "      <th>retweets</th>\n",
       "      <th>favorites</th>\n",
       "      <th>creation_time</th>\n",
       "    </tr>\n",
       "  </thead>\n",
       "  <tbody>\n",
       "    <tr>\n",
       "      <th>0</th>\n",
       "      <td>892420643555336193</td>\n",
       "      <td>6982</td>\n",
       "      <td>33725</td>\n",
       "      <td>2017-08-01 16:23:56+00:00</td>\n",
       "    </tr>\n",
       "    <tr>\n",
       "      <th>1</th>\n",
       "      <td>892177421306343426</td>\n",
       "      <td>5284</td>\n",
       "      <td>29252</td>\n",
       "      <td>2017-08-01 00:17:27+00:00</td>\n",
       "    </tr>\n",
       "    <tr>\n",
       "      <th>2</th>\n",
       "      <td>891815181378084864</td>\n",
       "      <td>3469</td>\n",
       "      <td>21988</td>\n",
       "      <td>2017-07-31 00:18:03+00:00</td>\n",
       "    </tr>\n",
       "    <tr>\n",
       "      <th>3</th>\n",
       "      <td>891689557279858688</td>\n",
       "      <td>7197</td>\n",
       "      <td>36809</td>\n",
       "      <td>2017-07-30 15:58:51+00:00</td>\n",
       "    </tr>\n",
       "    <tr>\n",
       "      <th>4</th>\n",
       "      <td>891327558926688256</td>\n",
       "      <td>7730</td>\n",
       "      <td>35194</td>\n",
       "      <td>2017-07-29 16:00:24+00:00</td>\n",
       "    </tr>\n",
       "  </tbody>\n",
       "</table>\n",
       "</div>"
      ],
      "text/plain": [
       "             tweet_id  retweets  favorites             creation_time\n",
       "0  892420643555336193      6982      33725 2017-08-01 16:23:56+00:00\n",
       "1  892177421306343426      5284      29252 2017-08-01 00:17:27+00:00\n",
       "2  891815181378084864      3469      21988 2017-07-31 00:18:03+00:00\n",
       "3  891689557279858688      7197      36809 2017-07-30 15:58:51+00:00\n",
       "4  891327558926688256      7730      35194 2017-07-29 16:00:24+00:00"
      ]
     },
     "execution_count": 54,
     "metadata": {},
     "output_type": "execute_result"
    }
   ],
   "source": [
    "df_tweepy.head()"
   ]
  },
  {
   "cell_type": "code",
   "execution_count": 55,
   "metadata": {},
   "outputs": [
    {
     "data": {
      "text/plain": [
       "(2356, 4)"
      ]
     },
     "execution_count": 55,
     "metadata": {},
     "output_type": "execute_result"
    }
   ],
   "source": [
    "df_tweepy.shape"
   ]
  },
  {
   "cell_type": "code",
   "execution_count": 56,
   "metadata": {},
   "outputs": [],
   "source": [
    "#Save the new dataframe\n",
    "df_tweepy.to_csv('tweet_json.txt',encoding = 'utf-8', index = False)"
   ]
  },
  {
   "cell_type": "code",
   "execution_count": 57,
   "metadata": {},
   "outputs": [
    {
     "data": {
      "text/html": [
       "<div>\n",
       "<style scoped>\n",
       "    .dataframe tbody tr th:only-of-type {\n",
       "        vertical-align: middle;\n",
       "    }\n",
       "\n",
       "    .dataframe tbody tr th {\n",
       "        vertical-align: top;\n",
       "    }\n",
       "\n",
       "    .dataframe thead th {\n",
       "        text-align: right;\n",
       "    }\n",
       "</style>\n",
       "<table border=\"1\" class=\"dataframe\">\n",
       "  <thead>\n",
       "    <tr style=\"text-align: right;\">\n",
       "      <th></th>\n",
       "      <th>tweet_id</th>\n",
       "      <th>retweets</th>\n",
       "      <th>favorites</th>\n",
       "      <th>creation_time</th>\n",
       "    </tr>\n",
       "  </thead>\n",
       "  <tbody>\n",
       "    <tr>\n",
       "      <th>0</th>\n",
       "      <td>892420643555336193</td>\n",
       "      <td>6982</td>\n",
       "      <td>33725</td>\n",
       "      <td>2017-08-01 16:23:56+00:00</td>\n",
       "    </tr>\n",
       "    <tr>\n",
       "      <th>1</th>\n",
       "      <td>892177421306343426</td>\n",
       "      <td>5284</td>\n",
       "      <td>29252</td>\n",
       "      <td>2017-08-01 00:17:27+00:00</td>\n",
       "    </tr>\n",
       "    <tr>\n",
       "      <th>2</th>\n",
       "      <td>891815181378084864</td>\n",
       "      <td>3469</td>\n",
       "      <td>21988</td>\n",
       "      <td>2017-07-31 00:18:03+00:00</td>\n",
       "    </tr>\n",
       "    <tr>\n",
       "      <th>3</th>\n",
       "      <td>891689557279858688</td>\n",
       "      <td>7197</td>\n",
       "      <td>36809</td>\n",
       "      <td>2017-07-30 15:58:51+00:00</td>\n",
       "    </tr>\n",
       "    <tr>\n",
       "      <th>4</th>\n",
       "      <td>891327558926688256</td>\n",
       "      <td>7730</td>\n",
       "      <td>35194</td>\n",
       "      <td>2017-07-29 16:00:24+00:00</td>\n",
       "    </tr>\n",
       "  </tbody>\n",
       "</table>\n",
       "</div>"
      ],
      "text/plain": [
       "             tweet_id  retweets  favorites              creation_time\n",
       "0  892420643555336193      6982      33725  2017-08-01 16:23:56+00:00\n",
       "1  892177421306343426      5284      29252  2017-08-01 00:17:27+00:00\n",
       "2  891815181378084864      3469      21988  2017-07-31 00:18:03+00:00\n",
       "3  891689557279858688      7197      36809  2017-07-30 15:58:51+00:00\n",
       "4  891327558926688256      7730      35194  2017-07-29 16:00:24+00:00"
      ]
     },
     "execution_count": 57,
     "metadata": {},
     "output_type": "execute_result"
    }
   ],
   "source": [
    "df_tweepy_json = pd.read_csv('tweet_json.txt', encoding = 'utf-8')\n",
    "df_tweepy_json.head()"
   ]
  },
  {
   "cell_type": "markdown",
   "metadata": {
    "extensions": {
     "jupyter_dashboards": {
      "version": 1,
      "views": {
       "grid_default": {
        "col": 4,
        "height": 4,
        "hidden": false,
        "row": 28,
        "width": 4
       },
       "report_default": {
        "hidden": false
       }
      }
     }
    }
   },
   "source": [
    "## Assessing Data\n",
    "In this section, detect and document at least **eight (8) quality issues and two (2) tidiness issue**. You must use **both** visual assessment\n",
    "programmatic assessement to assess the data.\n",
    "\n",
    "**Note:** pay attention to the following key points when you access the data.\n",
    "\n",
    "* You only want original ratings (no retweets) that have images. Though there are 5000+ tweets in the dataset, not all are dog ratings and some are retweets.\n",
    "* Assessing and cleaning the entire dataset completely would require a lot of time, and is not necessary to practice and demonstrate your skills in data wrangling. Therefore, the requirements of this project are only to assess and clean at least 8 quality issues and at least 2 tidiness issues in this dataset.\n",
    "* The fact that the rating numerators are greater than the denominators does not need to be cleaned. This [unique rating system](http://knowyourmeme.com/memes/theyre-good-dogs-brent) is a big part of the popularity of WeRateDogs.\n",
    "* You do not need to gather the tweets beyond August 1st, 2017. You can, but note that you won't be able to gather the image predictions for these tweets since you don't have access to the algorithm used.\n",
    "\n"
   ]
  },
  {
   "cell_type": "markdown",
   "metadata": {},
   "source": [
    "##### Quality issues: \n",
    "* completeness - whether we have all of the records we should\n",
    "* validity - whether the data conforms to a defined scheme\n",
    "* accuracy - whether the data is incorrect\n",
    "* consistency - whether the data conforms to a standardized format\n",
    "\n",
    "##### Tidiness issue:\n",
    "* whether each variable forms a column\n",
    "* whether each observation forms a row\n",
    "* whether each type of observational unit forms a table"
   ]
  },
  {
   "cell_type": "markdown",
   "metadata": {},
   "source": [
    "#### Assesing ```df_tw``` (i.e., ```twitter-archive-enhanced.csv```)"
   ]
  },
  {
   "cell_type": "code",
   "execution_count": 259,
   "metadata": {},
   "outputs": [
    {
     "data": {
      "text/html": [
       "<div>\n",
       "<style scoped>\n",
       "    .dataframe tbody tr th:only-of-type {\n",
       "        vertical-align: middle;\n",
       "    }\n",
       "\n",
       "    .dataframe tbody tr th {\n",
       "        vertical-align: top;\n",
       "    }\n",
       "\n",
       "    .dataframe thead th {\n",
       "        text-align: right;\n",
       "    }\n",
       "</style>\n",
       "<table border=\"1\" class=\"dataframe\">\n",
       "  <thead>\n",
       "    <tr style=\"text-align: right;\">\n",
       "      <th></th>\n",
       "      <th>tweet_id</th>\n",
       "      <th>in_reply_to_status_id</th>\n",
       "      <th>in_reply_to_user_id</th>\n",
       "      <th>timestamp</th>\n",
       "      <th>source</th>\n",
       "      <th>text</th>\n",
       "      <th>retweeted_status_id</th>\n",
       "      <th>retweeted_status_user_id</th>\n",
       "      <th>retweeted_status_timestamp</th>\n",
       "      <th>expanded_urls</th>\n",
       "      <th>rating_numerator</th>\n",
       "      <th>rating_denominator</th>\n",
       "      <th>name</th>\n",
       "      <th>doggo</th>\n",
       "      <th>floofer</th>\n",
       "      <th>pupper</th>\n",
       "      <th>puppo</th>\n",
       "    </tr>\n",
       "  </thead>\n",
       "  <tbody>\n",
       "    <tr>\n",
       "      <th>0</th>\n",
       "      <td>892420643555336193</td>\n",
       "      <td>NaN</td>\n",
       "      <td>NaN</td>\n",
       "      <td>2017-08-01 16:23:56 +0000</td>\n",
       "      <td>&lt;a href=\"http://twitter.com/download/iphone\" rel=\"nofollow\"&gt;Twitter for iPhone&lt;/a&gt;</td>\n",
       "      <td>This is Phineas. He's a mystical boy. Only ever appears in the hole of a donut. 13/10 https://t.co/MgUWQ76dJU</td>\n",
       "      <td>NaN</td>\n",
       "      <td>NaN</td>\n",
       "      <td>NaN</td>\n",
       "      <td>https://twitter.com/dog_rates/status/892420643555336193/photo/1</td>\n",
       "      <td>13</td>\n",
       "      <td>10</td>\n",
       "      <td>Phineas</td>\n",
       "      <td>None</td>\n",
       "      <td>None</td>\n",
       "      <td>None</td>\n",
       "      <td>None</td>\n",
       "    </tr>\n",
       "    <tr>\n",
       "      <th>1</th>\n",
       "      <td>892177421306343426</td>\n",
       "      <td>NaN</td>\n",
       "      <td>NaN</td>\n",
       "      <td>2017-08-01 00:17:27 +0000</td>\n",
       "      <td>&lt;a href=\"http://twitter.com/download/iphone\" rel=\"nofollow\"&gt;Twitter for iPhone&lt;/a&gt;</td>\n",
       "      <td>This is Tilly. She's just checking pup on you. Hopes you're doing ok. If not, she's available for pats, snugs, boops, the whole bit. 13/10 https://t.co/0Xxu71qeIV</td>\n",
       "      <td>NaN</td>\n",
       "      <td>NaN</td>\n",
       "      <td>NaN</td>\n",
       "      <td>https://twitter.com/dog_rates/status/892177421306343426/photo/1</td>\n",
       "      <td>13</td>\n",
       "      <td>10</td>\n",
       "      <td>Tilly</td>\n",
       "      <td>None</td>\n",
       "      <td>None</td>\n",
       "      <td>None</td>\n",
       "      <td>None</td>\n",
       "    </tr>\n",
       "    <tr>\n",
       "      <th>2</th>\n",
       "      <td>891815181378084864</td>\n",
       "      <td>NaN</td>\n",
       "      <td>NaN</td>\n",
       "      <td>2017-07-31 00:18:03 +0000</td>\n",
       "      <td>&lt;a href=\"http://twitter.com/download/iphone\" rel=\"nofollow\"&gt;Twitter for iPhone&lt;/a&gt;</td>\n",
       "      <td>This is Archie. He is a rare Norwegian Pouncing Corgo. Lives in the tall grass. You never know when one may strike. 12/10 https://t.co/wUnZnhtVJB</td>\n",
       "      <td>NaN</td>\n",
       "      <td>NaN</td>\n",
       "      <td>NaN</td>\n",
       "      <td>https://twitter.com/dog_rates/status/891815181378084864/photo/1</td>\n",
       "      <td>12</td>\n",
       "      <td>10</td>\n",
       "      <td>Archie</td>\n",
       "      <td>None</td>\n",
       "      <td>None</td>\n",
       "      <td>None</td>\n",
       "      <td>None</td>\n",
       "    </tr>\n",
       "    <tr>\n",
       "      <th>3</th>\n",
       "      <td>891689557279858688</td>\n",
       "      <td>NaN</td>\n",
       "      <td>NaN</td>\n",
       "      <td>2017-07-30 15:58:51 +0000</td>\n",
       "      <td>&lt;a href=\"http://twitter.com/download/iphone\" rel=\"nofollow\"&gt;Twitter for iPhone&lt;/a&gt;</td>\n",
       "      <td>This is Darla. She commenced a snooze mid meal. 13/10 happens to the best of us https://t.co/tD36da7qLQ</td>\n",
       "      <td>NaN</td>\n",
       "      <td>NaN</td>\n",
       "      <td>NaN</td>\n",
       "      <td>https://twitter.com/dog_rates/status/891689557279858688/photo/1</td>\n",
       "      <td>13</td>\n",
       "      <td>10</td>\n",
       "      <td>Darla</td>\n",
       "      <td>None</td>\n",
       "      <td>None</td>\n",
       "      <td>None</td>\n",
       "      <td>None</td>\n",
       "    </tr>\n",
       "    <tr>\n",
       "      <th>4</th>\n",
       "      <td>891327558926688256</td>\n",
       "      <td>NaN</td>\n",
       "      <td>NaN</td>\n",
       "      <td>2017-07-29 16:00:24 +0000</td>\n",
       "      <td>&lt;a href=\"http://twitter.com/download/iphone\" rel=\"nofollow\"&gt;Twitter for iPhone&lt;/a&gt;</td>\n",
       "      <td>This is Franklin. He would like you to stop calling him \"cute.\" He is a very fierce shark and should be respected as such. 12/10 #BarkWeek https://t.co/AtUZn91f7f</td>\n",
       "      <td>NaN</td>\n",
       "      <td>NaN</td>\n",
       "      <td>NaN</td>\n",
       "      <td>https://twitter.com/dog_rates/status/891327558926688256/photo/1,https://twitter.com/dog_rates/status/891327558926688256/photo/1</td>\n",
       "      <td>12</td>\n",
       "      <td>10</td>\n",
       "      <td>Franklin</td>\n",
       "      <td>None</td>\n",
       "      <td>None</td>\n",
       "      <td>None</td>\n",
       "      <td>None</td>\n",
       "    </tr>\n",
       "    <tr>\n",
       "      <th>...</th>\n",
       "      <td>...</td>\n",
       "      <td>...</td>\n",
       "      <td>...</td>\n",
       "      <td>...</td>\n",
       "      <td>...</td>\n",
       "      <td>...</td>\n",
       "      <td>...</td>\n",
       "      <td>...</td>\n",
       "      <td>...</td>\n",
       "      <td>...</td>\n",
       "      <td>...</td>\n",
       "      <td>...</td>\n",
       "      <td>...</td>\n",
       "      <td>...</td>\n",
       "      <td>...</td>\n",
       "      <td>...</td>\n",
       "      <td>...</td>\n",
       "    </tr>\n",
       "    <tr>\n",
       "      <th>2351</th>\n",
       "      <td>666049248165822465</td>\n",
       "      <td>NaN</td>\n",
       "      <td>NaN</td>\n",
       "      <td>2015-11-16 00:24:50 +0000</td>\n",
       "      <td>&lt;a href=\"http://twitter.com/download/iphone\" rel=\"nofollow\"&gt;Twitter for iPhone&lt;/a&gt;</td>\n",
       "      <td>Here we have a 1949 1st generation vulpix. Enjoys sweat tea and Fox News. Cannot be phased. 5/10 https://t.co/4B7cOc1EDq</td>\n",
       "      <td>NaN</td>\n",
       "      <td>NaN</td>\n",
       "      <td>NaN</td>\n",
       "      <td>https://twitter.com/dog_rates/status/666049248165822465/photo/1</td>\n",
       "      <td>5</td>\n",
       "      <td>10</td>\n",
       "      <td>None</td>\n",
       "      <td>None</td>\n",
       "      <td>None</td>\n",
       "      <td>None</td>\n",
       "      <td>None</td>\n",
       "    </tr>\n",
       "    <tr>\n",
       "      <th>2352</th>\n",
       "      <td>666044226329800704</td>\n",
       "      <td>NaN</td>\n",
       "      <td>NaN</td>\n",
       "      <td>2015-11-16 00:04:52 +0000</td>\n",
       "      <td>&lt;a href=\"http://twitter.com/download/iphone\" rel=\"nofollow\"&gt;Twitter for iPhone&lt;/a&gt;</td>\n",
       "      <td>This is a purebred Piers Morgan. Loves to Netflix and chill. Always looks like he forgot to unplug the iron. 6/10 https://t.co/DWnyCjf2mx</td>\n",
       "      <td>NaN</td>\n",
       "      <td>NaN</td>\n",
       "      <td>NaN</td>\n",
       "      <td>https://twitter.com/dog_rates/status/666044226329800704/photo/1</td>\n",
       "      <td>6</td>\n",
       "      <td>10</td>\n",
       "      <td>a</td>\n",
       "      <td>None</td>\n",
       "      <td>None</td>\n",
       "      <td>None</td>\n",
       "      <td>None</td>\n",
       "    </tr>\n",
       "    <tr>\n",
       "      <th>2353</th>\n",
       "      <td>666033412701032449</td>\n",
       "      <td>NaN</td>\n",
       "      <td>NaN</td>\n",
       "      <td>2015-11-15 23:21:54 +0000</td>\n",
       "      <td>&lt;a href=\"http://twitter.com/download/iphone\" rel=\"nofollow\"&gt;Twitter for iPhone&lt;/a&gt;</td>\n",
       "      <td>Here is a very happy pup. Big fan of well-maintained decks. Just look at that tongue. 9/10 would cuddle af https://t.co/y671yMhoiR</td>\n",
       "      <td>NaN</td>\n",
       "      <td>NaN</td>\n",
       "      <td>NaN</td>\n",
       "      <td>https://twitter.com/dog_rates/status/666033412701032449/photo/1</td>\n",
       "      <td>9</td>\n",
       "      <td>10</td>\n",
       "      <td>a</td>\n",
       "      <td>None</td>\n",
       "      <td>None</td>\n",
       "      <td>None</td>\n",
       "      <td>None</td>\n",
       "    </tr>\n",
       "    <tr>\n",
       "      <th>2354</th>\n",
       "      <td>666029285002620928</td>\n",
       "      <td>NaN</td>\n",
       "      <td>NaN</td>\n",
       "      <td>2015-11-15 23:05:30 +0000</td>\n",
       "      <td>&lt;a href=\"http://twitter.com/download/iphone\" rel=\"nofollow\"&gt;Twitter for iPhone&lt;/a&gt;</td>\n",
       "      <td>This is a western brown Mitsubishi terrier. Upset about leaf. Actually 2 dogs here. 7/10 would walk the shit out of https://t.co/r7mOb2m0UI</td>\n",
       "      <td>NaN</td>\n",
       "      <td>NaN</td>\n",
       "      <td>NaN</td>\n",
       "      <td>https://twitter.com/dog_rates/status/666029285002620928/photo/1</td>\n",
       "      <td>7</td>\n",
       "      <td>10</td>\n",
       "      <td>a</td>\n",
       "      <td>None</td>\n",
       "      <td>None</td>\n",
       "      <td>None</td>\n",
       "      <td>None</td>\n",
       "    </tr>\n",
       "    <tr>\n",
       "      <th>2355</th>\n",
       "      <td>666020888022790149</td>\n",
       "      <td>NaN</td>\n",
       "      <td>NaN</td>\n",
       "      <td>2015-11-15 22:32:08 +0000</td>\n",
       "      <td>&lt;a href=\"http://twitter.com/download/iphone\" rel=\"nofollow\"&gt;Twitter for iPhone&lt;/a&gt;</td>\n",
       "      <td>Here we have a Japanese Irish Setter. Lost eye in Vietnam (?). Big fan of relaxing on stair. 8/10 would pet https://t.co/BLDqew2Ijj</td>\n",
       "      <td>NaN</td>\n",
       "      <td>NaN</td>\n",
       "      <td>NaN</td>\n",
       "      <td>https://twitter.com/dog_rates/status/666020888022790149/photo/1</td>\n",
       "      <td>8</td>\n",
       "      <td>10</td>\n",
       "      <td>None</td>\n",
       "      <td>None</td>\n",
       "      <td>None</td>\n",
       "      <td>None</td>\n",
       "      <td>None</td>\n",
       "    </tr>\n",
       "  </tbody>\n",
       "</table>\n",
       "<p>2356 rows × 17 columns</p>\n",
       "</div>"
      ],
      "text/plain": [
       "                tweet_id  in_reply_to_status_id  in_reply_to_user_id  \\\n",
       "0     892420643555336193                    NaN                  NaN   \n",
       "1     892177421306343426                    NaN                  NaN   \n",
       "2     891815181378084864                    NaN                  NaN   \n",
       "3     891689557279858688                    NaN                  NaN   \n",
       "4     891327558926688256                    NaN                  NaN   \n",
       "...                  ...                    ...                  ...   \n",
       "2351  666049248165822465                    NaN                  NaN   \n",
       "2352  666044226329800704                    NaN                  NaN   \n",
       "2353  666033412701032449                    NaN                  NaN   \n",
       "2354  666029285002620928                    NaN                  NaN   \n",
       "2355  666020888022790149                    NaN                  NaN   \n",
       "\n",
       "                      timestamp  \\\n",
       "0     2017-08-01 16:23:56 +0000   \n",
       "1     2017-08-01 00:17:27 +0000   \n",
       "2     2017-07-31 00:18:03 +0000   \n",
       "3     2017-07-30 15:58:51 +0000   \n",
       "4     2017-07-29 16:00:24 +0000   \n",
       "...                         ...   \n",
       "2351  2015-11-16 00:24:50 +0000   \n",
       "2352  2015-11-16 00:04:52 +0000   \n",
       "2353  2015-11-15 23:21:54 +0000   \n",
       "2354  2015-11-15 23:05:30 +0000   \n",
       "2355  2015-11-15 22:32:08 +0000   \n",
       "\n",
       "                                                                                  source  \\\n",
       "0     <a href=\"http://twitter.com/download/iphone\" rel=\"nofollow\">Twitter for iPhone</a>   \n",
       "1     <a href=\"http://twitter.com/download/iphone\" rel=\"nofollow\">Twitter for iPhone</a>   \n",
       "2     <a href=\"http://twitter.com/download/iphone\" rel=\"nofollow\">Twitter for iPhone</a>   \n",
       "3     <a href=\"http://twitter.com/download/iphone\" rel=\"nofollow\">Twitter for iPhone</a>   \n",
       "4     <a href=\"http://twitter.com/download/iphone\" rel=\"nofollow\">Twitter for iPhone</a>   \n",
       "...                                                                                  ...   \n",
       "2351  <a href=\"http://twitter.com/download/iphone\" rel=\"nofollow\">Twitter for iPhone</a>   \n",
       "2352  <a href=\"http://twitter.com/download/iphone\" rel=\"nofollow\">Twitter for iPhone</a>   \n",
       "2353  <a href=\"http://twitter.com/download/iphone\" rel=\"nofollow\">Twitter for iPhone</a>   \n",
       "2354  <a href=\"http://twitter.com/download/iphone\" rel=\"nofollow\">Twitter for iPhone</a>   \n",
       "2355  <a href=\"http://twitter.com/download/iphone\" rel=\"nofollow\">Twitter for iPhone</a>   \n",
       "\n",
       "                                                                                                                                                                    text  \\\n",
       "0                                                          This is Phineas. He's a mystical boy. Only ever appears in the hole of a donut. 13/10 https://t.co/MgUWQ76dJU   \n",
       "1     This is Tilly. She's just checking pup on you. Hopes you're doing ok. If not, she's available for pats, snugs, boops, the whole bit. 13/10 https://t.co/0Xxu71qeIV   \n",
       "2                      This is Archie. He is a rare Norwegian Pouncing Corgo. Lives in the tall grass. You never know when one may strike. 12/10 https://t.co/wUnZnhtVJB   \n",
       "3                                                                This is Darla. She commenced a snooze mid meal. 13/10 happens to the best of us https://t.co/tD36da7qLQ   \n",
       "4     This is Franklin. He would like you to stop calling him \"cute.\" He is a very fierce shark and should be respected as such. 12/10 #BarkWeek https://t.co/AtUZn91f7f   \n",
       "...                                                                                                                                                                  ...   \n",
       "2351                                            Here we have a 1949 1st generation vulpix. Enjoys sweat tea and Fox News. Cannot be phased. 5/10 https://t.co/4B7cOc1EDq   \n",
       "2352                           This is a purebred Piers Morgan. Loves to Netflix and chill. Always looks like he forgot to unplug the iron. 6/10 https://t.co/DWnyCjf2mx   \n",
       "2353                                  Here is a very happy pup. Big fan of well-maintained decks. Just look at that tongue. 9/10 would cuddle af https://t.co/y671yMhoiR   \n",
       "2354                         This is a western brown Mitsubishi terrier. Upset about leaf. Actually 2 dogs here. 7/10 would walk the shit out of https://t.co/r7mOb2m0UI   \n",
       "2355                                 Here we have a Japanese Irish Setter. Lost eye in Vietnam (?). Big fan of relaxing on stair. 8/10 would pet https://t.co/BLDqew2Ijj   \n",
       "\n",
       "      retweeted_status_id  retweeted_status_user_id  \\\n",
       "0                     NaN                       NaN   \n",
       "1                     NaN                       NaN   \n",
       "2                     NaN                       NaN   \n",
       "3                     NaN                       NaN   \n",
       "4                     NaN                       NaN   \n",
       "...                   ...                       ...   \n",
       "2351                  NaN                       NaN   \n",
       "2352                  NaN                       NaN   \n",
       "2353                  NaN                       NaN   \n",
       "2354                  NaN                       NaN   \n",
       "2355                  NaN                       NaN   \n",
       "\n",
       "     retweeted_status_timestamp  \\\n",
       "0                           NaN   \n",
       "1                           NaN   \n",
       "2                           NaN   \n",
       "3                           NaN   \n",
       "4                           NaN   \n",
       "...                         ...   \n",
       "2351                        NaN   \n",
       "2352                        NaN   \n",
       "2353                        NaN   \n",
       "2354                        NaN   \n",
       "2355                        NaN   \n",
       "\n",
       "                                                                                                                        expanded_urls  \\\n",
       "0                                                                     https://twitter.com/dog_rates/status/892420643555336193/photo/1   \n",
       "1                                                                     https://twitter.com/dog_rates/status/892177421306343426/photo/1   \n",
       "2                                                                     https://twitter.com/dog_rates/status/891815181378084864/photo/1   \n",
       "3                                                                     https://twitter.com/dog_rates/status/891689557279858688/photo/1   \n",
       "4     https://twitter.com/dog_rates/status/891327558926688256/photo/1,https://twitter.com/dog_rates/status/891327558926688256/photo/1   \n",
       "...                                                                                                                               ...   \n",
       "2351                                                                  https://twitter.com/dog_rates/status/666049248165822465/photo/1   \n",
       "2352                                                                  https://twitter.com/dog_rates/status/666044226329800704/photo/1   \n",
       "2353                                                                  https://twitter.com/dog_rates/status/666033412701032449/photo/1   \n",
       "2354                                                                  https://twitter.com/dog_rates/status/666029285002620928/photo/1   \n",
       "2355                                                                  https://twitter.com/dog_rates/status/666020888022790149/photo/1   \n",
       "\n",
       "      rating_numerator  rating_denominator      name doggo floofer pupper  \\\n",
       "0                   13                  10   Phineas  None    None   None   \n",
       "1                   13                  10     Tilly  None    None   None   \n",
       "2                   12                  10    Archie  None    None   None   \n",
       "3                   13                  10     Darla  None    None   None   \n",
       "4                   12                  10  Franklin  None    None   None   \n",
       "...                ...                 ...       ...   ...     ...    ...   \n",
       "2351                 5                  10      None  None    None   None   \n",
       "2352                 6                  10         a  None    None   None   \n",
       "2353                 9                  10         a  None    None   None   \n",
       "2354                 7                  10         a  None    None   None   \n",
       "2355                 8                  10      None  None    None   None   \n",
       "\n",
       "     puppo  \n",
       "0     None  \n",
       "1     None  \n",
       "2     None  \n",
       "3     None  \n",
       "4     None  \n",
       "...    ...  \n",
       "2351  None  \n",
       "2352  None  \n",
       "2353  None  \n",
       "2354  None  \n",
       "2355  None  \n",
       "\n",
       "[2356 rows x 17 columns]"
      ]
     },
     "execution_count": 259,
     "metadata": {},
     "output_type": "execute_result"
    }
   ],
   "source": [
    "##Virtually (print the dataframe and also check it in excel)\n",
    "df_tw"
   ]
  },
  {
   "cell_type": "code",
   "execution_count": 59,
   "metadata": {},
   "outputs": [],
   "source": [
    "##From virsual assessment, the dataset seems to have at least the following issues which are subject to progrmmatical assessment:\n",
    "###some tweets has retweets (retweeted_status_id, retweeted_status_user_id, retweeted_status_timestamp should always be none)\n",
    "###irrelevant values in expanded_urls (e.g., https://www.gofundme.com/3yd6y1c,https://twitter.com/dog_rates/status/878281511006478336/photo/1)\n",
    "###invalid number in rating_numerator (e.g., 143, 121) and rating_denominator (e.g., 130, 110)\n",
    "###invalid values for names (e.g., None, a, an, such)\n",
    "###multiple columns for one variable - dog stage (doggo, pupper, puppo, floofer)"
   ]
  },
  {
   "cell_type": "code",
   "execution_count": 60,
   "metadata": {},
   "outputs": [
    {
     "name": "stdout",
     "output_type": "stream",
     "text": [
      "<class 'pandas.core.frame.DataFrame'>\n",
      "RangeIndex: 2356 entries, 0 to 2355\n",
      "Data columns (total 18 columns):\n",
      " #   Column                      Non-Null Count  Dtype  \n",
      "---  ------                      --------------  -----  \n",
      " 0   Unnamed: 0                  2356 non-null   int64  \n",
      " 1   tweet_id                    2356 non-null   int64  \n",
      " 2   in_reply_to_status_id       78 non-null     float64\n",
      " 3   in_reply_to_user_id         78 non-null     float64\n",
      " 4   timestamp                   2356 non-null   object \n",
      " 5   source                      2356 non-null   object \n",
      " 6   text                        2356 non-null   object \n",
      " 7   retweeted_status_id         181 non-null    float64\n",
      " 8   retweeted_status_user_id    181 non-null    float64\n",
      " 9   retweeted_status_timestamp  181 non-null    object \n",
      " 10  expanded_urls               2297 non-null   object \n",
      " 11  rating_numerator            2356 non-null   int64  \n",
      " 12  rating_denominator          2356 non-null   int64  \n",
      " 13  name                        2356 non-null   object \n",
      " 14  doggo                       2356 non-null   object \n",
      " 15  floofer                     2356 non-null   object \n",
      " 16  pupper                      2356 non-null   object \n",
      " 17  puppo                       2356 non-null   object \n",
      "dtypes: float64(4), int64(4), object(10)\n",
      "memory usage: 331.4+ KB\n"
     ]
    }
   ],
   "source": [
    "##Programmatically\n",
    "\n",
    "###check information\n",
    "df_tw.info()"
   ]
  },
  {
   "cell_type": "code",
   "execution_count": 61,
   "metadata": {},
   "outputs": [],
   "source": [
    "####some variables have incorrect categories: \n",
    "\n",
    "##### tweet_id, in_reply_to_status_id, in_reply_to_user_id, retweeted_status_id, retweeted_status_user_id should be STRING\n",
    "##### timestamp, retweeted_status_timestamp should be DATETIME\n",
    "\n",
    "#### retweeted_status_id, retweeted_status_user_id, retweeted_status_timestamp has non-null values which are not in our interest (we are only interested in original ratings without retweets"
   ]
  },
  {
   "cell_type": "code",
   "execution_count": 62,
   "metadata": {},
   "outputs": [
    {
     "data": {
      "text/plain": [
       "Unnamed: 0                       0\n",
       "tweet_id                         0\n",
       "in_reply_to_status_id         2278\n",
       "in_reply_to_user_id           2278\n",
       "timestamp                        0\n",
       "source                           0\n",
       "text                             0\n",
       "retweeted_status_id           2175\n",
       "retweeted_status_user_id      2175\n",
       "retweeted_status_timestamp    2175\n",
       "expanded_urls                   59\n",
       "rating_numerator                 0\n",
       "rating_denominator               0\n",
       "name                             0\n",
       "doggo                            0\n",
       "floofer                          0\n",
       "pupper                           0\n",
       "puppo                            0\n",
       "dtype: int64"
      ]
     },
     "execution_count": 62,
     "metadata": {},
     "output_type": "execute_result"
    }
   ],
   "source": [
    "###check NAs\n",
    "df_tw.isna().sum()"
   ]
  },
  {
   "cell_type": "code",
   "execution_count": 64,
   "metadata": {},
   "outputs": [
    {
     "data": {
      "text/plain": [
       "False    2356\n",
       "Name: tweet_id, dtype: int64"
      ]
     },
     "execution_count": 64,
     "metadata": {},
     "output_type": "execute_result"
    }
   ],
   "source": [
    "###check duplicates\n",
    "df_tw.tweet_id.duplicated().value_counts()"
   ]
  },
  {
   "cell_type": "code",
   "execution_count": 65,
   "metadata": {},
   "outputs": [
    {
     "data": {
      "text/plain": [
       "10     2333\n",
       "11        3\n",
       "50        3\n",
       "20        2\n",
       "80        2\n",
       "70        1\n",
       "7         1\n",
       "15        1\n",
       "150       1\n",
       "170       1\n",
       "0         1\n",
       "90        1\n",
       "40        1\n",
       "130       1\n",
       "110       1\n",
       "16        1\n",
       "120       1\n",
       "2         1\n",
       "Name: rating_denominator, dtype: int64"
      ]
     },
     "execution_count": 65,
     "metadata": {},
     "output_type": "execute_result"
    }
   ],
   "source": [
    "###check invalid values for rating_denominator\n",
    "df_tw.rating_denominator.value_counts()"
   ]
  },
  {
   "cell_type": "code",
   "execution_count": 66,
   "metadata": {},
   "outputs": [
    {
     "data": {
      "text/plain": [
       "12      558\n",
       "11      464\n",
       "10      461\n",
       "13      351\n",
       "9       158\n",
       "8       102\n",
       "7        55\n",
       "14       54\n",
       "5        37\n",
       "6        32\n",
       "3        19\n",
       "4        17\n",
       "2         9\n",
       "1         9\n",
       "75        2\n",
       "15        2\n",
       "420       2\n",
       "0         2\n",
       "80        1\n",
       "144       1\n",
       "17        1\n",
       "26        1\n",
       "20        1\n",
       "121       1\n",
       "143       1\n",
       "44        1\n",
       "60        1\n",
       "45        1\n",
       "50        1\n",
       "99        1\n",
       "204       1\n",
       "1776      1\n",
       "165       1\n",
       "666       1\n",
       "27        1\n",
       "182       1\n",
       "24        1\n",
       "960       1\n",
       "84        1\n",
       "88        1\n",
       "Name: rating_numerator, dtype: int64"
      ]
     },
     "execution_count": 66,
     "metadata": {},
     "output_type": "execute_result"
    }
   ],
   "source": [
    "###check invalid values for rating_numenators\n",
    "df_tw.rating_numerator.value_counts()"
   ]
  },
  {
   "cell_type": "code",
   "execution_count": 67,
   "metadata": {},
   "outputs": [
    {
     "data": {
      "text/plain": [
       "23"
      ]
     },
     "execution_count": 67,
     "metadata": {},
     "output_type": "execute_result"
    }
   ],
   "source": [
    "###check the total number of invalid values for rating_denominator\n",
    "df_tw.query('rating_denominator != 10').shape[0]"
   ]
  },
  {
   "cell_type": "code",
   "execution_count": 68,
   "metadata": {},
   "outputs": [
    {
     "data": {
      "text/plain": [
       "None          745\n",
       "a              55\n",
       "Charlie        12\n",
       "Cooper         11\n",
       "Lucy           11\n",
       "             ... \n",
       "Dex             1\n",
       "Ace             1\n",
       "Tayzie          1\n",
       "Grizzie         1\n",
       "Christoper      1\n",
       "Name: name, Length: 957, dtype: int64"
      ]
     },
     "execution_count": 68,
     "metadata": {},
     "output_type": "execute_result"
    }
   ],
   "source": [
    "###check values of names\n",
    "df_tw.name.value_counts()"
   ]
  },
  {
   "cell_type": "markdown",
   "metadata": {},
   "source": [
    "#### Assesing ```df_img``` (i.e., ```image-predictions.tsv```)"
   ]
  },
  {
   "cell_type": "code",
   "execution_count": 73,
   "metadata": {},
   "outputs": [
    {
     "data": {
      "text/html": [
       "<div>\n",
       "<style scoped>\n",
       "    .dataframe tbody tr th:only-of-type {\n",
       "        vertical-align: middle;\n",
       "    }\n",
       "\n",
       "    .dataframe tbody tr th {\n",
       "        vertical-align: top;\n",
       "    }\n",
       "\n",
       "    .dataframe thead th {\n",
       "        text-align: right;\n",
       "    }\n",
       "</style>\n",
       "<table border=\"1\" class=\"dataframe\">\n",
       "  <thead>\n",
       "    <tr style=\"text-align: right;\">\n",
       "      <th></th>\n",
       "      <th>tweet_id</th>\n",
       "      <th>jpg_url</th>\n",
       "      <th>img_num</th>\n",
       "      <th>p1</th>\n",
       "      <th>p1_conf</th>\n",
       "      <th>p1_dog</th>\n",
       "      <th>p2</th>\n",
       "      <th>p2_conf</th>\n",
       "      <th>p2_dog</th>\n",
       "      <th>p3</th>\n",
       "      <th>p3_conf</th>\n",
       "      <th>p3_dog</th>\n",
       "    </tr>\n",
       "  </thead>\n",
       "  <tbody>\n",
       "    <tr>\n",
       "      <th>0</th>\n",
       "      <td>666020888022790149</td>\n",
       "      <td>https://pbs.twimg.com/media/CT4udn0WwAA0aMy.jpg</td>\n",
       "      <td>1</td>\n",
       "      <td>Welsh_springer_spaniel</td>\n",
       "      <td>0.465074</td>\n",
       "      <td>True</td>\n",
       "      <td>collie</td>\n",
       "      <td>0.156665</td>\n",
       "      <td>True</td>\n",
       "      <td>Shetland_sheepdog</td>\n",
       "      <td>0.061428</td>\n",
       "      <td>True</td>\n",
       "    </tr>\n",
       "    <tr>\n",
       "      <th>1</th>\n",
       "      <td>666029285002620928</td>\n",
       "      <td>https://pbs.twimg.com/media/CT42GRgUYAA5iDo.jpg</td>\n",
       "      <td>1</td>\n",
       "      <td>redbone</td>\n",
       "      <td>0.506826</td>\n",
       "      <td>True</td>\n",
       "      <td>miniature_pinscher</td>\n",
       "      <td>0.074192</td>\n",
       "      <td>True</td>\n",
       "      <td>Rhodesian_ridgeback</td>\n",
       "      <td>0.072010</td>\n",
       "      <td>True</td>\n",
       "    </tr>\n",
       "    <tr>\n",
       "      <th>2</th>\n",
       "      <td>666033412701032449</td>\n",
       "      <td>https://pbs.twimg.com/media/CT4521TWwAEvMyu.jpg</td>\n",
       "      <td>1</td>\n",
       "      <td>German_shepherd</td>\n",
       "      <td>0.596461</td>\n",
       "      <td>True</td>\n",
       "      <td>malinois</td>\n",
       "      <td>0.138584</td>\n",
       "      <td>True</td>\n",
       "      <td>bloodhound</td>\n",
       "      <td>0.116197</td>\n",
       "      <td>True</td>\n",
       "    </tr>\n",
       "    <tr>\n",
       "      <th>3</th>\n",
       "      <td>666044226329800704</td>\n",
       "      <td>https://pbs.twimg.com/media/CT5Dr8HUEAA-lEu.jpg</td>\n",
       "      <td>1</td>\n",
       "      <td>Rhodesian_ridgeback</td>\n",
       "      <td>0.408143</td>\n",
       "      <td>True</td>\n",
       "      <td>redbone</td>\n",
       "      <td>0.360687</td>\n",
       "      <td>True</td>\n",
       "      <td>miniature_pinscher</td>\n",
       "      <td>0.222752</td>\n",
       "      <td>True</td>\n",
       "    </tr>\n",
       "    <tr>\n",
       "      <th>4</th>\n",
       "      <td>666049248165822465</td>\n",
       "      <td>https://pbs.twimg.com/media/CT5IQmsXIAAKY4A.jpg</td>\n",
       "      <td>1</td>\n",
       "      <td>miniature_pinscher</td>\n",
       "      <td>0.560311</td>\n",
       "      <td>True</td>\n",
       "      <td>Rottweiler</td>\n",
       "      <td>0.243682</td>\n",
       "      <td>True</td>\n",
       "      <td>Doberman</td>\n",
       "      <td>0.154629</td>\n",
       "      <td>True</td>\n",
       "    </tr>\n",
       "    <tr>\n",
       "      <th>...</th>\n",
       "      <td>...</td>\n",
       "      <td>...</td>\n",
       "      <td>...</td>\n",
       "      <td>...</td>\n",
       "      <td>...</td>\n",
       "      <td>...</td>\n",
       "      <td>...</td>\n",
       "      <td>...</td>\n",
       "      <td>...</td>\n",
       "      <td>...</td>\n",
       "      <td>...</td>\n",
       "      <td>...</td>\n",
       "    </tr>\n",
       "    <tr>\n",
       "      <th>2070</th>\n",
       "      <td>891327558926688256</td>\n",
       "      <td>https://pbs.twimg.com/media/DF6hr6BUMAAzZgT.jpg</td>\n",
       "      <td>2</td>\n",
       "      <td>basset</td>\n",
       "      <td>0.555712</td>\n",
       "      <td>True</td>\n",
       "      <td>English_springer</td>\n",
       "      <td>0.225770</td>\n",
       "      <td>True</td>\n",
       "      <td>German_short-haired_pointer</td>\n",
       "      <td>0.175219</td>\n",
       "      <td>True</td>\n",
       "    </tr>\n",
       "    <tr>\n",
       "      <th>2071</th>\n",
       "      <td>891689557279858688</td>\n",
       "      <td>https://pbs.twimg.com/media/DF_q7IAWsAEuuN8.jpg</td>\n",
       "      <td>1</td>\n",
       "      <td>paper_towel</td>\n",
       "      <td>0.170278</td>\n",
       "      <td>False</td>\n",
       "      <td>Labrador_retriever</td>\n",
       "      <td>0.168086</td>\n",
       "      <td>True</td>\n",
       "      <td>spatula</td>\n",
       "      <td>0.040836</td>\n",
       "      <td>False</td>\n",
       "    </tr>\n",
       "    <tr>\n",
       "      <th>2072</th>\n",
       "      <td>891815181378084864</td>\n",
       "      <td>https://pbs.twimg.com/media/DGBdLU1WsAANxJ9.jpg</td>\n",
       "      <td>1</td>\n",
       "      <td>Chihuahua</td>\n",
       "      <td>0.716012</td>\n",
       "      <td>True</td>\n",
       "      <td>malamute</td>\n",
       "      <td>0.078253</td>\n",
       "      <td>True</td>\n",
       "      <td>kelpie</td>\n",
       "      <td>0.031379</td>\n",
       "      <td>True</td>\n",
       "    </tr>\n",
       "    <tr>\n",
       "      <th>2073</th>\n",
       "      <td>892177421306343426</td>\n",
       "      <td>https://pbs.twimg.com/media/DGGmoV4XsAAUL6n.jpg</td>\n",
       "      <td>1</td>\n",
       "      <td>Chihuahua</td>\n",
       "      <td>0.323581</td>\n",
       "      <td>True</td>\n",
       "      <td>Pekinese</td>\n",
       "      <td>0.090647</td>\n",
       "      <td>True</td>\n",
       "      <td>papillon</td>\n",
       "      <td>0.068957</td>\n",
       "      <td>True</td>\n",
       "    </tr>\n",
       "    <tr>\n",
       "      <th>2074</th>\n",
       "      <td>892420643555336193</td>\n",
       "      <td>https://pbs.twimg.com/media/DGKD1-bXoAAIAUK.jpg</td>\n",
       "      <td>1</td>\n",
       "      <td>orange</td>\n",
       "      <td>0.097049</td>\n",
       "      <td>False</td>\n",
       "      <td>bagel</td>\n",
       "      <td>0.085851</td>\n",
       "      <td>False</td>\n",
       "      <td>banana</td>\n",
       "      <td>0.076110</td>\n",
       "      <td>False</td>\n",
       "    </tr>\n",
       "  </tbody>\n",
       "</table>\n",
       "<p>2075 rows × 12 columns</p>\n",
       "</div>"
      ],
      "text/plain": [
       "                tweet_id                                          jpg_url  \\\n",
       "0     666020888022790149  https://pbs.twimg.com/media/CT4udn0WwAA0aMy.jpg   \n",
       "1     666029285002620928  https://pbs.twimg.com/media/CT42GRgUYAA5iDo.jpg   \n",
       "2     666033412701032449  https://pbs.twimg.com/media/CT4521TWwAEvMyu.jpg   \n",
       "3     666044226329800704  https://pbs.twimg.com/media/CT5Dr8HUEAA-lEu.jpg   \n",
       "4     666049248165822465  https://pbs.twimg.com/media/CT5IQmsXIAAKY4A.jpg   \n",
       "...                  ...                                              ...   \n",
       "2070  891327558926688256  https://pbs.twimg.com/media/DF6hr6BUMAAzZgT.jpg   \n",
       "2071  891689557279858688  https://pbs.twimg.com/media/DF_q7IAWsAEuuN8.jpg   \n",
       "2072  891815181378084864  https://pbs.twimg.com/media/DGBdLU1WsAANxJ9.jpg   \n",
       "2073  892177421306343426  https://pbs.twimg.com/media/DGGmoV4XsAAUL6n.jpg   \n",
       "2074  892420643555336193  https://pbs.twimg.com/media/DGKD1-bXoAAIAUK.jpg   \n",
       "\n",
       "      img_num                      p1   p1_conf  p1_dog                  p2  \\\n",
       "0           1  Welsh_springer_spaniel  0.465074    True              collie   \n",
       "1           1                 redbone  0.506826    True  miniature_pinscher   \n",
       "2           1         German_shepherd  0.596461    True            malinois   \n",
       "3           1     Rhodesian_ridgeback  0.408143    True             redbone   \n",
       "4           1      miniature_pinscher  0.560311    True          Rottweiler   \n",
       "...       ...                     ...       ...     ...                 ...   \n",
       "2070        2                  basset  0.555712    True    English_springer   \n",
       "2071        1             paper_towel  0.170278   False  Labrador_retriever   \n",
       "2072        1               Chihuahua  0.716012    True            malamute   \n",
       "2073        1               Chihuahua  0.323581    True            Pekinese   \n",
       "2074        1                  orange  0.097049   False               bagel   \n",
       "\n",
       "       p2_conf  p2_dog                           p3   p3_conf  p3_dog  \n",
       "0     0.156665    True            Shetland_sheepdog  0.061428    True  \n",
       "1     0.074192    True          Rhodesian_ridgeback  0.072010    True  \n",
       "2     0.138584    True                   bloodhound  0.116197    True  \n",
       "3     0.360687    True           miniature_pinscher  0.222752    True  \n",
       "4     0.243682    True                     Doberman  0.154629    True  \n",
       "...        ...     ...                          ...       ...     ...  \n",
       "2070  0.225770    True  German_short-haired_pointer  0.175219    True  \n",
       "2071  0.168086    True                      spatula  0.040836   False  \n",
       "2072  0.078253    True                       kelpie  0.031379    True  \n",
       "2073  0.090647    True                     papillon  0.068957    True  \n",
       "2074  0.085851   False                       banana  0.076110   False  \n",
       "\n",
       "[2075 rows x 12 columns]"
      ]
     },
     "execution_count": 73,
     "metadata": {},
     "output_type": "execute_result"
    }
   ],
   "source": [
    "##Virtually (print the dataframe and also check it in excel)\n",
    "df_img"
   ]
  },
  {
   "cell_type": "code",
   "execution_count": 74,
   "metadata": {},
   "outputs": [
    {
     "name": "stdout",
     "output_type": "stream",
     "text": [
      "<class 'pandas.core.frame.DataFrame'>\n",
      "RangeIndex: 2075 entries, 0 to 2074\n",
      "Data columns (total 12 columns):\n",
      " #   Column    Non-Null Count  Dtype  \n",
      "---  ------    --------------  -----  \n",
      " 0   tweet_id  2075 non-null   int64  \n",
      " 1   jpg_url   2075 non-null   object \n",
      " 2   img_num   2075 non-null   int64  \n",
      " 3   p1        2075 non-null   object \n",
      " 4   p1_conf   2075 non-null   float64\n",
      " 5   p1_dog    2075 non-null   bool   \n",
      " 6   p2        2075 non-null   object \n",
      " 7   p2_conf   2075 non-null   float64\n",
      " 8   p2_dog    2075 non-null   bool   \n",
      " 9   p3        2075 non-null   object \n",
      " 10  p3_conf   2075 non-null   float64\n",
      " 11  p3_dog    2075 non-null   bool   \n",
      "dtypes: bool(3), float64(3), int64(2), object(4)\n",
      "memory usage: 152.1+ KB\n"
     ]
    }
   ],
   "source": [
    "##Programmatically\n",
    "\n",
    "###check information\n",
    "df_img.info()"
   ]
  },
  {
   "cell_type": "code",
   "execution_count": 75,
   "metadata": {},
   "outputs": [
    {
     "data": {
      "text/plain": [
       "False    2075\n",
       "Name: tweet_id, dtype: int64"
      ]
     },
     "execution_count": 75,
     "metadata": {},
     "output_type": "execute_result"
    }
   ],
   "source": [
    "###check duplicates (no issue)\n",
    "df_img.tweet_id.duplicated().value_counts()"
   ]
  },
  {
   "cell_type": "code",
   "execution_count": 76,
   "metadata": {},
   "outputs": [
    {
     "data": {
      "text/plain": [
       "False    2009\n",
       "True       66\n",
       "Name: jpg_url, dtype: int64"
      ]
     },
     "execution_count": 76,
     "metadata": {},
     "output_type": "execute_result"
    }
   ],
   "source": [
    "df_img.jpg_url.duplicated().value_counts()"
   ]
  },
  {
   "cell_type": "code",
   "execution_count": 77,
   "metadata": {},
   "outputs": [],
   "source": [
    "###there are duplicated jpg urls"
   ]
  },
  {
   "cell_type": "code",
   "execution_count": 78,
   "metadata": {},
   "outputs": [
    {
     "data": {
      "text/plain": [
       "1    1780\n",
       "2     198\n",
       "3      66\n",
       "4      31\n",
       "Name: img_num, dtype: int64"
      ]
     },
     "execution_count": 78,
     "metadata": {},
     "output_type": "execute_result"
    }
   ],
   "source": [
    "###check the values of img_num (no issue)\n",
    "df_img.img_num.value_counts()"
   ]
  },
  {
   "cell_type": "markdown",
   "metadata": {},
   "source": [
    "#### Assesing ```df_tweepy_json``` (i.e., ```tweet_json,text```)"
   ]
  },
  {
   "cell_type": "code",
   "execution_count": 52,
   "metadata": {},
   "outputs": [],
   "source": [
    "##Virtually (print the dataframe and also check it in excel)\n",
    "df_tweepy_json.to_csv('df_tweepy.csv',index=False)"
   ]
  },
  {
   "cell_type": "code",
   "execution_count": 79,
   "metadata": {},
   "outputs": [
    {
     "data": {
      "text/html": [
       "<div>\n",
       "<style scoped>\n",
       "    .dataframe tbody tr th:only-of-type {\n",
       "        vertical-align: middle;\n",
       "    }\n",
       "\n",
       "    .dataframe tbody tr th {\n",
       "        vertical-align: top;\n",
       "    }\n",
       "\n",
       "    .dataframe thead th {\n",
       "        text-align: right;\n",
       "    }\n",
       "</style>\n",
       "<table border=\"1\" class=\"dataframe\">\n",
       "  <thead>\n",
       "    <tr style=\"text-align: right;\">\n",
       "      <th></th>\n",
       "      <th>tweet_id</th>\n",
       "      <th>retweets</th>\n",
       "      <th>favorites</th>\n",
       "      <th>creation_time</th>\n",
       "    </tr>\n",
       "  </thead>\n",
       "  <tbody>\n",
       "    <tr>\n",
       "      <th>0</th>\n",
       "      <td>892420643555336193</td>\n",
       "      <td>7108</td>\n",
       "      <td>34218</td>\n",
       "      <td>2017-08-01 16:23:56+00:00</td>\n",
       "    </tr>\n",
       "    <tr>\n",
       "      <th>1</th>\n",
       "      <td>892177421306343426</td>\n",
       "      <td>5353</td>\n",
       "      <td>29671</td>\n",
       "      <td>2017-08-01 00:17:27+00:00</td>\n",
       "    </tr>\n",
       "    <tr>\n",
       "      <th>2</th>\n",
       "      <td>891815181378084864</td>\n",
       "      <td>3524</td>\n",
       "      <td>22346</td>\n",
       "      <td>2017-07-31 00:18:03+00:00</td>\n",
       "    </tr>\n",
       "    <tr>\n",
       "      <th>3</th>\n",
       "      <td>891689557279858688</td>\n",
       "      <td>7301</td>\n",
       "      <td>37373</td>\n",
       "      <td>2017-07-30 15:58:51+00:00</td>\n",
       "    </tr>\n",
       "    <tr>\n",
       "      <th>4</th>\n",
       "      <td>891327558926688256</td>\n",
       "      <td>7853</td>\n",
       "      <td>35715</td>\n",
       "      <td>2017-07-29 16:00:24+00:00</td>\n",
       "    </tr>\n",
       "    <tr>\n",
       "      <th>...</th>\n",
       "      <td>...</td>\n",
       "      <td>...</td>\n",
       "      <td>...</td>\n",
       "      <td>...</td>\n",
       "    </tr>\n",
       "    <tr>\n",
       "      <th>2351</th>\n",
       "      <td>766864461642756096</td>\n",
       "      <td>430</td>\n",
       "      <td>2307</td>\n",
       "      <td>2015-11-15 22:32:08+00:00</td>\n",
       "    </tr>\n",
       "    <tr>\n",
       "      <th>2352</th>\n",
       "      <td>759923798737051648</td>\n",
       "      <td>430</td>\n",
       "      <td>2307</td>\n",
       "      <td>2015-11-15 22:32:08+00:00</td>\n",
       "    </tr>\n",
       "    <tr>\n",
       "      <th>2353</th>\n",
       "      <td>759566828574212096</td>\n",
       "      <td>430</td>\n",
       "      <td>2307</td>\n",
       "      <td>2015-11-15 22:32:08+00:00</td>\n",
       "    </tr>\n",
       "    <tr>\n",
       "      <th>2354</th>\n",
       "      <td>754011816964026368</td>\n",
       "      <td>430</td>\n",
       "      <td>2307</td>\n",
       "      <td>2015-11-15 22:32:08+00:00</td>\n",
       "    </tr>\n",
       "    <tr>\n",
       "      <th>2355</th>\n",
       "      <td>680055455951884288</td>\n",
       "      <td>430</td>\n",
       "      <td>2307</td>\n",
       "      <td>2015-11-15 22:32:08+00:00</td>\n",
       "    </tr>\n",
       "  </tbody>\n",
       "</table>\n",
       "<p>2356 rows × 4 columns</p>\n",
       "</div>"
      ],
      "text/plain": [
       "                tweet_id  retweets  favorites              creation_time\n",
       "0     892420643555336193      7108      34218  2017-08-01 16:23:56+00:00\n",
       "1     892177421306343426      5353      29671  2017-08-01 00:17:27+00:00\n",
       "2     891815181378084864      3524      22346  2017-07-31 00:18:03+00:00\n",
       "3     891689557279858688      7301      37373  2017-07-30 15:58:51+00:00\n",
       "4     891327558926688256      7853      35715  2017-07-29 16:00:24+00:00\n",
       "...                  ...       ...        ...                        ...\n",
       "2351  766864461642756096       430       2307  2015-11-15 22:32:08+00:00\n",
       "2352  759923798737051648       430       2307  2015-11-15 22:32:08+00:00\n",
       "2353  759566828574212096       430       2307  2015-11-15 22:32:08+00:00\n",
       "2354  754011816964026368       430       2307  2015-11-15 22:32:08+00:00\n",
       "2355  680055455951884288       430       2307  2015-11-15 22:32:08+00:00\n",
       "\n",
       "[2356 rows x 4 columns]"
      ]
     },
     "execution_count": 79,
     "metadata": {},
     "output_type": "execute_result"
    }
   ],
   "source": [
    "pd.read_csv('df_tweepy.csv')"
   ]
  },
  {
   "cell_type": "code",
   "execution_count": 80,
   "metadata": {},
   "outputs": [
    {
     "name": "stdout",
     "output_type": "stream",
     "text": [
      "<class 'pandas.core.frame.DataFrame'>\n",
      "RangeIndex: 2356 entries, 0 to 2355\n",
      "Data columns (total 4 columns):\n",
      " #   Column         Non-Null Count  Dtype \n",
      "---  ------         --------------  ----- \n",
      " 0   tweet_id       2356 non-null   int64 \n",
      " 1   retweets       2356 non-null   int64 \n",
      " 2   favorites      2356 non-null   int64 \n",
      " 3   creation_time  2356 non-null   object\n",
      "dtypes: int64(3), object(1)\n",
      "memory usage: 73.8+ KB\n"
     ]
    }
   ],
   "source": [
    "##Programmatically\n",
    "\n",
    "###check information\n",
    "df_tweepy_json.info()"
   ]
  },
  {
   "cell_type": "code",
   "execution_count": 81,
   "metadata": {},
   "outputs": [
    {
     "data": {
      "text/plain": [
       "False    2356\n",
       "Name: tweet_id, dtype: int64"
      ]
     },
     "execution_count": 81,
     "metadata": {},
     "output_type": "execute_result"
    }
   ],
   "source": [
    "###check duplicates\n",
    "df_tweepy_json.tweet_id.duplicated().value_counts()"
   ]
  },
  {
   "cell_type": "code",
   "execution_count": 56,
   "metadata": {},
   "outputs": [],
   "source": [
    "####some variables have incorrect categories: \n",
    "\n",
    "##### tweet_id should be STRING\n",
    "##### creation_time should be DATETIME"
   ]
  },
  {
   "cell_type": "code",
   "execution_count": 82,
   "metadata": {},
   "outputs": [
    {
     "data": {
      "text/html": [
       "<div>\n",
       "<style scoped>\n",
       "    .dataframe tbody tr th:only-of-type {\n",
       "        vertical-align: middle;\n",
       "    }\n",
       "\n",
       "    .dataframe tbody tr th {\n",
       "        vertical-align: top;\n",
       "    }\n",
       "\n",
       "    .dataframe thead th {\n",
       "        text-align: right;\n",
       "    }\n",
       "</style>\n",
       "<table border=\"1\" class=\"dataframe\">\n",
       "  <thead>\n",
       "    <tr style=\"text-align: right;\">\n",
       "      <th></th>\n",
       "      <th>retweets</th>\n",
       "      <th>favorites</th>\n",
       "    </tr>\n",
       "  </thead>\n",
       "  <tbody>\n",
       "    <tr>\n",
       "      <th>count</th>\n",
       "      <td>2356.000000</td>\n",
       "      <td>2356.000000</td>\n",
       "    </tr>\n",
       "    <tr>\n",
       "      <th>mean</th>\n",
       "      <td>2438.044143</td>\n",
       "      <td>6975.299660</td>\n",
       "    </tr>\n",
       "    <tr>\n",
       "      <th>std</th>\n",
       "      <td>4151.807040</td>\n",
       "      <td>10874.401462</td>\n",
       "    </tr>\n",
       "    <tr>\n",
       "      <th>min</th>\n",
       "      <td>1.000000</td>\n",
       "      <td>0.000000</td>\n",
       "    </tr>\n",
       "    <tr>\n",
       "      <th>25%</th>\n",
       "      <td>476.000000</td>\n",
       "      <td>1247.000000</td>\n",
       "    </tr>\n",
       "    <tr>\n",
       "      <th>50%</th>\n",
       "      <td>1123.500000</td>\n",
       "      <td>3011.500000</td>\n",
       "    </tr>\n",
       "    <tr>\n",
       "      <th>75%</th>\n",
       "      <td>2826.250000</td>\n",
       "      <td>8468.000000</td>\n",
       "    </tr>\n",
       "    <tr>\n",
       "      <th>max</th>\n",
       "      <td>70485.000000</td>\n",
       "      <td>144420.000000</td>\n",
       "    </tr>\n",
       "  </tbody>\n",
       "</table>\n",
       "</div>"
      ],
      "text/plain": [
       "           retweets      favorites\n",
       "count   2356.000000    2356.000000\n",
       "mean    2438.044143    6975.299660\n",
       "std     4151.807040   10874.401462\n",
       "min        1.000000       0.000000\n",
       "25%      476.000000    1247.000000\n",
       "50%     1123.500000    3011.500000\n",
       "75%     2826.250000    8468.000000\n",
       "max    70485.000000  144420.000000"
      ]
     },
     "execution_count": 82,
     "metadata": {},
     "output_type": "execute_result"
    }
   ],
   "source": [
    "#check the values for retweets and favorites\n",
    "df_tweepy_json[['retweets','favorites']].describe()"
   ]
  },
  {
   "cell_type": "markdown",
   "metadata": {},
   "source": [
    "### Quality issues\n",
    "\n",
    "1. Incorrect variable types for ID field variables (solution: change them to STRING variables):\\\n",
    "   1.1). ```tweet_id```, ```in_reply_to_status_id```, ```in_reply_to_user_id```, ```retweeted_status_id```, ```retweeted_status_user_id``` in ```df_tw```\\\n",
    "   1.2). ```tweet_id``` in ```df_img``` \\\n",
    "   1.3). ```tweet_id``` in ```tweepy_json```\n",
    "\n",
    "2. Incorrect variable types for timestamp variables (solution: change them to DATATIME variables):\\\n",
    "   1). ```timestamp```, ```retweeted_status_timestamp```in ```df_tw```\\\n",
    "   2). ```creation_time```in ```tweepy_json```\n",
    "   \n",
    "3. Some tweets have retweets in ```df_tw```  (i.e., non-null values for ```retweeted_status_id```, ```retweeted_status_user_id```, ```retweeted_status_timestamp```)(solution: drop all non-null entries)\n",
    "\n",
    "4. Abnormal values in ```rating_denominator``` (e.g., 130, 110) and ```rating_numerator``` (e.g., 143, 121) in ```df_tw```(solution: go back and check the corresponding texts, find the patterns and correct the values)\n",
    "\n",
    "5. Irrelvant urls and missing values (N = 59) in ```expanded_urls``` in ```df_tw```(solution: remove the irrelevant url and fill in missing values)\n",
    "\n",
    "6. Redudant information in ```source``` in ```df_tw``` (solution: extract the key information)\n",
    "\n",
    "7. Duplicated values for ```jpg_url``` (N = 66) in ```df_img```  (solution: drop duplicated values)\n",
    "\n",
    "8. Missing values for some tweets (N = 2075 < 2356) in ```df_img```  (solution: drop tweets without images as we only want original ratings with images)"
   ]
  },
  {
   "cell_type": "markdown",
   "metadata": {
    "extensions": {
     "jupyter_dashboards": {
      "version": 1,
      "views": {
       "grid_default": {
        "col": 0,
        "height": 7,
        "hidden": false,
        "row": 40,
        "width": 12
       },
       "report_default": {
        "hidden": false
       }
      }
     }
    }
   },
   "source": [
    "### Tidiness issues\n",
    "\n",
    "1. The three seperate tables should be merged into one table\n",
    "\n",
    "2. Multiple columns for one variable in ```df_tw``` -```dog_stage``` (```doggo```, ```pupper```, ```puppo```, ```floofer```) (solution: recode them into one variable - ```dog_stage```) \n",
    "\n",
    "3. Multiple predictions for one variable in ```df_img``` - ```dog_breed``` (```p1```, ```p2```, ```p3```)(solution: choose the algorithm with the highest accuracy and use that predicted breed as the value for ```dog_breed```))"
   ]
  },
  {
   "cell_type": "markdown",
   "metadata": {
    "extensions": {
     "jupyter_dashboards": {
      "version": 1,
      "views": {
       "grid_default": {
        "col": 4,
        "height": 4,
        "hidden": false,
        "row": 32,
        "width": 4
       },
       "report_default": {
        "hidden": false
       }
      }
     }
    }
   },
   "source": [
    "## Cleaning Data\n",
    "In this section, clean **all** of the issues you documented while assessing. \n",
    "\n",
    "**Note:** Make a copy of the original data before cleaning. Cleaning includes merging individual pieces of data according to the rules of [tidy data](https://cran.r-project.org/web/packages/tidyr/vignettes/tidy-data.html). The result should be a high-quality and tidy master pandas DataFrame (or DataFrames, if appropriate)."
   ]
  },
  {
   "cell_type": "code",
   "execution_count": 85,
   "metadata": {},
   "outputs": [],
   "source": [
    "#df_tw = pd.read_csv(\"df_tw.csv\")\n",
    "#df_img = pd.read_csv(\"df_img.csv\")\n",
    "df_tweepy_json = pd.read_csv(\"df_tweepy.csv\")"
   ]
  },
  {
   "cell_type": "code",
   "execution_count": 376,
   "metadata": {},
   "outputs": [],
   "source": [
    "# Make copies of original pieces of data\n",
    "df_tw_clean = df_tw.copy()\n",
    "df_img_clean = df_img.copy()\n",
    "df_tweepy_json_clean = df_tweepy_json.copy()"
   ]
  },
  {
   "cell_type": "markdown",
   "metadata": {},
   "source": [
    "### Issue #1: Incorrect variable types for ID field variables in each dataframe\n",
    "### Issue #2: Incorrect variable types for timestamp variables in the corresponding dataframe"
   ]
  },
  {
   "cell_type": "markdown",
   "metadata": {},
   "source": [
    "#### Define: \n",
    " \n",
    "1. correct incorrect variable types for ID field variables to STRING in each dataframe\\\n",
    "   1.1).in ```df_tw```: change the variable type of ```tweet_id```, ```in_reply_to_status_id```, ```in_reply_to_user_id```, ```retweeted_status_id```, ```retweeted_status_user_id``` to STRING\\\n",
    "   1.2).in ```df_img```: change the variable type of ```tweet_id``` to STRING\\\n",
    "   1.3). in ```df_tweepy_json``` : change the variable type of ```tweet_id``` to STRING\n",
    "2. correct incorrect variable types for timestamp to DATETIME in the corresponding dataframe\\\n",
    "   2.1).in ```df_tw```: change the variable type of ```timestamp```, ```retweeted_status_timestamp``` to DATETIME\\\n",
    "   2.2).in ```df_tweepy_json``` : change```creation_time``` to DATETIME"
   ]
  },
  {
   "cell_type": "markdown",
   "metadata": {},
   "source": [
    "#### Code"
   ]
  },
  {
   "cell_type": "code",
   "execution_count": 69,
   "metadata": {},
   "outputs": [],
   "source": [
    "#Define a function to change invalid variable types of ID field variables to STRING & Return corrected types"
   ]
  },
  {
   "cell_type": "code",
   "execution_count": 377,
   "metadata": {},
   "outputs": [],
   "source": [
    "def ToString(df, val_list):\n",
    "    df[val_list] = df[val_list].astype('string')\n",
    "    return df[val_list].dtypes"
   ]
  },
  {
   "cell_type": "code",
   "execution_count": 378,
   "metadata": {},
   "outputs": [
    {
     "data": {
      "text/plain": [
       "tweet_id                    string\n",
       "in_reply_to_status_id       string\n",
       "in_reply_to_user_id         string\n",
       "retweeted_status_id         string\n",
       "retweeted_status_user_id    string\n",
       "dtype: object"
      ]
     },
     "execution_count": 378,
     "metadata": {},
     "output_type": "execute_result"
    }
   ],
   "source": [
    "## in df_tw\n",
    "vals_tw = ['tweet_id','in_reply_to_status_id',\n",
    "        'in_reply_to_user_id','retweeted_status_id',\n",
    "        'retweeted_status_user_id']\n",
    "ToString(df_tw_clean, vals_tw)"
   ]
  },
  {
   "cell_type": "code",
   "execution_count": 379,
   "metadata": {},
   "outputs": [
    {
     "data": {
      "text/plain": [
       "tweet_id    string\n",
       "dtype: object"
      ]
     },
     "execution_count": 379,
     "metadata": {},
     "output_type": "execute_result"
    }
   ],
   "source": [
    "## in df_img\n",
    "vals_img = ['tweet_id']\n",
    "ToString(df_img_clean, vals_img)"
   ]
  },
  {
   "cell_type": "code",
   "execution_count": 380,
   "metadata": {},
   "outputs": [
    {
     "data": {
      "text/plain": [
       "tweet_id    string\n",
       "dtype: object"
      ]
     },
     "execution_count": 380,
     "metadata": {},
     "output_type": "execute_result"
    }
   ],
   "source": [
    "## in df_tweepy_json\n",
    "vals_tweepy = ['tweet_id']\n",
    "ToString(df_tweepy_json_clean, vals_tweepy)"
   ]
  },
  {
   "cell_type": "code",
   "execution_count": 381,
   "metadata": {},
   "outputs": [],
   "source": [
    "#Define a function to change invalid variable types for timestamp to DATETIME and Return corrected types"
   ]
  },
  {
   "cell_type": "code",
   "execution_count": 382,
   "metadata": {},
   "outputs": [],
   "source": [
    "def ToDateTime(df, val_name):\n",
    "    df[val_name] = pd.to_datetime(df[val_name])\n",
    "    return df[val_name].dtypes"
   ]
  },
  {
   "cell_type": "code",
   "execution_count": 383,
   "metadata": {},
   "outputs": [
    {
     "data": {
      "text/plain": [
       "datetime64[ns, UTC]"
      ]
     },
     "execution_count": 383,
     "metadata": {},
     "output_type": "execute_result"
    }
   ],
   "source": [
    "## in df_tw\n",
    "ToDateTime(df_tw_clean, 'timestamp') "
   ]
  },
  {
   "cell_type": "code",
   "execution_count": 384,
   "metadata": {},
   "outputs": [
    {
     "data": {
      "text/plain": [
       "datetime64[ns, UTC]"
      ]
     },
     "execution_count": 384,
     "metadata": {},
     "output_type": "execute_result"
    }
   ],
   "source": [
    "ToDateTime(df_tw_clean, 'retweeted_status_timestamp')"
   ]
  },
  {
   "cell_type": "code",
   "execution_count": 385,
   "metadata": {},
   "outputs": [
    {
     "data": {
      "text/plain": [
       "datetime64[ns, UTC]"
      ]
     },
     "execution_count": 385,
     "metadata": {},
     "output_type": "execute_result"
    }
   ],
   "source": [
    "## in df_tweepy_json\n",
    "ToDateTime(df_tweepy_json_clean, 'creation_time')"
   ]
  },
  {
   "cell_type": "markdown",
   "metadata": {},
   "source": [
    "\n",
    "\n",
    "\n",
    "\n",
    "\n",
    "\n",
    "\n",
    "\n",
    "\n",
    "#### Test"
   ]
  },
  {
   "cell_type": "code",
   "execution_count": 386,
   "metadata": {},
   "outputs": [
    {
     "name": "stdout",
     "output_type": "stream",
     "text": [
      "<class 'pandas.core.frame.DataFrame'>\n",
      "RangeIndex: 2356 entries, 0 to 2355\n",
      "Data columns (total 17 columns):\n",
      " #   Column                      Non-Null Count  Dtype              \n",
      "---  ------                      --------------  -----              \n",
      " 0   tweet_id                    2356 non-null   string             \n",
      " 1   in_reply_to_status_id       78 non-null     string             \n",
      " 2   in_reply_to_user_id         78 non-null     string             \n",
      " 3   timestamp                   2356 non-null   datetime64[ns, UTC]\n",
      " 4   source                      2356 non-null   object             \n",
      " 5   text                        2356 non-null   object             \n",
      " 6   retweeted_status_id         181 non-null    string             \n",
      " 7   retweeted_status_user_id    181 non-null    string             \n",
      " 8   retweeted_status_timestamp  181 non-null    datetime64[ns, UTC]\n",
      " 9   expanded_urls               2297 non-null   object             \n",
      " 10  rating_numerator            2356 non-null   int64              \n",
      " 11  rating_denominator          2356 non-null   int64              \n",
      " 12  name                        2356 non-null   object             \n",
      " 13  doggo                       2356 non-null   object             \n",
      " 14  floofer                     2356 non-null   object             \n",
      " 15  pupper                      2356 non-null   object             \n",
      " 16  puppo                       2356 non-null   object             \n",
      "dtypes: datetime64[ns, UTC](2), int64(2), object(8), string(5)\n",
      "memory usage: 313.0+ KB\n"
     ]
    }
   ],
   "source": [
    "df_tw_clean.info()"
   ]
  },
  {
   "cell_type": "code",
   "execution_count": 387,
   "metadata": {},
   "outputs": [
    {
     "name": "stdout",
     "output_type": "stream",
     "text": [
      "<class 'pandas.core.frame.DataFrame'>\n",
      "Int64Index: 2009 entries, 0 to 2074\n",
      "Data columns (total 5 columns):\n",
      " #   Column     Non-Null Count  Dtype  \n",
      "---  ------     --------------  -----  \n",
      " 0   tweet_id   2009 non-null   string \n",
      " 1   jpg_url    2009 non-null   object \n",
      " 2   img_num    2009 non-null   int64  \n",
      " 3   dog_breed  2009 non-null   object \n",
      " 4   p_conf     2009 non-null   float64\n",
      "dtypes: float64(1), int64(1), object(2), string(1)\n",
      "memory usage: 94.2+ KB\n"
     ]
    }
   ],
   "source": [
    "df_img_clean.info()"
   ]
  },
  {
   "cell_type": "code",
   "execution_count": 388,
   "metadata": {},
   "outputs": [
    {
     "name": "stdout",
     "output_type": "stream",
     "text": [
      "<class 'pandas.core.frame.DataFrame'>\n",
      "RangeIndex: 2356 entries, 0 to 2355\n",
      "Data columns (total 4 columns):\n",
      " #   Column         Non-Null Count  Dtype              \n",
      "---  ------         --------------  -----              \n",
      " 0   tweet_id       2356 non-null   string             \n",
      " 1   retweets       2356 non-null   int64              \n",
      " 2   favorites      2356 non-null   int64              \n",
      " 3   creation_time  2356 non-null   datetime64[ns, UTC]\n",
      "dtypes: datetime64[ns, UTC](1), int64(2), string(1)\n",
      "memory usage: 73.8 KB\n"
     ]
    }
   ],
   "source": [
    "df_tweepy_json_clean.info()"
   ]
  },
  {
   "cell_type": "markdown",
   "metadata": {},
   "source": [
    "### Issue #3: Some tweets have retweets that we are not interested in ```df_tw```"
   ]
  },
  {
   "cell_type": "markdown",
   "metadata": {
    "extensions": {
     "jupyter_dashboards": {
      "version": 1,
      "views": {
       "grid_default": {
        "hidden": true
       },
       "report_default": {
        "hidden": true
       }
      }
     }
    }
   },
   "source": [
    "#### Define\n",
    "1. Drop tweets that have retweets in ```df_tw``` (i.e., drop null-nans in ```retweeted_status_id``` and ```retweeted_status_user_id```)"
   ]
  },
  {
   "cell_type": "markdown",
   "metadata": {},
   "source": [
    "#### Code"
   ]
  },
  {
   "cell_type": "code",
   "execution_count": 389,
   "metadata": {},
   "outputs": [],
   "source": [
    "df_tw_clean.drop(df_tw_clean[df_tw_clean['retweeted_status_id'] != '<NA>'].index, inplace = True)"
   ]
  },
  {
   "cell_type": "markdown",
   "metadata": {},
   "source": [
    "#### Test"
   ]
  },
  {
   "cell_type": "code",
   "execution_count": 390,
   "metadata": {},
   "outputs": [
    {
     "data": {
      "text/plain": [
       "tweet_id                         0\n",
       "in_reply_to_status_id         2097\n",
       "in_reply_to_user_id           2097\n",
       "timestamp                        0\n",
       "source                           0\n",
       "text                             0\n",
       "retweeted_status_id           2175\n",
       "retweeted_status_user_id      2175\n",
       "retweeted_status_timestamp    2175\n",
       "expanded_urls                   58\n",
       "rating_numerator                 0\n",
       "rating_denominator               0\n",
       "name                             0\n",
       "doggo                            0\n",
       "floofer                          0\n",
       "pupper                           0\n",
       "puppo                            0\n",
       "dtype: int64"
      ]
     },
     "execution_count": 390,
     "metadata": {},
     "output_type": "execute_result"
    }
   ],
   "source": [
    "df_tw_clean.isna().sum()"
   ]
  },
  {
   "cell_type": "markdown",
   "metadata": {},
   "source": [
    "### Issue #4: Anomaly of values in ```rating_denominator``` and ```rating_numerator``` in ```df_tw```"
   ]
  },
  {
   "cell_type": "markdown",
   "metadata": {},
   "source": [
    "#### Define\n",
    "1. Mannually check the dataset and detect the patterns of anomaly in rating_denominator and rating_numerator: \\\n",
    "   1). Refer to a group of dogs \\\n",
    "   2). Denominator has decimals and only the decimal part was extracted \\\n",
    "   3). More than two ratings are mentioned in the text\n",
    "2. Correct values based on the detected anomaly\n",
    "3. Drop redudant columns\n",
    "4. Create a new variable: ```dog_rating``` to standardize the rating for future analysis"
   ]
  },
  {
   "cell_type": "markdown",
   "metadata": {},
   "source": [
    "#### Code"
   ]
  },
  {
   "cell_type": "code",
   "execution_count": 391,
   "metadata": {},
   "outputs": [],
   "source": [
    "#extract ratings from the text\n",
    "ratings = df_tw_clean['text'].apply(lambda x: re.findall(r'((\\d+|\\d+\\.\\d+)/(\\d+))', x))"
   ]
  },
  {
   "cell_type": "code",
   "execution_count": 392,
   "metadata": {},
   "outputs": [
    {
     "data": {
      "text/plain": [
       "0       [(13/10, 13, 10)]\n",
       "1       [(13/10, 13, 10)]\n",
       "2       [(12/10, 12, 10)]\n",
       "3       [(13/10, 13, 10)]\n",
       "4       [(12/10, 12, 10)]\n",
       "              ...        \n",
       "2351      [(5/10, 5, 10)]\n",
       "2352      [(6/10, 6, 10)]\n",
       "2353      [(9/10, 9, 10)]\n",
       "2354      [(7/10, 7, 10)]\n",
       "2355      [(8/10, 8, 10)]\n",
       "Name: text, Length: 2175, dtype: object"
      ]
     },
     "execution_count": 392,
     "metadata": {},
     "output_type": "execute_result"
    }
   ],
   "source": [
    "ratings"
   ]
  },
  {
   "cell_type": "code",
   "execution_count": 393,
   "metadata": {},
   "outputs": [],
   "source": [
    "#create lists to store corrected values\n",
    "rating_numerator_corrected = []\n",
    "rating_denominator_corrected = []"
   ]
  },
  {
   "cell_type": "code",
   "execution_count": 394,
   "metadata": {},
   "outputs": [],
   "source": [
    "#add correct values to the created list\n",
    "for rating in ratings:\n",
    "    if len(rating) == 0:  # Tweets with no rating\n",
    "        rating_numerator_corrected.append('NA')\n",
    "        rating_denominator_corrected.append('NA')\n",
    "    \n",
    "    \n",
    "    elif len(rating) == 1: # Tweets with one rating\n",
    "        rating_numerator_corrected.append(float(rating[0][-2]))\n",
    "        rating_denominator_corrected.append(float(rating[0][-1]))\n",
    " \n",
    "\n",
    "    elif len(rating) > 1 and rating[0][-1] == '10' and rating[1][-1] == '10': # Tweets with at least two ratings\n",
    "        rating_numerator_total = 0\n",
    "        ratomg_numerator_avg = 0\n",
    "        \n",
    "        for i in range(len(rating)):\n",
    "            rating_numerator_total += float(rating[i][-2])\n",
    "        \n",
    "        rating_numerator_avg = (rating_numerator_total / len(rating))\n",
    "        \n",
    "        rating_numerator_corrected.append(rating_numerator_avg)\n",
    "        rating_denominator_corrected.append(10)\n",
    "    \n",
    "    else:\n",
    "        rating_numerator_corrected.append('error')  # Tweets need mannual checks\n",
    "        rating_denominator_corrected.append('error')"
   ]
  },
  {
   "cell_type": "code",
   "execution_count": 395,
   "metadata": {},
   "outputs": [],
   "source": [
    "#append the created list to the dataframe\n",
    "df_tw_clean['rating_numerator_corrected'] = rating_numerator_corrected\n",
    "df_tw_clean['rating_denominator_corrected'] = rating_denominator_corrected"
   ]
  },
  {
   "cell_type": "code",
   "execution_count": 396,
   "metadata": {},
   "outputs": [],
   "source": [
    "#INSTANT CHECK\n",
    "#df_tw_clean.head()"
   ]
  },
  {
   "cell_type": "code",
   "execution_count": 397,
   "metadata": {},
   "outputs": [
    {
     "data": {
      "text/html": [
       "<div>\n",
       "<style scoped>\n",
       "    .dataframe tbody tr th:only-of-type {\n",
       "        vertical-align: middle;\n",
       "    }\n",
       "\n",
       "    .dataframe tbody tr th {\n",
       "        vertical-align: top;\n",
       "    }\n",
       "\n",
       "    .dataframe thead th {\n",
       "        text-align: right;\n",
       "    }\n",
       "</style>\n",
       "<table border=\"1\" class=\"dataframe\">\n",
       "  <thead>\n",
       "    <tr style=\"text-align: right;\">\n",
       "      <th></th>\n",
       "      <th>text</th>\n",
       "      <th>rating_numerator_corrected</th>\n",
       "      <th>rating_denominator_corrected</th>\n",
       "      <th>rating_numerator</th>\n",
       "      <th>rating_denominator</th>\n",
       "    </tr>\n",
       "  </thead>\n",
       "  <tbody>\n",
       "    <tr>\n",
       "      <th>313</th>\n",
       "      <td>@jonnysun @Lin_Manuel ok jomny I know you're excited but 960/00 isn't a valid rating, 13/10 is tho</td>\n",
       "      <td>error</td>\n",
       "      <td>error</td>\n",
       "      <td>960</td>\n",
       "      <td>0</td>\n",
       "    </tr>\n",
       "    <tr>\n",
       "      <th>1068</th>\n",
       "      <td>After so many requests, this is Bretagne. She was the last surviving 9/11 search dog, and our second ever 14/10. RIP https://t.co/XAVDNDaVgQ</td>\n",
       "      <td>error</td>\n",
       "      <td>error</td>\n",
       "      <td>9</td>\n",
       "      <td>11</td>\n",
       "    </tr>\n",
       "    <tr>\n",
       "      <th>1165</th>\n",
       "      <td>Happy 4/20 from the squad! 13/10 for all https://t.co/eV1diwds8a</td>\n",
       "      <td>error</td>\n",
       "      <td>error</td>\n",
       "      <td>4</td>\n",
       "      <td>20</td>\n",
       "    </tr>\n",
       "    <tr>\n",
       "      <th>1202</th>\n",
       "      <td>This is Bluebert. He just saw that both #FinalFur match ups are split 50/50. Amazed af. 11/10 https://t.co/Kky1DPG4iq</td>\n",
       "      <td>error</td>\n",
       "      <td>error</td>\n",
       "      <td>50</td>\n",
       "      <td>50</td>\n",
       "    </tr>\n",
       "    <tr>\n",
       "      <th>1662</th>\n",
       "      <td>This is Darrel. He just robbed a 7/11 and is in a high speed police chase. Was just spotted by the helicopter 10/10 https://t.co/7EsP8LmSp5</td>\n",
       "      <td>error</td>\n",
       "      <td>error</td>\n",
       "      <td>7</td>\n",
       "      <td>11</td>\n",
       "    </tr>\n",
       "    <tr>\n",
       "      <th>2335</th>\n",
       "      <td>This is an Albanian 3 1/2 legged  Episcopalian. Loves well-polished hardwood flooring. Penis on the collar. 9/10 https://t.co/d9NcXFKwLv</td>\n",
       "      <td>error</td>\n",
       "      <td>error</td>\n",
       "      <td>1</td>\n",
       "      <td>2</td>\n",
       "    </tr>\n",
       "  </tbody>\n",
       "</table>\n",
       "</div>"
      ],
      "text/plain": [
       "                                                                                                                                              text  \\\n",
       "313                                             @jonnysun @Lin_Manuel ok jomny I know you're excited but 960/00 isn't a valid rating, 13/10 is tho   \n",
       "1068  After so many requests, this is Bretagne. She was the last surviving 9/11 search dog, and our second ever 14/10. RIP https://t.co/XAVDNDaVgQ   \n",
       "1165                                                                              Happy 4/20 from the squad! 13/10 for all https://t.co/eV1diwds8a   \n",
       "1202                         This is Bluebert. He just saw that both #FinalFur match ups are split 50/50. Amazed af. 11/10 https://t.co/Kky1DPG4iq   \n",
       "1662   This is Darrel. He just robbed a 7/11 and is in a high speed police chase. Was just spotted by the helicopter 10/10 https://t.co/7EsP8LmSp5   \n",
       "2335      This is an Albanian 3 1/2 legged  Episcopalian. Loves well-polished hardwood flooring. Penis on the collar. 9/10 https://t.co/d9NcXFKwLv   \n",
       "\n",
       "     rating_numerator_corrected rating_denominator_corrected  \\\n",
       "313                       error                        error   \n",
       "1068                      error                        error   \n",
       "1165                      error                        error   \n",
       "1202                      error                        error   \n",
       "1662                      error                        error   \n",
       "2335                      error                        error   \n",
       "\n",
       "      rating_numerator  rating_denominator  \n",
       "313                960                   0  \n",
       "1068                 9                  11  \n",
       "1165                 4                  20  \n",
       "1202                50                  50  \n",
       "1662                 7                  11  \n",
       "2335                 1                   2  "
      ]
     },
     "execution_count": 397,
     "metadata": {},
     "output_type": "execute_result"
    }
   ],
   "source": [
    "#look at the the rows with error values of rating_numerator\n",
    "pd.set_option(\"display.max_colwidth\", None)\n",
    "df_tw_clean.query('rating_numerator_corrected == \"error\"')[['text','rating_numerator_corrected','rating_denominator_corrected','rating_numerator','rating_denominator']]"
   ]
  },
  {
   "cell_type": "code",
   "execution_count": 398,
   "metadata": {},
   "outputs": [],
   "source": [
    "#based on the mannual check, some outlier values are true outlier values and should be kept as it is while some are errors due to multiple fraction values in the text and should be mannually corrected"
   ]
  },
  {
   "cell_type": "code",
   "execution_count": 399,
   "metadata": {},
   "outputs": [],
   "source": [
    "#create a function for correcting error values\n",
    "def correct_values(correction_dict):\n",
    "    for key, value in correction_dict.items():\n",
    "        df_tw_clean.loc[key,['rating_numerator_corrected','rating_denominator_corrected']] = value"
   ]
  },
  {
   "cell_type": "code",
   "execution_count": 400,
   "metadata": {},
   "outputs": [],
   "source": [
    "#create a dictionary for the correct values based on the mannual check for denominator\n",
    "correction_dict = {313:[13,10],1068:[14,10],1165:[13,10],\n",
    "                      1202:[11,10],1662:[10,10],2335:[9,10]}"
   ]
  },
  {
   "cell_type": "code",
   "execution_count": 401,
   "metadata": {},
   "outputs": [],
   "source": [
    "#replace the error values with correct values \n",
    "correct_values(correction_dict)"
   ]
  },
  {
   "cell_type": "code",
   "execution_count": 402,
   "metadata": {},
   "outputs": [],
   "source": [
    "#INSTANT CHECK: \n",
    "#df_tw_clean.query('rating_numerator_corrected == \"error\"')[['text','rating_numerator_corrected','rating_denominator_corrected','rating_numerator','rating_denominator']]"
   ]
  },
  {
   "cell_type": "code",
   "execution_count": 403,
   "metadata": {},
   "outputs": [
    {
     "data": {
      "text/html": [
       "<div>\n",
       "<style scoped>\n",
       "    .dataframe tbody tr th:only-of-type {\n",
       "        vertical-align: middle;\n",
       "    }\n",
       "\n",
       "    .dataframe tbody tr th {\n",
       "        vertical-align: top;\n",
       "    }\n",
       "\n",
       "    .dataframe thead th {\n",
       "        text-align: right;\n",
       "    }\n",
       "</style>\n",
       "<table border=\"1\" class=\"dataframe\">\n",
       "  <thead>\n",
       "    <tr style=\"text-align: right;\">\n",
       "      <th></th>\n",
       "      <th>text</th>\n",
       "      <th>rating_numerator_corrected</th>\n",
       "      <th>rating_denominator_corrected</th>\n",
       "      <th>rating_numerator</th>\n",
       "      <th>rating_denominator</th>\n",
       "    </tr>\n",
       "  </thead>\n",
       "  <tbody>\n",
       "  </tbody>\n",
       "</table>\n",
       "</div>"
      ],
      "text/plain": [
       "Empty DataFrame\n",
       "Columns: [text, rating_numerator_corrected, rating_denominator_corrected, rating_numerator, rating_denominator]\n",
       "Index: []"
      ]
     },
     "execution_count": 403,
     "metadata": {},
     "output_type": "execute_result"
    }
   ],
   "source": [
    "#check the NA values\n",
    "df_tw_clean.query('rating_numerator_corrected == \"NA\"')[['text','rating_numerator_corrected','rating_denominator_corrected','rating_numerator','rating_denominator']]"
   ]
  },
  {
   "cell_type": "code",
   "execution_count": 404,
   "metadata": {},
   "outputs": [
    {
     "data": {
      "text/html": [
       "<div>\n",
       "<style scoped>\n",
       "    .dataframe tbody tr th:only-of-type {\n",
       "        vertical-align: middle;\n",
       "    }\n",
       "\n",
       "    .dataframe tbody tr th {\n",
       "        vertical-align: top;\n",
       "    }\n",
       "\n",
       "    .dataframe thead th {\n",
       "        text-align: right;\n",
       "    }\n",
       "</style>\n",
       "<table border=\"1\" class=\"dataframe\">\n",
       "  <thead>\n",
       "    <tr style=\"text-align: right;\">\n",
       "      <th></th>\n",
       "      <th>text</th>\n",
       "      <th>rating_numerator_corrected</th>\n",
       "      <th>rating_denominator_corrected</th>\n",
       "      <th>rating_numerator</th>\n",
       "      <th>rating_denominator</th>\n",
       "    </tr>\n",
       "  </thead>\n",
       "  <tbody>\n",
       "    <tr>\n",
       "      <th>342</th>\n",
       "      <td>@docmisterio account started on 11/15/15</td>\n",
       "      <td>11.0</td>\n",
       "      <td>15.0</td>\n",
       "      <td>11</td>\n",
       "      <td>15</td>\n",
       "    </tr>\n",
       "    <tr>\n",
       "      <th>433</th>\n",
       "      <td>The floofs have been released I repeat the floofs have been released. 84/70 https://t.co/NIYC820tmd</td>\n",
       "      <td>84.0</td>\n",
       "      <td>70.0</td>\n",
       "      <td>84</td>\n",
       "      <td>70</td>\n",
       "    </tr>\n",
       "    <tr>\n",
       "      <th>516</th>\n",
       "      <td>Meet Sam. She smiles 24/7 &amp;amp; secretly aspires to be a reindeer. \\nKeep Sam smiling by clicking and sharing this link:\\nhttps://t.co/98tB8y7y7t https://t.co/LouL5vdvxx</td>\n",
       "      <td>24.0</td>\n",
       "      <td>7.0</td>\n",
       "      <td>24</td>\n",
       "      <td>7</td>\n",
       "    </tr>\n",
       "    <tr>\n",
       "      <th>902</th>\n",
       "      <td>Why does this never happen at my front door... 165/150 https://t.co/HmwrdfEfUE</td>\n",
       "      <td>165.0</td>\n",
       "      <td>150.0</td>\n",
       "      <td>165</td>\n",
       "      <td>150</td>\n",
       "    </tr>\n",
       "    <tr>\n",
       "      <th>1120</th>\n",
       "      <td>Say hello to this unbelievably well behaved squad of doggos. 204/170 would try to pet all at once https://t.co/yGQI3He3xv</td>\n",
       "      <td>204.0</td>\n",
       "      <td>170.0</td>\n",
       "      <td>204</td>\n",
       "      <td>170</td>\n",
       "    </tr>\n",
       "    <tr>\n",
       "      <th>1228</th>\n",
       "      <td>Happy Saturday here's 9 puppers on a bench. 99/90 good work everybody https://t.co/mpvaVxKmc1</td>\n",
       "      <td>99.0</td>\n",
       "      <td>90.0</td>\n",
       "      <td>99</td>\n",
       "      <td>90</td>\n",
       "    </tr>\n",
       "    <tr>\n",
       "      <th>1254</th>\n",
       "      <td>Here's a brigade of puppers. All look very prepared for whatever happens next. 80/80 https://t.co/0eb7R1Om12</td>\n",
       "      <td>80.0</td>\n",
       "      <td>80.0</td>\n",
       "      <td>80</td>\n",
       "      <td>80</td>\n",
       "    </tr>\n",
       "    <tr>\n",
       "      <th>1274</th>\n",
       "      <td>From left to right:\\nCletus, Jerome, Alejandro, Burp, &amp;amp; Titson\\nNone know where camera is. 45/50 would hug all at once https://t.co/sedre1ivTK</td>\n",
       "      <td>45.0</td>\n",
       "      <td>50.0</td>\n",
       "      <td>45</td>\n",
       "      <td>50</td>\n",
       "    </tr>\n",
       "    <tr>\n",
       "      <th>1351</th>\n",
       "      <td>Here is a whole flock of puppers.  60/50 I'll take the lot https://t.co/9dpcw6MdWa</td>\n",
       "      <td>60.0</td>\n",
       "      <td>50.0</td>\n",
       "      <td>60</td>\n",
       "      <td>50</td>\n",
       "    </tr>\n",
       "    <tr>\n",
       "      <th>1433</th>\n",
       "      <td>Happy Wednesday here's a bucket of pups. 44/40 would pet all at once https://t.co/HppvrYuamZ</td>\n",
       "      <td>44.0</td>\n",
       "      <td>40.0</td>\n",
       "      <td>44</td>\n",
       "      <td>40</td>\n",
       "    </tr>\n",
       "    <tr>\n",
       "      <th>1598</th>\n",
       "      <td>Yes I do realize a rating of 4/20 would've been fitting. However, it would be unjust to give these cooperative pups that low of a rating</td>\n",
       "      <td>4.0</td>\n",
       "      <td>20.0</td>\n",
       "      <td>4</td>\n",
       "      <td>20</td>\n",
       "    </tr>\n",
       "    <tr>\n",
       "      <th>1634</th>\n",
       "      <td>Two sneaky puppers were not initially seen, moving the rating to 143/130. Please forgive us. Thank you https://t.co/kRK51Y5ac3</td>\n",
       "      <td>143.0</td>\n",
       "      <td>130.0</td>\n",
       "      <td>143</td>\n",
       "      <td>130</td>\n",
       "    </tr>\n",
       "    <tr>\n",
       "      <th>1635</th>\n",
       "      <td>Someone help the girl is being mugged. Several are distracting her while two steal her shoes. Clever puppers 121/110 https://t.co/1zfnTJLt55</td>\n",
       "      <td>121.0</td>\n",
       "      <td>110.0</td>\n",
       "      <td>121</td>\n",
       "      <td>110</td>\n",
       "    </tr>\n",
       "    <tr>\n",
       "      <th>1663</th>\n",
       "      <td>I'm aware that I could've said 20/16, but here at WeRateDogs we are very professional. An inconsistent rating scale is simply irresponsible</td>\n",
       "      <td>20.0</td>\n",
       "      <td>16.0</td>\n",
       "      <td>20</td>\n",
       "      <td>16</td>\n",
       "    </tr>\n",
       "    <tr>\n",
       "      <th>1779</th>\n",
       "      <td>IT'S PUPPERGEDDON. Total of 144/120 ...I think https://t.co/ZanVtAtvIq</td>\n",
       "      <td>144.0</td>\n",
       "      <td>120.0</td>\n",
       "      <td>144</td>\n",
       "      <td>120</td>\n",
       "    </tr>\n",
       "    <tr>\n",
       "      <th>1843</th>\n",
       "      <td>Here we have an entire platoon of puppers. Total score: 88/80 would pet all at once https://t.co/y93p6FLvVw</td>\n",
       "      <td>88.0</td>\n",
       "      <td>80.0</td>\n",
       "      <td>88</td>\n",
       "      <td>80</td>\n",
       "    </tr>\n",
       "  </tbody>\n",
       "</table>\n",
       "</div>"
      ],
      "text/plain": [
       "                                                                                                                                                                           text  \\\n",
       "342                                                                                                                                    @docmisterio account started on 11/15/15   \n",
       "433                                                                         The floofs have been released I repeat the floofs have been released. 84/70 https://t.co/NIYC820tmd   \n",
       "516   Meet Sam. She smiles 24/7 &amp; secretly aspires to be a reindeer. \\nKeep Sam smiling by clicking and sharing this link:\\nhttps://t.co/98tB8y7y7t https://t.co/LouL5vdvxx   \n",
       "902                                                                                              Why does this never happen at my front door... 165/150 https://t.co/HmwrdfEfUE   \n",
       "1120                                                  Say hello to this unbelievably well behaved squad of doggos. 204/170 would try to pet all at once https://t.co/yGQI3He3xv   \n",
       "1228                                                                              Happy Saturday here's 9 puppers on a bench. 99/90 good work everybody https://t.co/mpvaVxKmc1   \n",
       "1254                                                               Here's a brigade of puppers. All look very prepared for whatever happens next. 80/80 https://t.co/0eb7R1Om12   \n",
       "1274                         From left to right:\\nCletus, Jerome, Alejandro, Burp, &amp; Titson\\nNone know where camera is. 45/50 would hug all at once https://t.co/sedre1ivTK   \n",
       "1351                                                                                         Here is a whole flock of puppers.  60/50 I'll take the lot https://t.co/9dpcw6MdWa   \n",
       "1433                                                                               Happy Wednesday here's a bucket of pups. 44/40 would pet all at once https://t.co/HppvrYuamZ   \n",
       "1598                                   Yes I do realize a rating of 4/20 would've been fitting. However, it would be unjust to give these cooperative pups that low of a rating   \n",
       "1634                                             Two sneaky puppers were not initially seen, moving the rating to 143/130. Please forgive us. Thank you https://t.co/kRK51Y5ac3   \n",
       "1635                               Someone help the girl is being mugged. Several are distracting her while two steal her shoes. Clever puppers 121/110 https://t.co/1zfnTJLt55   \n",
       "1663                                I'm aware that I could've said 20/16, but here at WeRateDogs we are very professional. An inconsistent rating scale is simply irresponsible   \n",
       "1779                                                                                                     IT'S PUPPERGEDDON. Total of 144/120 ...I think https://t.co/ZanVtAtvIq   \n",
       "1843                                                                Here we have an entire platoon of puppers. Total score: 88/80 would pet all at once https://t.co/y93p6FLvVw   \n",
       "\n",
       "     rating_numerator_corrected rating_denominator_corrected  \\\n",
       "342                        11.0                         15.0   \n",
       "433                        84.0                         70.0   \n",
       "516                        24.0                          7.0   \n",
       "902                       165.0                        150.0   \n",
       "1120                      204.0                        170.0   \n",
       "1228                       99.0                         90.0   \n",
       "1254                       80.0                         80.0   \n",
       "1274                       45.0                         50.0   \n",
       "1351                       60.0                         50.0   \n",
       "1433                       44.0                         40.0   \n",
       "1598                        4.0                         20.0   \n",
       "1634                      143.0                        130.0   \n",
       "1635                      121.0                        110.0   \n",
       "1663                       20.0                         16.0   \n",
       "1779                      144.0                        120.0   \n",
       "1843                       88.0                         80.0   \n",
       "\n",
       "      rating_numerator  rating_denominator  \n",
       "342                 11                  15  \n",
       "433                 84                  70  \n",
       "516                 24                   7  \n",
       "902                165                 150  \n",
       "1120               204                 170  \n",
       "1228                99                  90  \n",
       "1254                80                  80  \n",
       "1274                45                  50  \n",
       "1351                60                  50  \n",
       "1433                44                  40  \n",
       "1598                 4                  20  \n",
       "1634               143                 130  \n",
       "1635               121                 110  \n",
       "1663                20                  16  \n",
       "1779               144                 120  \n",
       "1843                88                  80  "
      ]
     },
     "execution_count": 404,
     "metadata": {},
     "output_type": "execute_result"
    }
   ],
   "source": [
    "#recheck all ratings with non-10 denominator\n",
    "df_tw_clean.query('rating_denominator_corrected !=10')[['text','rating_numerator_corrected','rating_denominator_corrected','rating_numerator','rating_denominator']]"
   ]
  },
  {
   "cell_type": "code",
   "execution_count": 405,
   "metadata": {},
   "outputs": [],
   "source": [
    "#the row with index 516 has no rating (24/7 means 24 hours/7 days) which is incorrect and should be dropped\n",
    "df_tw_clean.drop(index = 516, inplace = True)"
   ]
  },
  {
   "cell_type": "code",
   "execution_count": 406,
   "metadata": {},
   "outputs": [
    {
     "data": {
      "text/html": [
       "<div>\n",
       "<style scoped>\n",
       "    .dataframe tbody tr th:only-of-type {\n",
       "        vertical-align: middle;\n",
       "    }\n",
       "\n",
       "    .dataframe tbody tr th {\n",
       "        vertical-align: top;\n",
       "    }\n",
       "\n",
       "    .dataframe thead th {\n",
       "        text-align: right;\n",
       "    }\n",
       "</style>\n",
       "<table border=\"1\" class=\"dataframe\">\n",
       "  <thead>\n",
       "    <tr style=\"text-align: right;\">\n",
       "      <th></th>\n",
       "      <th>tweet_id</th>\n",
       "      <th>in_reply_to_status_id</th>\n",
       "      <th>in_reply_to_user_id</th>\n",
       "      <th>timestamp</th>\n",
       "      <th>source</th>\n",
       "      <th>text</th>\n",
       "      <th>retweeted_status_id</th>\n",
       "      <th>retweeted_status_user_id</th>\n",
       "      <th>retweeted_status_timestamp</th>\n",
       "      <th>expanded_urls</th>\n",
       "      <th>rating_numerator</th>\n",
       "      <th>rating_denominator</th>\n",
       "      <th>name</th>\n",
       "      <th>doggo</th>\n",
       "      <th>floofer</th>\n",
       "      <th>pupper</th>\n",
       "      <th>puppo</th>\n",
       "      <th>rating_numerator_corrected</th>\n",
       "      <th>rating_denominator_corrected</th>\n",
       "    </tr>\n",
       "  </thead>\n",
       "  <tbody>\n",
       "  </tbody>\n",
       "</table>\n",
       "</div>"
      ],
      "text/plain": [
       "Empty DataFrame\n",
       "Columns: [tweet_id, in_reply_to_status_id, in_reply_to_user_id, timestamp, source, text, retweeted_status_id, retweeted_status_user_id, retweeted_status_timestamp, expanded_urls, rating_numerator, rating_denominator, name, doggo, floofer, pupper, puppo, rating_numerator_corrected, rating_denominator_corrected]\n",
       "Index: []"
      ]
     },
     "execution_count": 406,
     "metadata": {},
     "output_type": "execute_result"
    }
   ],
   "source": [
    "#INSTANT CHECK: \n",
    "df_tw_clean.query('index == 516')"
   ]
  },
  {
   "cell_type": "code",
   "execution_count": 407,
   "metadata": {},
   "outputs": [],
   "source": [
    "#create a new variable: dog_rating (=rating_numerator/rating_denominator)\n",
    "df_tw_clean['dog_rating'] = df_tw_clean['rating_numerator_corrected']/df_tw_clean['rating_denominator_corrected']"
   ]
  },
  {
   "cell_type": "code",
   "execution_count": 408,
   "metadata": {},
   "outputs": [],
   "source": [
    "#drop rating_numerator and rating_denominator\n",
    "df_tw_clean.drop(columns = ['rating_numerator','rating_denominator'], inplace = True)"
   ]
  },
  {
   "cell_type": "markdown",
   "metadata": {},
   "source": [
    "#### Test"
   ]
  },
  {
   "cell_type": "code",
   "execution_count": 409,
   "metadata": {},
   "outputs": [
    {
     "name": "stdout",
     "output_type": "stream",
     "text": [
      "<class 'pandas.core.frame.DataFrame'>\n",
      "Int64Index: 2174 entries, 0 to 2355\n",
      "Data columns (total 18 columns):\n",
      " #   Column                        Non-Null Count  Dtype              \n",
      "---  ------                        --------------  -----              \n",
      " 0   tweet_id                      2174 non-null   string             \n",
      " 1   in_reply_to_status_id         78 non-null     string             \n",
      " 2   in_reply_to_user_id           78 non-null     string             \n",
      " 3   timestamp                     2174 non-null   datetime64[ns, UTC]\n",
      " 4   source                        2174 non-null   object             \n",
      " 5   text                          2174 non-null   object             \n",
      " 6   retweeted_status_id           0 non-null      string             \n",
      " 7   retweeted_status_user_id      0 non-null      string             \n",
      " 8   retweeted_status_timestamp    0 non-null      datetime64[ns, UTC]\n",
      " 9   expanded_urls                 2116 non-null   object             \n",
      " 10  name                          2174 non-null   object             \n",
      " 11  doggo                         2174 non-null   object             \n",
      " 12  floofer                       2174 non-null   object             \n",
      " 13  pupper                        2174 non-null   object             \n",
      " 14  puppo                         2174 non-null   object             \n",
      " 15  rating_numerator_corrected    2174 non-null   object             \n",
      " 16  rating_denominator_corrected  2174 non-null   object             \n",
      " 17  dog_rating                    2174 non-null   object             \n",
      "dtypes: datetime64[ns, UTC](2), object(11), string(5)\n",
      "memory usage: 322.7+ KB\n"
     ]
    }
   ],
   "source": [
    "#recheck the info of df_tw_clean (esp. variable types)\n",
    "df_tw_clean.info()"
   ]
  },
  {
   "cell_type": "code",
   "execution_count": 410,
   "metadata": {},
   "outputs": [],
   "source": [
    "#change the variable type of rating_numerator, rating_denominator and dog_rating to float\n",
    "df_tw_clean[['rating_numerator_corrected','rating_denominator_corrected', 'dog_rating']] = df_tw_clean[['rating_numerator_corrected','rating_denominator_corrected','dog_rating']].astype('float64')"
   ]
  },
  {
   "cell_type": "code",
   "execution_count": 411,
   "metadata": {},
   "outputs": [
    {
     "name": "stdout",
     "output_type": "stream",
     "text": [
      "<class 'pandas.core.frame.DataFrame'>\n",
      "Int64Index: 2174 entries, 0 to 2355\n",
      "Data columns (total 18 columns):\n",
      " #   Column                        Non-Null Count  Dtype              \n",
      "---  ------                        --------------  -----              \n",
      " 0   tweet_id                      2174 non-null   string             \n",
      " 1   in_reply_to_status_id         78 non-null     string             \n",
      " 2   in_reply_to_user_id           78 non-null     string             \n",
      " 3   timestamp                     2174 non-null   datetime64[ns, UTC]\n",
      " 4   source                        2174 non-null   object             \n",
      " 5   text                          2174 non-null   object             \n",
      " 6   retweeted_status_id           0 non-null      string             \n",
      " 7   retweeted_status_user_id      0 non-null      string             \n",
      " 8   retweeted_status_timestamp    0 non-null      datetime64[ns, UTC]\n",
      " 9   expanded_urls                 2116 non-null   object             \n",
      " 10  name                          2174 non-null   object             \n",
      " 11  doggo                         2174 non-null   object             \n",
      " 12  floofer                       2174 non-null   object             \n",
      " 13  pupper                        2174 non-null   object             \n",
      " 14  puppo                         2174 non-null   object             \n",
      " 15  rating_numerator_corrected    2174 non-null   float64            \n",
      " 16  rating_denominator_corrected  2174 non-null   float64            \n",
      " 17  dog_rating                    2174 non-null   float64            \n",
      "dtypes: datetime64[ns, UTC](2), float64(3), object(8), string(5)\n",
      "memory usage: 322.7+ KB\n"
     ]
    }
   ],
   "source": [
    "df_tw_clean.info()"
   ]
  },
  {
   "cell_type": "code",
   "execution_count": 412,
   "metadata": {},
   "outputs": [
    {
     "data": {
      "text/plain": [
       "count    2174.000000\n",
       "mean        1.218941\n",
       "std         4.244993\n",
       "min         0.000000\n",
       "25%         1.000000\n",
       "50%         1.100000\n",
       "75%         1.200000\n",
       "max       177.600000\n",
       "Name: dog_rating, dtype: float64"
      ]
     },
     "execution_count": 412,
     "metadata": {},
     "output_type": "execute_result"
    }
   ],
   "source": [
    "#check the basic statistics of dog_rating\n",
    "df_tw_clean.dog_rating.describe()"
   ]
  },
  {
   "cell_type": "code",
   "execution_count": 413,
   "metadata": {},
   "outputs": [
    {
     "data": {
      "text/plain": [
       "tweet_id                                     string\n",
       "in_reply_to_status_id                        string\n",
       "in_reply_to_user_id                          string\n",
       "timestamp                       datetime64[ns, UTC]\n",
       "source                                       object\n",
       "text                                         object\n",
       "retweeted_status_id                          string\n",
       "retweeted_status_user_id                     string\n",
       "retweeted_status_timestamp      datetime64[ns, UTC]\n",
       "expanded_urls                                object\n",
       "name                                         object\n",
       "doggo                                        object\n",
       "floofer                                      object\n",
       "pupper                                       object\n",
       "puppo                                        object\n",
       "rating_numerator_corrected                  float64\n",
       "rating_denominator_corrected                float64\n",
       "dog_rating                                  float64\n",
       "dtype: object"
      ]
     },
     "execution_count": 413,
     "metadata": {},
     "output_type": "execute_result"
    }
   ],
   "source": [
    "df_tw_clean.dtypes"
   ]
  },
  {
   "cell_type": "markdown",
   "metadata": {},
   "source": [
    "### Issue #5: Missing and irrelevant information in ```expanded_urls``` in ```df_tw```"
   ]
  },
  {
   "cell_type": "markdown",
   "metadata": {},
   "source": [
    "#### Define\n",
    "1.  Fill missing values based on ```tweet_id```\n",
    "2. Remove the non-twitter links (e.g., ```https://gofundme.com/ydvmve-surgery-for-jax``` in ```https://gofundme.com/ydvmve-surgery-for-jax,https://twitter.com/dog_rates/status/890971913173991426/photo/1```) from ```expanded_urls``` and store these non-twitter links in a new variable -- ```additional_urls```"
   ]
  },
  {
   "cell_type": "markdown",
   "metadata": {},
   "source": [
    "#### Code"
   ]
  },
  {
   "cell_type": "code",
   "execution_count": 414,
   "metadata": {},
   "outputs": [],
   "source": [
    "#find tweets with missing expanded_urls and store nthem in a list:\n",
    "MissingUrls_index = np.where(df_tw_clean['expanded_urls'].isna())[0]"
   ]
  },
  {
   "cell_type": "code",
   "execution_count": 415,
   "metadata": {},
   "outputs": [
    {
     "data": {
      "text/plain": [
       "array([  29,   52,   61,  101,  130,  156,  160,  162,  163,  187,  196,\n",
       "        200,  234,  246,  247,  263,  287,  290,  316,  326,  345,  358,\n",
       "        412,  426,  469,  474,  491,  563,  568,  680,  693,  791,  829,\n",
       "        901, 1115, 1165, 1265, 1266, 1294, 1299, 1317, 1343, 1418, 1425,\n",
       "       1438, 1483, 1509, 1594, 1639, 1664, 1715, 1725, 1734, 1760, 1858,\n",
       "       1969, 2009, 2116])"
      ]
     },
     "execution_count": 415,
     "metadata": {},
     "output_type": "execute_result"
    }
   ],
   "source": [
    "MissingUrls_index"
   ]
  },
  {
   "cell_type": "code",
   "execution_count": 416,
   "metadata": {},
   "outputs": [
    {
     "data": {
      "text/plain": [
       "58"
      ]
     },
     "execution_count": 416,
     "metadata": {},
     "output_type": "execute_result"
    }
   ],
   "source": [
    "len(MissingUrls_index)"
   ]
  },
  {
   "cell_type": "code",
   "execution_count": 417,
   "metadata": {},
   "outputs": [],
   "source": [
    "#change the variable type of expanded_urls from object to string\n",
    "df_tw_clean['expanded_urls'] = df_tw_clean['expanded_urls'].astype('string')"
   ]
  },
  {
   "cell_type": "code",
   "execution_count": 418,
   "metadata": {},
   "outputs": [],
   "source": [
    "#fill the missing information\n",
    "for i in MissingUrls_index:\n",
    "    filled_id = df_tw_clean['tweet_id'].iloc[i]\n",
    "    filled_url = 'https://twitter.com/dog_rates/status/'+filled_id+'/photo/1'\n",
    "    df_tw_clean['expanded_urls'].iloc[i] = filled_url"
   ]
  },
  {
   "cell_type": "code",
   "execution_count": 419,
   "metadata": {},
   "outputs": [
    {
     "data": {
      "text/plain": [
       "tweet_id                                                                                                  890971913173991426\n",
       "expanded_urls    https://gofundme.com/ydvmve-surgery-for-jax,https://twitter.com/dog_rates/status/890971913173991426/photo/1\n",
       "Name: 6, dtype: string"
      ]
     },
     "execution_count": 419,
     "metadata": {},
     "output_type": "execute_result"
    }
   ],
   "source": [
    "#randomly check the tweets missing Urls and see if the correct urls has been filled\n",
    "df_tw_clean[['tweet_id','expanded_urls']].iloc[6]"
   ]
  },
  {
   "cell_type": "code",
   "execution_count": 420,
   "metadata": {},
   "outputs": [
    {
     "name": "stdout",
     "output_type": "stream",
     "text": [
      "<class 'pandas.core.frame.DataFrame'>\n",
      "Int64Index: 2174 entries, 0 to 2355\n",
      "Data columns (total 18 columns):\n",
      " #   Column                        Non-Null Count  Dtype              \n",
      "---  ------                        --------------  -----              \n",
      " 0   tweet_id                      2174 non-null   string             \n",
      " 1   in_reply_to_status_id         78 non-null     string             \n",
      " 2   in_reply_to_user_id           78 non-null     string             \n",
      " 3   timestamp                     2174 non-null   datetime64[ns, UTC]\n",
      " 4   source                        2174 non-null   object             \n",
      " 5   text                          2174 non-null   object             \n",
      " 6   retweeted_status_id           0 non-null      string             \n",
      " 7   retweeted_status_user_id      0 non-null      string             \n",
      " 8   retweeted_status_timestamp    0 non-null      datetime64[ns, UTC]\n",
      " 9   expanded_urls                 2174 non-null   string             \n",
      " 10  name                          2174 non-null   object             \n",
      " 11  doggo                         2174 non-null   object             \n",
      " 12  floofer                       2174 non-null   object             \n",
      " 13  pupper                        2174 non-null   object             \n",
      " 14  puppo                         2174 non-null   object             \n",
      " 15  rating_numerator_corrected    2174 non-null   float64            \n",
      " 16  rating_denominator_corrected  2174 non-null   float64            \n",
      " 17  dog_rating                    2174 non-null   float64            \n",
      "dtypes: datetime64[ns, UTC](2), float64(3), object(7), string(6)\n",
      "memory usage: 322.7+ KB\n"
     ]
    }
   ],
   "source": [
    "df_tw_clean.info()"
   ]
  },
  {
   "cell_type": "code",
   "execution_count": 421,
   "metadata": {},
   "outputs": [
    {
     "data": {
      "text/html": [
       "<div>\n",
       "<style scoped>\n",
       "    .dataframe tbody tr th:only-of-type {\n",
       "        vertical-align: middle;\n",
       "    }\n",
       "\n",
       "    .dataframe tbody tr th {\n",
       "        vertical-align: top;\n",
       "    }\n",
       "\n",
       "    .dataframe thead th {\n",
       "        text-align: right;\n",
       "    }\n",
       "</style>\n",
       "<table border=\"1\" class=\"dataframe\">\n",
       "  <thead>\n",
       "    <tr style=\"text-align: right;\">\n",
       "      <th></th>\n",
       "      <th>expanded_urls</th>\n",
       "    </tr>\n",
       "  </thead>\n",
       "  <tbody>\n",
       "    <tr>\n",
       "      <th>0</th>\n",
       "      <td>https://twitter.com/dog_rates/status/892420643555336193/photo/1</td>\n",
       "    </tr>\n",
       "    <tr>\n",
       "      <th>1</th>\n",
       "      <td>https://twitter.com/dog_rates/status/892177421306343426/photo/1</td>\n",
       "    </tr>\n",
       "    <tr>\n",
       "      <th>2</th>\n",
       "      <td>https://twitter.com/dog_rates/status/891815181378084864/photo/1</td>\n",
       "    </tr>\n",
       "    <tr>\n",
       "      <th>3</th>\n",
       "      <td>https://twitter.com/dog_rates/status/891689557279858688/photo/1</td>\n",
       "    </tr>\n",
       "    <tr>\n",
       "      <th>4</th>\n",
       "      <td>https://twitter.com/dog_rates/status/891327558926688256/photo/1,https://twitter.com/dog_rates/status/891327558926688256/photo/1</td>\n",
       "    </tr>\n",
       "    <tr>\n",
       "      <th>...</th>\n",
       "      <td>...</td>\n",
       "    </tr>\n",
       "    <tr>\n",
       "      <th>2351</th>\n",
       "      <td>https://twitter.com/dog_rates/status/666049248165822465/photo/1</td>\n",
       "    </tr>\n",
       "    <tr>\n",
       "      <th>2352</th>\n",
       "      <td>https://twitter.com/dog_rates/status/666044226329800704/photo/1</td>\n",
       "    </tr>\n",
       "    <tr>\n",
       "      <th>2353</th>\n",
       "      <td>https://twitter.com/dog_rates/status/666033412701032449/photo/1</td>\n",
       "    </tr>\n",
       "    <tr>\n",
       "      <th>2354</th>\n",
       "      <td>https://twitter.com/dog_rates/status/666029285002620928/photo/1</td>\n",
       "    </tr>\n",
       "    <tr>\n",
       "      <th>2355</th>\n",
       "      <td>https://twitter.com/dog_rates/status/666020888022790149/photo/1</td>\n",
       "    </tr>\n",
       "  </tbody>\n",
       "</table>\n",
       "<p>2174 rows × 1 columns</p>\n",
       "</div>"
      ],
      "text/plain": [
       "                                                                                                                        expanded_urls\n",
       "0                                                                     https://twitter.com/dog_rates/status/892420643555336193/photo/1\n",
       "1                                                                     https://twitter.com/dog_rates/status/892177421306343426/photo/1\n",
       "2                                                                     https://twitter.com/dog_rates/status/891815181378084864/photo/1\n",
       "3                                                                     https://twitter.com/dog_rates/status/891689557279858688/photo/1\n",
       "4     https://twitter.com/dog_rates/status/891327558926688256/photo/1,https://twitter.com/dog_rates/status/891327558926688256/photo/1\n",
       "...                                                                                                                               ...\n",
       "2351                                                                  https://twitter.com/dog_rates/status/666049248165822465/photo/1\n",
       "2352                                                                  https://twitter.com/dog_rates/status/666044226329800704/photo/1\n",
       "2353                                                                  https://twitter.com/dog_rates/status/666033412701032449/photo/1\n",
       "2354                                                                  https://twitter.com/dog_rates/status/666029285002620928/photo/1\n",
       "2355                                                                  https://twitter.com/dog_rates/status/666020888022790149/photo/1\n",
       "\n",
       "[2174 rows x 1 columns]"
      ]
     },
     "execution_count": 421,
     "metadata": {},
     "output_type": "execute_result"
    }
   ],
   "source": [
    "df_tw_clean[['expanded_urls']]"
   ]
  },
  {
   "cell_type": "code",
   "execution_count": 422,
   "metadata": {},
   "outputs": [],
   "source": [
    "#create a list to store these all urls\n",
    "url_lists = []\n",
    "for k, url in enumerate (df_tw_clean['expanded_urls']):\n",
    "    url_lists.append(url.split(','))"
   ]
  },
  {
   "cell_type": "code",
   "execution_count": 423,
   "metadata": {},
   "outputs": [],
   "source": [
    "# create two dictionaries to seperate twitter links and non twitter links\n",
    "url_twitter_dict = {}\n",
    "url_nontwitter_dict = {}\n",
    "\n",
    "for index, url_list in enumerate(url_lists):\n",
    "    url_twitter = []\n",
    "    url_nontwitter = []\n",
    "    for url in url_list:\n",
    "        if 'twitter.com' in url:\n",
    "            url_twitter.append(url)\n",
    "        else:\n",
    "            url_nontwitter.append(url)\n",
    "    url_twitter_dict[index] = \",\".join(url_twitter)\n",
    "    url_nontwitter_dict[index] = \",\".join(url_nontwitter)"
   ]
  },
  {
   "cell_type": "code",
   "execution_count": 424,
   "metadata": {},
   "outputs": [],
   "source": [
    "# reset index of ```df_tw``` because some rows were deleted \n",
    "df_tw_clean.reset_index(inplace = True)\n",
    "df_tw_clean.drop (columns = ['index'], inplace = True)"
   ]
  },
  {
   "cell_type": "code",
   "execution_count": 425,
   "metadata": {},
   "outputs": [],
   "source": [
    "#create a new variable ```additional_urls``` and store non twitter links there\n",
    "#update ```expanded_urls``` with twitter links only\n",
    "df_tw_clean['expanded_urls'] = pd.Series(url_twitter_dict)\n",
    "\n",
    "df_tw_clean['additional_urls'] = \"\"\n",
    "df_tw_clean['additional_urls']= pd.Series(url_nontwitter_dict)"
   ]
  },
  {
   "cell_type": "code",
   "execution_count": 426,
   "metadata": {},
   "outputs": [],
   "source": [
    "# replace \" \" with NaN\n",
    "df_tw_clean['additional_urls'].replace(r'', np.NaN, inplace = True)\n",
    "df_tw_clean['expanded_urls'].replace(r'', np.NaN, inplace = True)"
   ]
  },
  {
   "cell_type": "markdown",
   "metadata": {},
   "source": [
    "#### Test"
   ]
  },
  {
   "cell_type": "code",
   "execution_count": 427,
   "metadata": {},
   "outputs": [
    {
     "name": "stdout",
     "output_type": "stream",
     "text": [
      "<class 'pandas.core.frame.DataFrame'>\n",
      "RangeIndex: 2174 entries, 0 to 2173\n",
      "Data columns (total 19 columns):\n",
      " #   Column                        Non-Null Count  Dtype              \n",
      "---  ------                        --------------  -----              \n",
      " 0   tweet_id                      2174 non-null   string             \n",
      " 1   in_reply_to_status_id         78 non-null     string             \n",
      " 2   in_reply_to_user_id           78 non-null     string             \n",
      " 3   timestamp                     2174 non-null   datetime64[ns, UTC]\n",
      " 4   source                        2174 non-null   object             \n",
      " 5   text                          2174 non-null   object             \n",
      " 6   retweeted_status_id           0 non-null      string             \n",
      " 7   retweeted_status_user_id      0 non-null      string             \n",
      " 8   retweeted_status_timestamp    0 non-null      datetime64[ns, UTC]\n",
      " 9   expanded_urls                 2080 non-null   object             \n",
      " 10  name                          2174 non-null   object             \n",
      " 11  doggo                         2174 non-null   object             \n",
      " 12  floofer                       2174 non-null   object             \n",
      " 13  pupper                        2174 non-null   object             \n",
      " 14  puppo                         2174 non-null   object             \n",
      " 15  rating_numerator_corrected    2174 non-null   float64            \n",
      " 16  rating_denominator_corrected  2174 non-null   float64            \n",
      " 17  dog_rating                    2174 non-null   float64            \n",
      " 18  additional_urls               121 non-null    object             \n",
      "dtypes: datetime64[ns, UTC](2), float64(3), object(9), string(5)\n",
      "memory usage: 322.8+ KB\n"
     ]
    }
   ],
   "source": [
    "df_tw_clean.info()"
   ]
  },
  {
   "cell_type": "code",
   "execution_count": 428,
   "metadata": {},
   "outputs": [
    {
     "data": {
      "text/plain": [
       "False    2080\n",
       "True       94\n",
       "Name: expanded_urls, dtype: int64"
      ]
     },
     "execution_count": 428,
     "metadata": {},
     "output_type": "execute_result"
    }
   ],
   "source": [
    "df_tw_clean.expanded_urls.isna().value_counts()"
   ]
  },
  {
   "cell_type": "code",
   "execution_count": 429,
   "metadata": {},
   "outputs": [
    {
     "data": {
      "text/plain": [
       "True     2053\n",
       "False     121\n",
       "Name: additional_urls, dtype: int64"
      ]
     },
     "execution_count": 429,
     "metadata": {},
     "output_type": "execute_result"
    }
   ],
   "source": [
    "df_tw_clean.additional_urls.isna().value_counts()"
   ]
  },
  {
   "cell_type": "code",
   "execution_count": 430,
   "metadata": {},
   "outputs": [
    {
     "data": {
      "text/plain": [
       "(array([ 282,  371,  440,  463,  528,  539,  561,  574,  575,  590,  592,\n",
       "        602,  608,  631,  714,  718,  735,  765,  767,  771,  775,  778,\n",
       "        809,  820,  823,  830,  835,  843,  845,  855,  872,  883,  896,\n",
       "        916,  929,  967, 1015, 1022, 1027, 1029, 1038, 1042, 1048, 1075,\n",
       "       1077, 1095, 1098, 1106, 1119, 1121, 1133, 1146, 1169, 1184, 1189,\n",
       "       1196, 1229, 1247, 1251, 1263, 1269, 1281, 1286, 1291, 1302, 1322,\n",
       "       1325, 1335, 1348, 1354, 1369, 1386, 1390, 1397, 1406, 1412, 1416,\n",
       "       1445, 1448, 1460, 1470, 1496, 1526, 1548, 1563, 1570, 1580, 1596,\n",
       "       1611, 1627, 1638, 1654, 1736, 2032]),)"
      ]
     },
     "execution_count": 430,
     "metadata": {},
     "output_type": "execute_result"
    }
   ],
   "source": [
    "#some random check\n",
    "np.where(df_tw_clean['expanded_urls'].isna()==True)"
   ]
  },
  {
   "cell_type": "code",
   "execution_count": 431,
   "metadata": {},
   "outputs": [
    {
     "data": {
      "text/plain": [
       "additional_urls    http://us.blastingnews.com/news/2017/01/200-dogs-saved-from-south-korean-dog-meat-industry-001385441.html?sbdht=_pM1QUzk3wsfscF9XF2WEd9KoWDpsQlMUjfh1HxxUq0u5mMbiu2B0kw2_\n",
       "expanded_urls                                                                                                                                                                            NaN\n",
       "Name: 371, dtype: object"
      ]
     },
     "execution_count": 431,
     "metadata": {},
     "output_type": "execute_result"
    }
   ],
   "source": [
    "df_tw_clean[['additional_urls','expanded_urls']].iloc[371]"
   ]
  },
  {
   "cell_type": "markdown",
   "metadata": {},
   "source": [
    "### Issue #6: Redudant information in ```source``` in ```df_img```"
   ]
  },
  {
   "cell_type": "markdown",
   "metadata": {},
   "source": [
    "#### Define\n",
    "1. Extract key information"
   ]
  },
  {
   "cell_type": "markdown",
   "metadata": {},
   "source": [
    "#### Code"
   ]
  },
  {
   "cell_type": "code",
   "execution_count": 158,
   "metadata": {},
   "outputs": [],
   "source": [
    "df_tw_clean['source'] = df_tw_clean['source'].apply(lambda x: re.findall(r'>(.*)<', x)[0])"
   ]
  },
  {
   "cell_type": "markdown",
   "metadata": {},
   "source": [
    "#### Test"
   ]
  },
  {
   "cell_type": "code",
   "execution_count": 159,
   "metadata": {},
   "outputs": [
    {
     "data": {
      "text/plain": [
       "0       Twitter for iPhone\n",
       "1       Twitter for iPhone\n",
       "2       Twitter for iPhone\n",
       "3       Twitter for iPhone\n",
       "4       Twitter for iPhone\n",
       "               ...        \n",
       "2351    Twitter for iPhone\n",
       "2352    Twitter for iPhone\n",
       "2353    Twitter for iPhone\n",
       "2354    Twitter for iPhone\n",
       "2355    Twitter for iPhone\n",
       "Name: source, Length: 2174, dtype: object"
      ]
     },
     "execution_count": 159,
     "metadata": {},
     "output_type": "execute_result"
    }
   ],
   "source": [
    "df_tw_clean['source'] "
   ]
  },
  {
   "cell_type": "markdown",
   "metadata": {},
   "source": [
    "### Issue #7: Duplicated values for ```jpg_url``` in ```df_img```"
   ]
  },
  {
   "cell_type": "markdown",
   "metadata": {},
   "source": [
    "#### Define\n",
    "1. Drop duplicated values"
   ]
  },
  {
   "cell_type": "markdown",
   "metadata": {},
   "source": [
    "#### Code"
   ]
  },
  {
   "cell_type": "code",
   "execution_count": 160,
   "metadata": {},
   "outputs": [],
   "source": [
    "#drop duplicated jpg urls\n",
    "df_img_clean.drop_duplicates(subset = ['jpg_url'], inplace = True)"
   ]
  },
  {
   "cell_type": "markdown",
   "metadata": {},
   "source": [
    "#### Test"
   ]
  },
  {
   "cell_type": "code",
   "execution_count": 161,
   "metadata": {},
   "outputs": [
    {
     "data": {
      "text/plain": [
       "False    2009\n",
       "Name: jpg_url, dtype: int64"
      ]
     },
     "execution_count": 161,
     "metadata": {},
     "output_type": "execute_result"
    }
   ],
   "source": [
    "#check whether there are still duplicated urls\n",
    "df_img_clean.jpg_url.duplicated().value_counts()"
   ]
  },
  {
   "cell_type": "markdown",
   "metadata": {},
   "source": [
    "### Issue #8: Missing imagines for some tweets (N of df_img < N of df_tw) in ```df_img```"
   ]
  },
  {
   "cell_type": "markdown",
   "metadata": {},
   "source": [
    "#### Define\n",
    "1. use inner merge when creating the master dataset to drop the tweets missing imagines as we are only interested in tweets with imagines"
   ]
  },
  {
   "cell_type": "markdown",
   "metadata": {},
   "source": [
    "#### Code\n",
    "1. See the codes for merging the datasets and creating the master dataset"
   ]
  },
  {
   "cell_type": "markdown",
   "metadata": {},
   "source": [
    "#### Test\n",
    "1. See the test after merging the datasets and creating the master dataset"
   ]
  },
  {
   "cell_type": "markdown",
   "metadata": {},
   "source": [
    "### Issue #9: Multiple columns for one variable - dog_stage (```doggo```, ```pupper```, ```puppo```, ```floofer```) in ```df_tw```"
   ]
  },
  {
   "cell_type": "markdown",
   "metadata": {},
   "source": [
    "#### Define\n",
    "1. Check different types of dog_stages\n",
    "2. Store dog stage informations in to one variable: ```dog_stage```\n",
    "3. Drop ```doggo```, ```pupper```, ```puppo```, ```floofer```"
   ]
  },
  {
   "cell_type": "markdown",
   "metadata": {},
   "source": [
    "#### Code"
   ]
  },
  {
   "cell_type": "code",
   "execution_count": 124,
   "metadata": {},
   "outputs": [],
   "source": [
    "#Check the types of of dog stages"
   ]
  },
  {
   "cell_type": "code",
   "execution_count": 432,
   "metadata": {},
   "outputs": [],
   "source": [
    "dog_stages = ['doggo','pupper','puppo','floofer']\n",
    "for stage in dog_stages:\n",
    "    df_tw_clean.replace('None','',inplace=True)"
   ]
  },
  {
   "cell_type": "code",
   "execution_count": 433,
   "metadata": {},
   "outputs": [
    {
     "data": {
      "text/html": [
       "<div>\n",
       "<style scoped>\n",
       "    .dataframe tbody tr th:only-of-type {\n",
       "        vertical-align: middle;\n",
       "    }\n",
       "\n",
       "    .dataframe tbody tr th {\n",
       "        vertical-align: top;\n",
       "    }\n",
       "\n",
       "    .dataframe thead th {\n",
       "        text-align: right;\n",
       "    }\n",
       "</style>\n",
       "<table border=\"1\" class=\"dataframe\">\n",
       "  <thead>\n",
       "    <tr style=\"text-align: right;\">\n",
       "      <th></th>\n",
       "      <th>doggo</th>\n",
       "      <th>floofer</th>\n",
       "      <th>pupper</th>\n",
       "      <th>puppo</th>\n",
       "      <th>count</th>\n",
       "    </tr>\n",
       "  </thead>\n",
       "  <tbody>\n",
       "    <tr>\n",
       "      <th>0</th>\n",
       "      <td></td>\n",
       "      <td></td>\n",
       "      <td></td>\n",
       "      <td></td>\n",
       "      <td>1830</td>\n",
       "    </tr>\n",
       "    <tr>\n",
       "      <th>1</th>\n",
       "      <td></td>\n",
       "      <td></td>\n",
       "      <td></td>\n",
       "      <td>puppo</td>\n",
       "      <td>24</td>\n",
       "    </tr>\n",
       "    <tr>\n",
       "      <th>2</th>\n",
       "      <td></td>\n",
       "      <td></td>\n",
       "      <td>pupper</td>\n",
       "      <td></td>\n",
       "      <td>224</td>\n",
       "    </tr>\n",
       "    <tr>\n",
       "      <th>3</th>\n",
       "      <td></td>\n",
       "      <td>floofer</td>\n",
       "      <td></td>\n",
       "      <td></td>\n",
       "      <td>9</td>\n",
       "    </tr>\n",
       "    <tr>\n",
       "      <th>4</th>\n",
       "      <td>doggo</td>\n",
       "      <td></td>\n",
       "      <td></td>\n",
       "      <td></td>\n",
       "      <td>75</td>\n",
       "    </tr>\n",
       "    <tr>\n",
       "      <th>5</th>\n",
       "      <td>doggo</td>\n",
       "      <td></td>\n",
       "      <td></td>\n",
       "      <td>puppo</td>\n",
       "      <td>1</td>\n",
       "    </tr>\n",
       "    <tr>\n",
       "      <th>6</th>\n",
       "      <td>doggo</td>\n",
       "      <td></td>\n",
       "      <td>pupper</td>\n",
       "      <td></td>\n",
       "      <td>10</td>\n",
       "    </tr>\n",
       "    <tr>\n",
       "      <th>7</th>\n",
       "      <td>doggo</td>\n",
       "      <td>floofer</td>\n",
       "      <td></td>\n",
       "      <td></td>\n",
       "      <td>1</td>\n",
       "    </tr>\n",
       "  </tbody>\n",
       "</table>\n",
       "</div>"
      ],
      "text/plain": [
       "   doggo  floofer  pupper  puppo  count\n",
       "0                                  1830\n",
       "1                          puppo     24\n",
       "2                  pupper           224\n",
       "3         floofer                     9\n",
       "4  doggo                             75\n",
       "5  doggo                   puppo      1\n",
       "6  doggo           pupper            10\n",
       "7  doggo  floofer                     1"
      ]
     },
     "execution_count": 433,
     "metadata": {},
     "output_type": "execute_result"
    }
   ],
   "source": [
    "df_tw_clean.groupby([\"doggo\", \"floofer\", \"pupper\", \"puppo\"]).size().reset_index().rename(columns={0: \"count\"})"
   ]
  },
  {
   "cell_type": "code",
   "execution_count": 434,
   "metadata": {},
   "outputs": [],
   "source": [
    "## the results show there are dogs with multiple stages (i.e., 'doggo, puppo','doggo, pupper','doggo, floofer')"
   ]
  },
  {
   "cell_type": "code",
   "execution_count": 435,
   "metadata": {},
   "outputs": [],
   "source": [
    "#create an empty column named \"dog_stage\"\n",
    "df_tw_clean['dog_stage'] = \"\" "
   ]
  },
  {
   "cell_type": "code",
   "execution_count": 436,
   "metadata": {},
   "outputs": [],
   "source": [
    "#store all the dog stage information in the new variable \"dog_stage\"\n",
    "df_tw_clean.dog_stage = df_tw_clean.doggo + df_tw_clean.floofer + df_tw_clean.pupper + df_tw_clean.puppo"
   ]
  },
  {
   "cell_type": "code",
   "execution_count": 437,
   "metadata": {},
   "outputs": [
    {
     "data": {
      "text/plain": [
       "                1830\n",
       "pupper           224\n",
       "doggo             75\n",
       "puppo             24\n",
       "doggopupper       10\n",
       "floofer            9\n",
       "doggopuppo         1\n",
       "doggofloofer       1\n",
       "Name: dog_stage, dtype: int64"
      ]
     },
     "execution_count": 437,
     "metadata": {},
     "output_type": "execute_result"
    }
   ],
   "source": [
    "df_tw_clean['dog_stage'].value_counts()"
   ]
  },
  {
   "cell_type": "code",
   "execution_count": 438,
   "metadata": {},
   "outputs": [],
   "source": [
    "#rename multiple dog stages with comma to seperate the two stages"
   ]
  },
  {
   "cell_type": "code",
   "execution_count": 439,
   "metadata": {},
   "outputs": [],
   "source": [
    "df_tw_clean.loc[df_tw_clean.dog_stage == 'doggopupper','dog_stage'] = 'doggo, pupper'"
   ]
  },
  {
   "cell_type": "code",
   "execution_count": 440,
   "metadata": {},
   "outputs": [],
   "source": [
    "df_tw_clean.loc[df_tw_clean.dog_stage == 'doggopuppo','dog_stage'] = 'doggo, puppo'"
   ]
  },
  {
   "cell_type": "code",
   "execution_count": 441,
   "metadata": {},
   "outputs": [],
   "source": [
    "df_tw_clean.loc[df_tw_clean.dog_stage == 'doggofloofer','dog_stage'] = 'doggo, floofer'"
   ]
  },
  {
   "cell_type": "code",
   "execution_count": 442,
   "metadata": {},
   "outputs": [
    {
     "data": {
      "text/plain": [
       "                  1830\n",
       "pupper             224\n",
       "doggo               75\n",
       "puppo               24\n",
       "doggo, pupper       10\n",
       "floofer              9\n",
       "doggo, puppo         1\n",
       "doggo, floofer       1\n",
       "Name: dog_stage, dtype: int64"
      ]
     },
     "execution_count": 442,
     "metadata": {},
     "output_type": "execute_result"
    }
   ],
   "source": [
    "df_tw_clean['dog_stage'].value_counts()"
   ]
  },
  {
   "cell_type": "code",
   "execution_count": 443,
   "metadata": {},
   "outputs": [],
   "source": [
    "#check these dogs with multiple dog stages to see if they are truly in multiple stages or it was due to misinterpretation of the text"
   ]
  },
  {
   "cell_type": "code",
   "execution_count": 444,
   "metadata": {},
   "outputs": [],
   "source": [
    "## create a new variable \"dog_stage_multiple\"\n",
    "df_tw_clean['dog_stage_multiple'] = \"\"\n",
    "df_tw_clean.dog_stage_multiple = np.where((df_tw_clean['dog_stage'] == 'doggo, pupper') | (df_tw_clean['dog_stage'] == 'doggo, puppo') | (df_tw_clean['dog_stage'] =='doggo, floofer'),'True','False')"
   ]
  },
  {
   "cell_type": "code",
   "execution_count": 445,
   "metadata": {},
   "outputs": [
    {
     "data": {
      "text/plain": [
       "False    2162\n",
       "True       12\n",
       "Name: dog_stage_multiple, dtype: int64"
      ]
     },
     "execution_count": 445,
     "metadata": {},
     "output_type": "execute_result"
    }
   ],
   "source": [
    "df_tw_clean['dog_stage_multiple'].value_counts()"
   ]
  },
  {
   "cell_type": "code",
   "execution_count": 446,
   "metadata": {},
   "outputs": [],
   "source": [
    "##retrieve \"tweet_id\",'text' for dogs with mulitple stages and mannually read the text information"
   ]
  },
  {
   "cell_type": "code",
   "execution_count": 447,
   "metadata": {},
   "outputs": [
    {
     "data": {
      "text/html": [
       "<div>\n",
       "<style scoped>\n",
       "    .dataframe tbody tr th:only-of-type {\n",
       "        vertical-align: middle;\n",
       "    }\n",
       "\n",
       "    .dataframe tbody tr th {\n",
       "        vertical-align: top;\n",
       "    }\n",
       "\n",
       "    .dataframe thead th {\n",
       "        text-align: right;\n",
       "    }\n",
       "</style>\n",
       "<table border=\"1\" class=\"dataframe\">\n",
       "  <thead>\n",
       "    <tr style=\"text-align: right;\">\n",
       "      <th></th>\n",
       "      <th>tweet_id</th>\n",
       "      <th>text</th>\n",
       "      <th>dog_stage</th>\n",
       "      <th>dog_stage_multiple</th>\n",
       "    </tr>\n",
       "  </thead>\n",
       "  <tbody>\n",
       "    <tr>\n",
       "      <th>165</th>\n",
       "      <td>855851453814013952</td>\n",
       "      <td>Here's a puppo participating in the #ScienceMarch. Cleverly disguising her own doggo agenda. 13/10 would keep the planet habitable for https://t.co/cMhq16isel</td>\n",
       "      <td>doggo, puppo</td>\n",
       "      <td>True</td>\n",
       "    </tr>\n",
       "    <tr>\n",
       "      <th>172</th>\n",
       "      <td>854010172552949760</td>\n",
       "      <td>At first I thought this was a shy doggo, but it's actually a Rare Canadian Floofer Owl. Amateurs would confuse the two. 11/10 only send dogs https://t.co/TXdT3tmuYk</td>\n",
       "      <td>doggo, floofer</td>\n",
       "      <td>True</td>\n",
       "    </tr>\n",
       "    <tr>\n",
       "      <th>382</th>\n",
       "      <td>817777686764523521</td>\n",
       "      <td>This is Dido. She's playing the lead role in \"Pupper Stops to Catch Snow Before Resuming Shadow Box with Dried Apple.\" 13/10 (IG: didodoggo) https://t.co/m7isZrOBX7</td>\n",
       "      <td>doggo, pupper</td>\n",
       "      <td>True</td>\n",
       "    </tr>\n",
       "    <tr>\n",
       "      <th>441</th>\n",
       "      <td>808106460588765185</td>\n",
       "      <td>Here we have Burke (pupper) and Dexter (doggo). Pupper wants to be exactly like doggo. Both 12/10 would pet at same time https://t.co/ANBpEYHaho</td>\n",
       "      <td>doggo, pupper</td>\n",
       "      <td>True</td>\n",
       "    </tr>\n",
       "    <tr>\n",
       "      <th>466</th>\n",
       "      <td>802265048156610565</td>\n",
       "      <td>Like doggo, like pupper version 2. Both 11/10 https://t.co/9IxWAXFqze</td>\n",
       "      <td>doggo, pupper</td>\n",
       "      <td>True</td>\n",
       "    </tr>\n",
       "    <tr>\n",
       "      <th>473</th>\n",
       "      <td>801115127852503040</td>\n",
       "      <td>This is Bones. He's being haunted by another doggo of roughly the same size. 12/10 deep breaths pupper everything's fine https://t.co/55Dqe0SJNj</td>\n",
       "      <td>doggo, pupper</td>\n",
       "      <td>True</td>\n",
       "    </tr>\n",
       "    <tr>\n",
       "      <th>566</th>\n",
       "      <td>785639753186217984</td>\n",
       "      <td>This is Pinot. He's a sophisticated doggo. You can tell by the hat. Also pointier than your average pupper. Still 10/10 would pet cautiously https://t.co/f2wmLZTPHd</td>\n",
       "      <td>doggo, pupper</td>\n",
       "      <td>True</td>\n",
       "    </tr>\n",
       "    <tr>\n",
       "      <th>592</th>\n",
       "      <td>781308096455073793</td>\n",
       "      <td>Pupper butt 1, Doggo 0. Both 12/10 https://t.co/WQvcPEpH2u</td>\n",
       "      <td>doggo, pupper</td>\n",
       "      <td>True</td>\n",
       "    </tr>\n",
       "    <tr>\n",
       "      <th>721</th>\n",
       "      <td>759793422261743616</td>\n",
       "      <td>Meet Maggie &amp;amp; Lila. Maggie is the doggo, Lila is the pupper. They are sisters. Both 12/10 would pet at the same time https://t.co/MYwR4DQKll</td>\n",
       "      <td>doggo, pupper</td>\n",
       "      <td>True</td>\n",
       "    </tr>\n",
       "    <tr>\n",
       "      <th>780</th>\n",
       "      <td>751583847268179968</td>\n",
       "      <td>Please stop sending it pictures that don't even have a doggo or pupper in them. Churlish af. 5/10 neat couch tho https://t.co/u2c9c7qSg8</td>\n",
       "      <td>doggo, pupper</td>\n",
       "      <td>True</td>\n",
       "    </tr>\n",
       "    <tr>\n",
       "      <th>884</th>\n",
       "      <td>741067306818797568</td>\n",
       "      <td>This is just downright precious af. 12/10 for both pupper and doggo https://t.co/o5J479bZUC</td>\n",
       "      <td>doggo, pupper</td>\n",
       "      <td>True</td>\n",
       "    </tr>\n",
       "    <tr>\n",
       "      <th>934</th>\n",
       "      <td>733109485275860992</td>\n",
       "      <td>Like father (doggo), like son (pupper). Both 12/10 https://t.co/pG2inLaOda</td>\n",
       "      <td>doggo, pupper</td>\n",
       "      <td>True</td>\n",
       "    </tr>\n",
       "  </tbody>\n",
       "</table>\n",
       "</div>"
      ],
      "text/plain": [
       "               tweet_id  \\\n",
       "165  855851453814013952   \n",
       "172  854010172552949760   \n",
       "382  817777686764523521   \n",
       "441  808106460588765185   \n",
       "466  802265048156610565   \n",
       "473  801115127852503040   \n",
       "566  785639753186217984   \n",
       "592  781308096455073793   \n",
       "721  759793422261743616   \n",
       "780  751583847268179968   \n",
       "884  741067306818797568   \n",
       "934  733109485275860992   \n",
       "\n",
       "                                                                                                                                                                     text  \\\n",
       "165        Here's a puppo participating in the #ScienceMarch. Cleverly disguising her own doggo agenda. 13/10 would keep the planet habitable for https://t.co/cMhq16isel   \n",
       "172  At first I thought this was a shy doggo, but it's actually a Rare Canadian Floofer Owl. Amateurs would confuse the two. 11/10 only send dogs https://t.co/TXdT3tmuYk   \n",
       "382  This is Dido. She's playing the lead role in \"Pupper Stops to Catch Snow Before Resuming Shadow Box with Dried Apple.\" 13/10 (IG: didodoggo) https://t.co/m7isZrOBX7   \n",
       "441                      Here we have Burke (pupper) and Dexter (doggo). Pupper wants to be exactly like doggo. Both 12/10 would pet at same time https://t.co/ANBpEYHaho   \n",
       "466                                                                                                 Like doggo, like pupper version 2. Both 11/10 https://t.co/9IxWAXFqze   \n",
       "473                      This is Bones. He's being haunted by another doggo of roughly the same size. 12/10 deep breaths pupper everything's fine https://t.co/55Dqe0SJNj   \n",
       "566  This is Pinot. He's a sophisticated doggo. You can tell by the hat. Also pointier than your average pupper. Still 10/10 would pet cautiously https://t.co/f2wmLZTPHd   \n",
       "592                                                                                                            Pupper butt 1, Doggo 0. Both 12/10 https://t.co/WQvcPEpH2u   \n",
       "721                      Meet Maggie &amp; Lila. Maggie is the doggo, Lila is the pupper. They are sisters. Both 12/10 would pet at the same time https://t.co/MYwR4DQKll   \n",
       "780                              Please stop sending it pictures that don't even have a doggo or pupper in them. Churlish af. 5/10 neat couch tho https://t.co/u2c9c7qSg8   \n",
       "884                                                                           This is just downright precious af. 12/10 for both pupper and doggo https://t.co/o5J479bZUC   \n",
       "934                                                                                            Like father (doggo), like son (pupper). Both 12/10 https://t.co/pG2inLaOda   \n",
       "\n",
       "          dog_stage dog_stage_multiple  \n",
       "165    doggo, puppo               True  \n",
       "172  doggo, floofer               True  \n",
       "382   doggo, pupper               True  \n",
       "441   doggo, pupper               True  \n",
       "466   doggo, pupper               True  \n",
       "473   doggo, pupper               True  \n",
       "566   doggo, pupper               True  \n",
       "592   doggo, pupper               True  \n",
       "721   doggo, pupper               True  \n",
       "780   doggo, pupper               True  \n",
       "884   doggo, pupper               True  \n",
       "934   doggo, pupper               True  "
      ]
     },
     "execution_count": 447,
     "metadata": {},
     "output_type": "execute_result"
    }
   ],
   "source": [
    "df_tw_clean[['tweet_id','text','dog_stage','dog_stage_multiple']].query('dog_stage_multiple == \"True\"')"
   ]
  },
  {
   "cell_type": "code",
   "execution_count": 367,
   "metadata": {},
   "outputs": [],
   "source": [
    "## based on the text, it shows some multiple dog stages are not truly multiple dog stages:\n",
    "### 165: doggo; ### 172: floofer; ### 382:doggo; ###473:pupper ###566: doggo ###780: NA(as doggo or pupper does not describe the dog itself)"
   ]
  },
  {
   "cell_type": "code",
   "execution_count": 448,
   "metadata": {},
   "outputs": [],
   "source": [
    "### correct the values for dog_stages based on the mannual check\n",
    "def correct_values2(correction_dict):\n",
    "    for key, value in correction_dict.items():\n",
    "        df_tw_clean.loc[key,['dog_stage']] = value\n",
    "        \n",
    "\n",
    "correction_dict2 = {165:'doggo',172:'floofer',382:'doggo',\n",
    "                    473:'pupper',566:'doggo',780:''}"
   ]
  },
  {
   "cell_type": "code",
   "execution_count": 449,
   "metadata": {},
   "outputs": [],
   "source": [
    "correct_values2(correction_dict2)"
   ]
  },
  {
   "cell_type": "code",
   "execution_count": 450,
   "metadata": {},
   "outputs": [
    {
     "data": {
      "text/plain": [
       "                 1831\n",
       "pupper            225\n",
       "doggo              78\n",
       "puppo              24\n",
       "floofer            10\n",
       "doggo, pupper       6\n",
       "Name: dog_stage, dtype: int64"
      ]
     },
     "execution_count": 450,
     "metadata": {},
     "output_type": "execute_result"
    }
   ],
   "source": [
    "df_tw_clean.dog_stage.value_counts()"
   ]
  },
  {
   "cell_type": "code",
   "execution_count": 451,
   "metadata": {},
   "outputs": [],
   "source": [
    "#add none values for missing dog_stage\n",
    "df_tw_clean.dog_stage.replace('','None',inplace = True)"
   ]
  },
  {
   "cell_type": "code",
   "execution_count": 452,
   "metadata": {},
   "outputs": [],
   "source": [
    "#drop doggo, pupper, puppo, floofer columns\n",
    "df_tw_clean.drop(columns = dog_stages, inplace = True)"
   ]
  },
  {
   "cell_type": "markdown",
   "metadata": {},
   "source": [
    "#### Test"
   ]
  },
  {
   "cell_type": "code",
   "execution_count": 453,
   "metadata": {},
   "outputs": [
    {
     "data": {
      "text/plain": [
       "Index(['tweet_id', 'in_reply_to_status_id', 'in_reply_to_user_id', 'timestamp',\n",
       "       'source', 'text', 'retweeted_status_id', 'retweeted_status_user_id',\n",
       "       'retweeted_status_timestamp', 'expanded_urls', 'name',\n",
       "       'rating_numerator_corrected', 'rating_denominator_corrected',\n",
       "       'dog_rating', 'additional_urls', 'dog_stage', 'dog_stage_multiple'],\n",
       "      dtype='object')"
      ]
     },
     "execution_count": 453,
     "metadata": {},
     "output_type": "execute_result"
    }
   ],
   "source": [
    "#check whether doggo, pupper, puppo, floofer columns have been dropped\n",
    "df_tw_clean.columns"
   ]
  },
  {
   "cell_type": "code",
   "execution_count": 454,
   "metadata": {},
   "outputs": [
    {
     "data": {
      "text/plain": [
       "None             1831\n",
       "pupper            225\n",
       "doggo              78\n",
       "puppo              24\n",
       "floofer            10\n",
       "doggo, pupper       6\n",
       "Name: dog_stage, dtype: int64"
      ]
     },
     "execution_count": 454,
     "metadata": {},
     "output_type": "execute_result"
    }
   ],
   "source": [
    "#check the values for the new variable - dog_stage\n",
    "df_tw_clean.dog_stage.value_counts()"
   ]
  },
  {
   "cell_type": "markdown",
   "metadata": {},
   "source": [
    "### Issue #10: Multiple predictions for one variable - ```dog_breed``` (```p1```, ```p2```, ```p3```) in ```df_img```"
   ]
  },
  {
   "cell_type": "markdown",
   "metadata": {},
   "source": [
    "### Define\n",
    "1. Choose the algorithm predicting dog correctly (since all pictures are indeed dogs) and with the highest accuracy (note that p1_conf > p2_conf > p3_conf)\n",
    "2. Create two new variable: ```dog_breed``` and ```p_conf```\n",
    "4. Add values for the two new variables \n",
    "3. Drop ```p1```, ```p2```, ```p3```,```p1_cof```, ```p2_cof```, ```p3_cof```,```p1_dog```, ```p2_dog```, ```p3_dog```"
   ]
  },
  {
   "cell_type": "markdown",
   "metadata": {},
   "source": [
    "#### Code"
   ]
  },
  {
   "cell_type": "code",
   "execution_count": 182,
   "metadata": {},
   "outputs": [],
   "source": [
    "dog_breed_list = []\n",
    "p_conf_list = []\n",
    "\n",
    "#create a function for adding values to dog_breed and p_conf\n",
    "def assign_dog_breed(df):\n",
    "    \n",
    "    if df['p1_dog'] == True:\n",
    "        dog_breed_list.append(df['p1'])\n",
    "        p_conf_list.append(df['p1_conf'])\n",
    "    elif df['p2_dog'] == True:\n",
    "        dog_breed_list.append(df['p2'])\n",
    "        p_conf_list.append(df['p2_conf'])\n",
    "    elif df['p3_dog'] == True:\n",
    "        dog_breed_list.append(df['p3'])\n",
    "        p_conf_list.append(df['p3_conf'])\n",
    "    else:\n",
    "        dog_breed_list.append('NA')\n",
    "        p_conf_list.append(0)"
   ]
  },
  {
   "cell_type": "code",
   "execution_count": 183,
   "metadata": {},
   "outputs": [],
   "source": [
    "#apply the function to df_img_clean\n",
    "df_img_clean.apply(assign_dog_breed, axis=1)\n",
    "df_img_clean['dog_breed'] = dog_breed_list\n",
    "df_img_clean['p_conf'] = p_conf_list"
   ]
  },
  {
   "cell_type": "code",
   "execution_count": 184,
   "metadata": {},
   "outputs": [],
   "source": [
    "#drop p1, p2, p3,p1_cof, p2_cof, p3_cof,p1_dog, p2_dog, p3_dog\n",
    "df_img_clean.drop(columns = ['p1','p2','p3','p1_conf','p2_conf','p3_conf','p1_dog','p2_dog','p3_dog'],inplace = True)"
   ]
  },
  {
   "cell_type": "code",
   "execution_count": 185,
   "metadata": {},
   "outputs": [
    {
     "data": {
      "text/html": [
       "<div>\n",
       "<style scoped>\n",
       "    .dataframe tbody tr th:only-of-type {\n",
       "        vertical-align: middle;\n",
       "    }\n",
       "\n",
       "    .dataframe tbody tr th {\n",
       "        vertical-align: top;\n",
       "    }\n",
       "\n",
       "    .dataframe thead th {\n",
       "        text-align: right;\n",
       "    }\n",
       "</style>\n",
       "<table border=\"1\" class=\"dataframe\">\n",
       "  <thead>\n",
       "    <tr style=\"text-align: right;\">\n",
       "      <th></th>\n",
       "      <th>tweet_id</th>\n",
       "      <th>jpg_url</th>\n",
       "      <th>img_num</th>\n",
       "      <th>dog_breed</th>\n",
       "      <th>p_conf</th>\n",
       "    </tr>\n",
       "  </thead>\n",
       "  <tbody>\n",
       "    <tr>\n",
       "      <th>0</th>\n",
       "      <td>666020888022790149</td>\n",
       "      <td>https://pbs.twimg.com/media/CT4udn0WwAA0aMy.jpg</td>\n",
       "      <td>1</td>\n",
       "      <td>Welsh_springer_spaniel</td>\n",
       "      <td>0.465074</td>\n",
       "    </tr>\n",
       "    <tr>\n",
       "      <th>1</th>\n",
       "      <td>666029285002620928</td>\n",
       "      <td>https://pbs.twimg.com/media/CT42GRgUYAA5iDo.jpg</td>\n",
       "      <td>1</td>\n",
       "      <td>redbone</td>\n",
       "      <td>0.506826</td>\n",
       "    </tr>\n",
       "    <tr>\n",
       "      <th>2</th>\n",
       "      <td>666033412701032449</td>\n",
       "      <td>https://pbs.twimg.com/media/CT4521TWwAEvMyu.jpg</td>\n",
       "      <td>1</td>\n",
       "      <td>German_shepherd</td>\n",
       "      <td>0.596461</td>\n",
       "    </tr>\n",
       "    <tr>\n",
       "      <th>3</th>\n",
       "      <td>666044226329800704</td>\n",
       "      <td>https://pbs.twimg.com/media/CT5Dr8HUEAA-lEu.jpg</td>\n",
       "      <td>1</td>\n",
       "      <td>Rhodesian_ridgeback</td>\n",
       "      <td>0.408143</td>\n",
       "    </tr>\n",
       "    <tr>\n",
       "      <th>4</th>\n",
       "      <td>666049248165822465</td>\n",
       "      <td>https://pbs.twimg.com/media/CT5IQmsXIAAKY4A.jpg</td>\n",
       "      <td>1</td>\n",
       "      <td>miniature_pinscher</td>\n",
       "      <td>0.560311</td>\n",
       "    </tr>\n",
       "    <tr>\n",
       "      <th>...</th>\n",
       "      <td>...</td>\n",
       "      <td>...</td>\n",
       "      <td>...</td>\n",
       "      <td>...</td>\n",
       "      <td>...</td>\n",
       "    </tr>\n",
       "    <tr>\n",
       "      <th>2070</th>\n",
       "      <td>891327558926688256</td>\n",
       "      <td>https://pbs.twimg.com/media/DF6hr6BUMAAzZgT.jpg</td>\n",
       "      <td>2</td>\n",
       "      <td>basset</td>\n",
       "      <td>0.555712</td>\n",
       "    </tr>\n",
       "    <tr>\n",
       "      <th>2071</th>\n",
       "      <td>891689557279858688</td>\n",
       "      <td>https://pbs.twimg.com/media/DF_q7IAWsAEuuN8.jpg</td>\n",
       "      <td>1</td>\n",
       "      <td>Labrador_retriever</td>\n",
       "      <td>0.168086</td>\n",
       "    </tr>\n",
       "    <tr>\n",
       "      <th>2072</th>\n",
       "      <td>891815181378084864</td>\n",
       "      <td>https://pbs.twimg.com/media/DGBdLU1WsAANxJ9.jpg</td>\n",
       "      <td>1</td>\n",
       "      <td>Chihuahua</td>\n",
       "      <td>0.716012</td>\n",
       "    </tr>\n",
       "    <tr>\n",
       "      <th>2073</th>\n",
       "      <td>892177421306343426</td>\n",
       "      <td>https://pbs.twimg.com/media/DGGmoV4XsAAUL6n.jpg</td>\n",
       "      <td>1</td>\n",
       "      <td>Chihuahua</td>\n",
       "      <td>0.323581</td>\n",
       "    </tr>\n",
       "    <tr>\n",
       "      <th>2074</th>\n",
       "      <td>892420643555336193</td>\n",
       "      <td>https://pbs.twimg.com/media/DGKD1-bXoAAIAUK.jpg</td>\n",
       "      <td>1</td>\n",
       "      <td>NA</td>\n",
       "      <td>0.000000</td>\n",
       "    </tr>\n",
       "  </tbody>\n",
       "</table>\n",
       "<p>2009 rows × 5 columns</p>\n",
       "</div>"
      ],
      "text/plain": [
       "                tweet_id                                          jpg_url  \\\n",
       "0     666020888022790149  https://pbs.twimg.com/media/CT4udn0WwAA0aMy.jpg   \n",
       "1     666029285002620928  https://pbs.twimg.com/media/CT42GRgUYAA5iDo.jpg   \n",
       "2     666033412701032449  https://pbs.twimg.com/media/CT4521TWwAEvMyu.jpg   \n",
       "3     666044226329800704  https://pbs.twimg.com/media/CT5Dr8HUEAA-lEu.jpg   \n",
       "4     666049248165822465  https://pbs.twimg.com/media/CT5IQmsXIAAKY4A.jpg   \n",
       "...                  ...                                              ...   \n",
       "2070  891327558926688256  https://pbs.twimg.com/media/DF6hr6BUMAAzZgT.jpg   \n",
       "2071  891689557279858688  https://pbs.twimg.com/media/DF_q7IAWsAEuuN8.jpg   \n",
       "2072  891815181378084864  https://pbs.twimg.com/media/DGBdLU1WsAANxJ9.jpg   \n",
       "2073  892177421306343426  https://pbs.twimg.com/media/DGGmoV4XsAAUL6n.jpg   \n",
       "2074  892420643555336193  https://pbs.twimg.com/media/DGKD1-bXoAAIAUK.jpg   \n",
       "\n",
       "      img_num               dog_breed    p_conf  \n",
       "0           1  Welsh_springer_spaniel  0.465074  \n",
       "1           1                 redbone  0.506826  \n",
       "2           1         German_shepherd  0.596461  \n",
       "3           1     Rhodesian_ridgeback  0.408143  \n",
       "4           1      miniature_pinscher  0.560311  \n",
       "...       ...                     ...       ...  \n",
       "2070        2                  basset  0.555712  \n",
       "2071        1      Labrador_retriever  0.168086  \n",
       "2072        1               Chihuahua  0.716012  \n",
       "2073        1               Chihuahua  0.323581  \n",
       "2074        1                      NA  0.000000  \n",
       "\n",
       "[2009 rows x 5 columns]"
      ]
     },
     "execution_count": 185,
     "metadata": {},
     "output_type": "execute_result"
    }
   ],
   "source": [
    "df_img_clean"
   ]
  },
  {
   "cell_type": "code",
   "execution_count": 186,
   "metadata": {},
   "outputs": [],
   "source": [
    "#make all dog breed to be lower case\n",
    "df_img_clean.dog_breed = df_img_clean.dog_breed.str.lower()"
   ]
  },
  {
   "cell_type": "markdown",
   "metadata": {},
   "source": [
    "#### Test"
   ]
  },
  {
   "cell_type": "code",
   "execution_count": 187,
   "metadata": {},
   "outputs": [
    {
     "data": {
      "text/html": [
       "<div>\n",
       "<style scoped>\n",
       "    .dataframe tbody tr th:only-of-type {\n",
       "        vertical-align: middle;\n",
       "    }\n",
       "\n",
       "    .dataframe tbody tr th {\n",
       "        vertical-align: top;\n",
       "    }\n",
       "\n",
       "    .dataframe thead th {\n",
       "        text-align: right;\n",
       "    }\n",
       "</style>\n",
       "<table border=\"1\" class=\"dataframe\">\n",
       "  <thead>\n",
       "    <tr style=\"text-align: right;\">\n",
       "      <th></th>\n",
       "      <th>tweet_id</th>\n",
       "      <th>jpg_url</th>\n",
       "      <th>img_num</th>\n",
       "      <th>dog_breed</th>\n",
       "      <th>p_conf</th>\n",
       "    </tr>\n",
       "  </thead>\n",
       "  <tbody>\n",
       "    <tr>\n",
       "      <th>0</th>\n",
       "      <td>666020888022790149</td>\n",
       "      <td>https://pbs.twimg.com/media/CT4udn0WwAA0aMy.jpg</td>\n",
       "      <td>1</td>\n",
       "      <td>welsh_springer_spaniel</td>\n",
       "      <td>0.465074</td>\n",
       "    </tr>\n",
       "    <tr>\n",
       "      <th>1</th>\n",
       "      <td>666029285002620928</td>\n",
       "      <td>https://pbs.twimg.com/media/CT42GRgUYAA5iDo.jpg</td>\n",
       "      <td>1</td>\n",
       "      <td>redbone</td>\n",
       "      <td>0.506826</td>\n",
       "    </tr>\n",
       "    <tr>\n",
       "      <th>2</th>\n",
       "      <td>666033412701032449</td>\n",
       "      <td>https://pbs.twimg.com/media/CT4521TWwAEvMyu.jpg</td>\n",
       "      <td>1</td>\n",
       "      <td>german_shepherd</td>\n",
       "      <td>0.596461</td>\n",
       "    </tr>\n",
       "    <tr>\n",
       "      <th>3</th>\n",
       "      <td>666044226329800704</td>\n",
       "      <td>https://pbs.twimg.com/media/CT5Dr8HUEAA-lEu.jpg</td>\n",
       "      <td>1</td>\n",
       "      <td>rhodesian_ridgeback</td>\n",
       "      <td>0.408143</td>\n",
       "    </tr>\n",
       "    <tr>\n",
       "      <th>4</th>\n",
       "      <td>666049248165822465</td>\n",
       "      <td>https://pbs.twimg.com/media/CT5IQmsXIAAKY4A.jpg</td>\n",
       "      <td>1</td>\n",
       "      <td>miniature_pinscher</td>\n",
       "      <td>0.560311</td>\n",
       "    </tr>\n",
       "  </tbody>\n",
       "</table>\n",
       "</div>"
      ],
      "text/plain": [
       "             tweet_id                                          jpg_url  \\\n",
       "0  666020888022790149  https://pbs.twimg.com/media/CT4udn0WwAA0aMy.jpg   \n",
       "1  666029285002620928  https://pbs.twimg.com/media/CT42GRgUYAA5iDo.jpg   \n",
       "2  666033412701032449  https://pbs.twimg.com/media/CT4521TWwAEvMyu.jpg   \n",
       "3  666044226329800704  https://pbs.twimg.com/media/CT5Dr8HUEAA-lEu.jpg   \n",
       "4  666049248165822465  https://pbs.twimg.com/media/CT5IQmsXIAAKY4A.jpg   \n",
       "\n",
       "   img_num               dog_breed    p_conf  \n",
       "0        1  welsh_springer_spaniel  0.465074  \n",
       "1        1                 redbone  0.506826  \n",
       "2        1         german_shepherd  0.596461  \n",
       "3        1     rhodesian_ridgeback  0.408143  \n",
       "4        1      miniature_pinscher  0.560311  "
      ]
     },
     "execution_count": 187,
     "metadata": {},
     "output_type": "execute_result"
    }
   ],
   "source": [
    "#check whether redudant variables have been dropped and whether all dog breeds are written in lower case\n",
    "df_img_clean.head()"
   ]
  },
  {
   "cell_type": "code",
   "execution_count": 188,
   "metadata": {},
   "outputs": [
    {
     "data": {
      "text/plain": [
       "na                      318\n",
       "golden_retriever        158\n",
       "labrador_retriever      108\n",
       "pembroke                 95\n",
       "chihuahua                91\n",
       "                       ... \n",
       "scotch_terrier            1\n",
       "entlebucher               1\n",
       "japanese_spaniel          1\n",
       "standard_schnauzer        1\n",
       "bouvier_des_flandres      1\n",
       "Name: dog_breed, Length: 114, dtype: int64"
      ]
     },
     "execution_count": 188,
     "metadata": {},
     "output_type": "execute_result"
    }
   ],
   "source": [
    "#check the values of dog_breed\n",
    "df_img_clean.dog_breed.value_counts()"
   ]
  },
  {
   "cell_type": "code",
   "execution_count": 189,
   "metadata": {},
   "outputs": [
    {
     "data": {
      "text/plain": [
       "tweet_id      string\n",
       "jpg_url       object\n",
       "img_num        int64\n",
       "dog_breed     object\n",
       "p_conf       float64\n",
       "dtype: object"
      ]
     },
     "execution_count": 189,
     "metadata": {},
     "output_type": "execute_result"
    }
   ],
   "source": [
    "#check the types of new variable\n",
    "df_img_clean.dtypes"
   ]
  },
  {
   "cell_type": "markdown",
   "metadata": {},
   "source": [
    "## Storing Data\n",
    "Save gathered, assessed, and cleaned master dataset to a CSV file named \"twitter_archive_master.csv\"."
   ]
  },
  {
   "cell_type": "markdown",
   "metadata": {},
   "source": [
    "### Recheck all datasets before merge"
   ]
  },
  {
   "cell_type": "code",
   "execution_count": 203,
   "metadata": {},
   "outputs": [
    {
     "name": "stdout",
     "output_type": "stream",
     "text": [
      "<class 'pandas.core.frame.DataFrame'>\n",
      "Int64Index: 2174 entries, 0 to 2355\n",
      "Data columns (total 17 columns):\n",
      " #   Column                        Non-Null Count  Dtype              \n",
      "---  ------                        --------------  -----              \n",
      " 0   tweet_id                      2174 non-null   string             \n",
      " 1   in_reply_to_status_id         78 non-null     string             \n",
      " 2   in_reply_to_user_id           78 non-null     string             \n",
      " 3   timestamp                     2174 non-null   datetime64[ns, UTC]\n",
      " 4   source                        2174 non-null   object             \n",
      " 5   text                          2174 non-null   object             \n",
      " 6   retweeted_status_id           0 non-null      string             \n",
      " 7   retweeted_status_user_id      0 non-null      string             \n",
      " 8   retweeted_status_timestamp    0 non-null      datetime64[ns, UTC]\n",
      " 9   expanded_urls                 2174 non-null   string             \n",
      " 10  name                          2174 non-null   object             \n",
      " 11  rating_numerator_corrected    2174 non-null   float64            \n",
      " 12  rating_denominator_corrected  2174 non-null   float64            \n",
      " 13  dog_rating                    2174 non-null   float64            \n",
      " 14  additional_urls               27 non-null     object             \n",
      " 15  dog_stage                     2174 non-null   object             \n",
      " 16  dog_stage_multiple            2174 non-null   object             \n",
      "dtypes: datetime64[ns, UTC](2), float64(3), object(6), string(6)\n",
      "memory usage: 370.3+ KB\n"
     ]
    }
   ],
   "source": [
    "df_tw_clean.info()"
   ]
  },
  {
   "cell_type": "code",
   "execution_count": 191,
   "metadata": {},
   "outputs": [
    {
     "name": "stdout",
     "output_type": "stream",
     "text": [
      "<class 'pandas.core.frame.DataFrame'>\n",
      "Int64Index: 2009 entries, 0 to 2074\n",
      "Data columns (total 5 columns):\n",
      " #   Column     Non-Null Count  Dtype  \n",
      "---  ------     --------------  -----  \n",
      " 0   tweet_id   2009 non-null   string \n",
      " 1   jpg_url    2009 non-null   object \n",
      " 2   img_num    2009 non-null   int64  \n",
      " 3   dog_breed  2009 non-null   object \n",
      " 4   p_conf     2009 non-null   float64\n",
      "dtypes: float64(1), int64(1), object(2), string(1)\n",
      "memory usage: 94.2+ KB\n"
     ]
    }
   ],
   "source": [
    "df_img_clean.info()"
   ]
  },
  {
   "cell_type": "code",
   "execution_count": 192,
   "metadata": {},
   "outputs": [
    {
     "name": "stdout",
     "output_type": "stream",
     "text": [
      "<class 'pandas.core.frame.DataFrame'>\n",
      "RangeIndex: 2356 entries, 0 to 2355\n",
      "Data columns (total 4 columns):\n",
      " #   Column         Non-Null Count  Dtype              \n",
      "---  ------         --------------  -----              \n",
      " 0   tweet_id       2356 non-null   string             \n",
      " 1   retweets       2356 non-null   int64              \n",
      " 2   favorites      2356 non-null   int64              \n",
      " 3   creation_time  2356 non-null   datetime64[ns, UTC]\n",
      "dtypes: datetime64[ns, UTC](1), int64(2), string(1)\n",
      "memory usage: 73.8 KB\n"
     ]
    }
   ],
   "source": [
    "df_tweepy_json_clean.info()"
   ]
  },
  {
   "cell_type": "markdown",
   "metadata": {},
   "source": [
    "### Merge datasets to create the master datasets"
   ]
  },
  {
   "cell_type": "code",
   "execution_count": 455,
   "metadata": {},
   "outputs": [],
   "source": [
    "#create the master dataset\n",
    "df_master = df_tw_clean.merge(df_img_clean,how = 'inner', on = 'tweet_id').merge(df_tweepy_json_clean, how = 'inner', on = 'tweet_id')"
   ]
  },
  {
   "cell_type": "code",
   "execution_count": 456,
   "metadata": {},
   "outputs": [
    {
     "data": {
      "text/plain": [
       "(1993, 24)"
      ]
     },
     "execution_count": 456,
     "metadata": {},
     "output_type": "execute_result"
    }
   ],
   "source": [
    "#check the shape of the master dataset\n",
    "df_master.shape"
   ]
  },
  {
   "cell_type": "code",
   "execution_count": 457,
   "metadata": {},
   "outputs": [
    {
     "name": "stdout",
     "output_type": "stream",
     "text": [
      "<class 'pandas.core.frame.DataFrame'>\n",
      "Int64Index: 1993 entries, 0 to 1992\n",
      "Data columns (total 24 columns):\n",
      " #   Column                        Non-Null Count  Dtype              \n",
      "---  ------                        --------------  -----              \n",
      " 0   tweet_id                      1993 non-null   string             \n",
      " 1   in_reply_to_status_id         23 non-null     string             \n",
      " 2   in_reply_to_user_id           23 non-null     string             \n",
      " 3   timestamp                     1993 non-null   datetime64[ns, UTC]\n",
      " 4   source                        1993 non-null   object             \n",
      " 5   text                          1993 non-null   object             \n",
      " 6   retweeted_status_id           0 non-null      string             \n",
      " 7   retweeted_status_user_id      0 non-null      string             \n",
      " 8   retweeted_status_timestamp    0 non-null      datetime64[ns, UTC]\n",
      " 9   expanded_urls                 1993 non-null   object             \n",
      " 10  name                          1993 non-null   object             \n",
      " 11  rating_numerator_corrected    1993 non-null   float64            \n",
      " 12  rating_denominator_corrected  1993 non-null   float64            \n",
      " 13  dog_rating                    1993 non-null   float64            \n",
      " 14  additional_urls               27 non-null     object             \n",
      " 15  dog_stage                     1993 non-null   object             \n",
      " 16  dog_stage_multiple            1993 non-null   object             \n",
      " 17  jpg_url                       1993 non-null   object             \n",
      " 18  img_num                       1993 non-null   int64              \n",
      " 19  dog_breed                     1993 non-null   object             \n",
      " 20  p_conf                        1993 non-null   float64            \n",
      " 21  retweets                      1993 non-null   int64              \n",
      " 22  favorites                     1993 non-null   int64              \n",
      " 23  creation_time                 1993 non-null   datetime64[ns, UTC]\n",
      "dtypes: datetime64[ns, UTC](3), float64(4), int64(3), object(9), string(5)\n",
      "memory usage: 389.3+ KB\n"
     ]
    }
   ],
   "source": [
    "#check the information of the master dataset\n",
    "df_master.info()"
   ]
  },
  {
   "cell_type": "code",
   "execution_count": 458,
   "metadata": {},
   "outputs": [],
   "source": [
    "#drop variables that ahve missing values and are not interested in: \n",
    "#in_reply_to_status_id, in_reply_to_user_id, retweeted_status_id, retweeted_status_user_id, retweeted_status_timestamp\n",
    "drop_columns = ['in_reply_to_status_id', 'in_reply_to_user_id', 'retweeted_status_id', 'retweeted_status_user_id', 'retweeted_status_timestamp']\n",
    "df_master.drop(columns = drop_columns, inplace = True)"
   ]
  },
  {
   "cell_type": "code",
   "execution_count": 459,
   "metadata": {},
   "outputs": [
    {
     "data": {
      "text/plain": [
       "Index(['tweet_id', 'timestamp', 'source', 'text', 'expanded_urls', 'name',\n",
       "       'rating_numerator_corrected', 'rating_denominator_corrected',\n",
       "       'dog_rating', 'additional_urls', 'dog_stage', 'dog_stage_multiple',\n",
       "       'jpg_url', 'img_num', 'dog_breed', 'p_conf', 'retweets', 'favorites',\n",
       "       'creation_time'],\n",
       "      dtype='object')"
      ]
     },
     "execution_count": 459,
     "metadata": {},
     "output_type": "execute_result"
    }
   ],
   "source": [
    "df_master.columns"
   ]
  },
  {
   "cell_type": "code",
   "execution_count": 460,
   "metadata": {},
   "outputs": [],
   "source": [
    "#reorder the variables by importance\n",
    "df_master = df_master[['tweet_id','dog_rating', 'dog_stage','dog_breed',\n",
    "           'retweets', 'favorites', 'img_num',\n",
    "           'creation_time','timestamp',\n",
    "           'p_conf', 'rating_numerator_corrected', 'rating_denominator_corrected',\n",
    "           'name','source',\n",
    "           'text',\n",
    "           'expanded_urls', 'jpg_url','additional_urls']]"
   ]
  },
  {
   "cell_type": "code",
   "execution_count": 461,
   "metadata": {},
   "outputs": [
    {
     "data": {
      "text/plain": [
       "nan"
      ]
     },
     "execution_count": 461,
     "metadata": {},
     "output_type": "execute_result"
    }
   ],
   "source": [
    "df_master.additional_urls.iloc[1]"
   ]
  },
  {
   "cell_type": "code",
   "execution_count": 462,
   "metadata": {},
   "outputs": [],
   "source": [
    "#make the expression of 'None','na','np.NaN' consistent (to be 'NA')\n",
    "df_master.replace(np.NaN,'NA',inplace = True)"
   ]
  },
  {
   "cell_type": "code",
   "execution_count": 463,
   "metadata": {},
   "outputs": [],
   "source": [
    "df_master.replace('None','NA',inplace = True)"
   ]
  },
  {
   "cell_type": "code",
   "execution_count": 464,
   "metadata": {},
   "outputs": [],
   "source": [
    "df_master.replace('NaN','NA',inplace = True)"
   ]
  },
  {
   "cell_type": "code",
   "execution_count": 465,
   "metadata": {},
   "outputs": [
    {
     "data": {
      "text/html": [
       "<div>\n",
       "<style scoped>\n",
       "    .dataframe tbody tr th:only-of-type {\n",
       "        vertical-align: middle;\n",
       "    }\n",
       "\n",
       "    .dataframe tbody tr th {\n",
       "        vertical-align: top;\n",
       "    }\n",
       "\n",
       "    .dataframe thead th {\n",
       "        text-align: right;\n",
       "    }\n",
       "</style>\n",
       "<table border=\"1\" class=\"dataframe\">\n",
       "  <thead>\n",
       "    <tr style=\"text-align: right;\">\n",
       "      <th></th>\n",
       "      <th>tweet_id</th>\n",
       "      <th>dog_rating</th>\n",
       "      <th>dog_stage</th>\n",
       "      <th>dog_breed</th>\n",
       "      <th>retweets</th>\n",
       "      <th>favorites</th>\n",
       "      <th>img_num</th>\n",
       "      <th>creation_time</th>\n",
       "      <th>timestamp</th>\n",
       "      <th>p_conf</th>\n",
       "      <th>rating_numerator_corrected</th>\n",
       "      <th>rating_denominator_corrected</th>\n",
       "      <th>name</th>\n",
       "      <th>source</th>\n",
       "      <th>text</th>\n",
       "      <th>expanded_urls</th>\n",
       "      <th>jpg_url</th>\n",
       "      <th>additional_urls</th>\n",
       "    </tr>\n",
       "  </thead>\n",
       "  <tbody>\n",
       "    <tr>\n",
       "      <th>0</th>\n",
       "      <td>892420643555336193</td>\n",
       "      <td>1.3</td>\n",
       "      <td>NA</td>\n",
       "      <td>na</td>\n",
       "      <td>7108</td>\n",
       "      <td>34218</td>\n",
       "      <td>1</td>\n",
       "      <td>2017-08-01 16:23:56+00:00</td>\n",
       "      <td>2017-08-01 16:23:56+00:00</td>\n",
       "      <td>0.000000</td>\n",
       "      <td>13.0</td>\n",
       "      <td>10.0</td>\n",
       "      <td>Phineas</td>\n",
       "      <td>&lt;a href=\"http://twitter.com/download/iphone\" rel=\"nofollow\"&gt;Twitter for iPhone&lt;/a&gt;</td>\n",
       "      <td>This is Phineas. He's a mystical boy. Only ever appears in the hole of a donut. 13/10 https://t.co/MgUWQ76dJU</td>\n",
       "      <td>https://twitter.com/dog_rates/status/892420643555336193/photo/1</td>\n",
       "      <td>https://pbs.twimg.com/media/DGKD1-bXoAAIAUK.jpg</td>\n",
       "      <td>NA</td>\n",
       "    </tr>\n",
       "    <tr>\n",
       "      <th>1</th>\n",
       "      <td>892177421306343426</td>\n",
       "      <td>1.3</td>\n",
       "      <td>NA</td>\n",
       "      <td>chihuahua</td>\n",
       "      <td>5353</td>\n",
       "      <td>29671</td>\n",
       "      <td>1</td>\n",
       "      <td>2017-08-01 00:17:27+00:00</td>\n",
       "      <td>2017-08-01 00:17:27+00:00</td>\n",
       "      <td>0.323581</td>\n",
       "      <td>13.0</td>\n",
       "      <td>10.0</td>\n",
       "      <td>Tilly</td>\n",
       "      <td>&lt;a href=\"http://twitter.com/download/iphone\" rel=\"nofollow\"&gt;Twitter for iPhone&lt;/a&gt;</td>\n",
       "      <td>This is Tilly. She's just checking pup on you. Hopes you're doing ok. If not, she's available for pats, snugs, boops, the whole bit. 13/10 https://t.co/0Xxu71qeIV</td>\n",
       "      <td>https://twitter.com/dog_rates/status/892177421306343426/photo/1</td>\n",
       "      <td>https://pbs.twimg.com/media/DGGmoV4XsAAUL6n.jpg</td>\n",
       "      <td>NA</td>\n",
       "    </tr>\n",
       "    <tr>\n",
       "      <th>2</th>\n",
       "      <td>891815181378084864</td>\n",
       "      <td>1.2</td>\n",
       "      <td>NA</td>\n",
       "      <td>chihuahua</td>\n",
       "      <td>3524</td>\n",
       "      <td>22346</td>\n",
       "      <td>1</td>\n",
       "      <td>2017-07-31 00:18:03+00:00</td>\n",
       "      <td>2017-07-31 00:18:03+00:00</td>\n",
       "      <td>0.716012</td>\n",
       "      <td>12.0</td>\n",
       "      <td>10.0</td>\n",
       "      <td>Archie</td>\n",
       "      <td>&lt;a href=\"http://twitter.com/download/iphone\" rel=\"nofollow\"&gt;Twitter for iPhone&lt;/a&gt;</td>\n",
       "      <td>This is Archie. He is a rare Norwegian Pouncing Corgo. Lives in the tall grass. You never know when one may strike. 12/10 https://t.co/wUnZnhtVJB</td>\n",
       "      <td>https://twitter.com/dog_rates/status/891815181378084864/photo/1</td>\n",
       "      <td>https://pbs.twimg.com/media/DGBdLU1WsAANxJ9.jpg</td>\n",
       "      <td>NA</td>\n",
       "    </tr>\n",
       "    <tr>\n",
       "      <th>3</th>\n",
       "      <td>891689557279858688</td>\n",
       "      <td>1.3</td>\n",
       "      <td>NA</td>\n",
       "      <td>labrador_retriever</td>\n",
       "      <td>7301</td>\n",
       "      <td>37373</td>\n",
       "      <td>1</td>\n",
       "      <td>2017-07-30 15:58:51+00:00</td>\n",
       "      <td>2017-07-30 15:58:51+00:00</td>\n",
       "      <td>0.168086</td>\n",
       "      <td>13.0</td>\n",
       "      <td>10.0</td>\n",
       "      <td>Darla</td>\n",
       "      <td>&lt;a href=\"http://twitter.com/download/iphone\" rel=\"nofollow\"&gt;Twitter for iPhone&lt;/a&gt;</td>\n",
       "      <td>This is Darla. She commenced a snooze mid meal. 13/10 happens to the best of us https://t.co/tD36da7qLQ</td>\n",
       "      <td>https://twitter.com/dog_rates/status/891689557279858688/photo/1</td>\n",
       "      <td>https://pbs.twimg.com/media/DF_q7IAWsAEuuN8.jpg</td>\n",
       "      <td>NA</td>\n",
       "    </tr>\n",
       "    <tr>\n",
       "      <th>4</th>\n",
       "      <td>891327558926688256</td>\n",
       "      <td>1.2</td>\n",
       "      <td>NA</td>\n",
       "      <td>basset</td>\n",
       "      <td>7853</td>\n",
       "      <td>35715</td>\n",
       "      <td>2</td>\n",
       "      <td>2017-07-29 16:00:24+00:00</td>\n",
       "      <td>2017-07-29 16:00:24+00:00</td>\n",
       "      <td>0.555712</td>\n",
       "      <td>12.0</td>\n",
       "      <td>10.0</td>\n",
       "      <td>Franklin</td>\n",
       "      <td>&lt;a href=\"http://twitter.com/download/iphone\" rel=\"nofollow\"&gt;Twitter for iPhone&lt;/a&gt;</td>\n",
       "      <td>This is Franklin. He would like you to stop calling him \"cute.\" He is a very fierce shark and should be respected as such. 12/10 #BarkWeek https://t.co/AtUZn91f7f</td>\n",
       "      <td>https://twitter.com/dog_rates/status/891327558926688256/photo/1,https://twitter.com/dog_rates/status/891327558926688256/photo/1</td>\n",
       "      <td>https://pbs.twimg.com/media/DF6hr6BUMAAzZgT.jpg</td>\n",
       "      <td>NA</td>\n",
       "    </tr>\n",
       "  </tbody>\n",
       "</table>\n",
       "</div>"
      ],
      "text/plain": [
       "             tweet_id  dog_rating dog_stage           dog_breed  retweets  \\\n",
       "0  892420643555336193         1.3        NA                  na      7108   \n",
       "1  892177421306343426         1.3        NA           chihuahua      5353   \n",
       "2  891815181378084864         1.2        NA           chihuahua      3524   \n",
       "3  891689557279858688         1.3        NA  labrador_retriever      7301   \n",
       "4  891327558926688256         1.2        NA              basset      7853   \n",
       "\n",
       "   favorites  img_num             creation_time                 timestamp  \\\n",
       "0      34218        1 2017-08-01 16:23:56+00:00 2017-08-01 16:23:56+00:00   \n",
       "1      29671        1 2017-08-01 00:17:27+00:00 2017-08-01 00:17:27+00:00   \n",
       "2      22346        1 2017-07-31 00:18:03+00:00 2017-07-31 00:18:03+00:00   \n",
       "3      37373        1 2017-07-30 15:58:51+00:00 2017-07-30 15:58:51+00:00   \n",
       "4      35715        2 2017-07-29 16:00:24+00:00 2017-07-29 16:00:24+00:00   \n",
       "\n",
       "     p_conf  rating_numerator_corrected  rating_denominator_corrected  \\\n",
       "0  0.000000                        13.0                          10.0   \n",
       "1  0.323581                        13.0                          10.0   \n",
       "2  0.716012                        12.0                          10.0   \n",
       "3  0.168086                        13.0                          10.0   \n",
       "4  0.555712                        12.0                          10.0   \n",
       "\n",
       "       name  \\\n",
       "0   Phineas   \n",
       "1     Tilly   \n",
       "2    Archie   \n",
       "3     Darla   \n",
       "4  Franklin   \n",
       "\n",
       "                                                                               source  \\\n",
       "0  <a href=\"http://twitter.com/download/iphone\" rel=\"nofollow\">Twitter for iPhone</a>   \n",
       "1  <a href=\"http://twitter.com/download/iphone\" rel=\"nofollow\">Twitter for iPhone</a>   \n",
       "2  <a href=\"http://twitter.com/download/iphone\" rel=\"nofollow\">Twitter for iPhone</a>   \n",
       "3  <a href=\"http://twitter.com/download/iphone\" rel=\"nofollow\">Twitter for iPhone</a>   \n",
       "4  <a href=\"http://twitter.com/download/iphone\" rel=\"nofollow\">Twitter for iPhone</a>   \n",
       "\n",
       "                                                                                                                                                                 text  \\\n",
       "0                                                       This is Phineas. He's a mystical boy. Only ever appears in the hole of a donut. 13/10 https://t.co/MgUWQ76dJU   \n",
       "1  This is Tilly. She's just checking pup on you. Hopes you're doing ok. If not, she's available for pats, snugs, boops, the whole bit. 13/10 https://t.co/0Xxu71qeIV   \n",
       "2                   This is Archie. He is a rare Norwegian Pouncing Corgo. Lives in the tall grass. You never know when one may strike. 12/10 https://t.co/wUnZnhtVJB   \n",
       "3                                                             This is Darla. She commenced a snooze mid meal. 13/10 happens to the best of us https://t.co/tD36da7qLQ   \n",
       "4  This is Franklin. He would like you to stop calling him \"cute.\" He is a very fierce shark and should be respected as such. 12/10 #BarkWeek https://t.co/AtUZn91f7f   \n",
       "\n",
       "                                                                                                                     expanded_urls  \\\n",
       "0                                                                  https://twitter.com/dog_rates/status/892420643555336193/photo/1   \n",
       "1                                                                  https://twitter.com/dog_rates/status/892177421306343426/photo/1   \n",
       "2                                                                  https://twitter.com/dog_rates/status/891815181378084864/photo/1   \n",
       "3                                                                  https://twitter.com/dog_rates/status/891689557279858688/photo/1   \n",
       "4  https://twitter.com/dog_rates/status/891327558926688256/photo/1,https://twitter.com/dog_rates/status/891327558926688256/photo/1   \n",
       "\n",
       "                                           jpg_url additional_urls  \n",
       "0  https://pbs.twimg.com/media/DGKD1-bXoAAIAUK.jpg              NA  \n",
       "1  https://pbs.twimg.com/media/DGGmoV4XsAAUL6n.jpg              NA  \n",
       "2  https://pbs.twimg.com/media/DGBdLU1WsAANxJ9.jpg              NA  \n",
       "3  https://pbs.twimg.com/media/DF_q7IAWsAEuuN8.jpg              NA  \n",
       "4  https://pbs.twimg.com/media/DF6hr6BUMAAzZgT.jpg              NA  "
      ]
     },
     "execution_count": 465,
     "metadata": {},
     "output_type": "execute_result"
    }
   ],
   "source": [
    "#check df_master\n",
    "df_master.head()"
   ]
  },
  {
   "cell_type": "markdown",
   "metadata": {},
   "source": [
    "### Create ```dog_gender``` which is useful for analysis"
   ]
  },
  {
   "cell_type": "code",
   "execution_count": 466,
   "metadata": {},
   "outputs": [],
   "source": [
    "#create a new variable dog_gender\n",
    "test = df_master.copy()"
   ]
  },
  {
   "cell_type": "code",
   "execution_count": 467,
   "metadata": {},
   "outputs": [],
   "source": [
    "#create a gender-related word list\n",
    "male = ['he', 'him', 'his', \"he's\", 'himself', 'boy']\n",
    "female = ['she', 'her', 'hers',\"she's\", 'herself', 'girl']"
   ]
  },
  {
   "cell_type": "code",
   "execution_count": 468,
   "metadata": {},
   "outputs": [],
   "source": [
    "#create a list to store gender information\n",
    "dog_gender = []"
   ]
  },
  {
   "cell_type": "code",
   "execution_count": 469,
   "metadata": {},
   "outputs": [],
   "source": [
    "for t in df_master.text:\n",
    "    if any(map(lambda g:g in male, t.lower().replace('.','').split())): #make text lower case#\n",
    "        dog_gender.append('male')\n",
    "\n",
    "    elif any(map(lambda g:g in female, t.lower().replace('.','').split())):\n",
    "        dog_gender.append('female')\n",
    "    \n",
    "    else:\n",
    "        dog_gender.append('NA')"
   ]
  },
  {
   "cell_type": "code",
   "execution_count": 470,
   "metadata": {},
   "outputs": [],
   "source": [
    "#insert dog_gender into the master dataframe (after dog_breed)\n",
    "df_master.insert(4, \"dog_gender\", dog_gender)"
   ]
  },
  {
   "cell_type": "code",
   "execution_count": 471,
   "metadata": {},
   "outputs": [],
   "source": [
    "#INSTANT CHECK\n",
    "#df_master.head()"
   ]
  },
  {
   "cell_type": "code",
   "execution_count": 472,
   "metadata": {},
   "outputs": [
    {
     "data": {
      "text/plain": [
       "male      1028\n",
       "NA         627\n",
       "female     338\n",
       "Name: dog_gender, dtype: int64"
      ]
     },
     "execution_count": 472,
     "metadata": {},
     "output_type": "execute_result"
    }
   ],
   "source": [
    "#check values of dog_gender\n",
    "df_master.dog_gender.value_counts()"
   ]
  },
  {
   "cell_type": "code",
   "execution_count": 473,
   "metadata": {},
   "outputs": [
    {
     "data": {
      "text/plain": [
       "1       This is Tilly. She's just checking pup on you. Hopes you're doing ok. If not, she's available for pats, snugs, boops, the whole bit. 13/10 https://t.co/0Xxu71qeIV\n",
       "3                                                                  This is Darla. She commenced a snooze mid meal. 13/10 happens to the best of us https://t.co/tD36da7qLQ\n",
       "8                       This is Zoey. She doesn't want to be one of the scary sharks. Just wants to be a snuggly pettable boatpet. 13/10 #BarkWeek https://t.co/9TwLuAGH0b\n",
       "9            This is Cassie. She is a college pup. Studying international doggo communication and stick theory. 14/10 so elegant much sophisticate https://t.co/t1bfwz5S2A\n",
       "12                                      Here's a puppo that seems to be on the fence about something haha no but seriously someone help her. 13/10 https://t.co/BxvuXk0UCm\n",
       "                                                                                       ...                                                                                \n",
       "1866                          Meet Sophie. Her son just got in the car to leave for college. Very touching. Perfect dramatic sunlight. 10/10 yaass https://t.co/3j9kZRcpVB\n",
       "1883                             This is Cleopatricia. She is a northern Paperback Maple. Set up hammock somehow. 9/10 would chill in hammock with https://t.co/sJeHdGUt0W\n",
       "1895                              This is a rare Hungarian Pinot named Jessiga. She is either mid-stroke or got stuck in the washing machine. 8/10 https://t.co/ZU0i0KJyqD\n",
       "1920                                 This is Genevieve. She is a golden retriever cocktail mix. Comfortable close to wall. Shows no emotions. 9/10 https://t.co/azEoGqVonH\n",
       "1956                                               This is Scout. She is a black Downton Abbey. Isn't afraid to get dirty. 9/10 nothing bad to say https://t.co/kH60oka1HW\n",
       "Name: text, Length: 338, dtype: object"
      ]
     },
     "execution_count": 473,
     "metadata": {},
     "output_type": "execute_result"
    }
   ],
   "source": [
    "#some random checks on the assigned gender and corresponding text\n",
    "df_master.query('dog_gender == \"female\"')['text']"
   ]
  },
  {
   "cell_type": "code",
   "execution_count": 474,
   "metadata": {},
   "outputs": [
    {
     "data": {
      "text/plain": [
       "0                                                                This is Phineas. He's a mystical boy. Only ever appears in the hole of a donut. 13/10 https://t.co/MgUWQ76dJU\n",
       "2                            This is Archie. He is a rare Norwegian Pouncing Corgo. Lives in the tall grass. You never know when one may strike. 12/10 https://t.co/wUnZnhtVJB\n",
       "4           This is Franklin. He would like you to stop calling him \"cute.\" He is a very fierce shark and should be respected as such. 12/10 #BarkWeek https://t.co/AtUZn91f7f\n",
       "6       Meet Jax. He enjoys ice cream so much he gets nervous around it. 13/10 help Jax enjoy more things by clicking below\\n\\nhttps://t.co/Zr4hWfAs1H https://t.co/tVJBRMnhxl\n",
       "7                               When you watch your owner call another dog a good boy but then they turn back to you and say you're a great boy. 13/10 https://t.co/v0nONBcwxq\n",
       "                                                                                         ...                                                                                  \n",
       "1969                                                          Look at this jokester thinking seat belt laws don't apply to him. Great tongue tho 10/10 https://t.co/VFKG1vxGjB\n",
       "1971                                This is a funny dog. Weird toes. Won't come down. Loves branch. Refuses to eat his food. Hard to cuddle with. 3/10 https://t.co/IIXis0zta0\n",
       "1979                                             Here we have a well-established sunblockerspaniel. Lost his other flip-flop. 6/10 not very waterproof https://t.co/3RU6x0vHB7\n",
       "1983                                   Here is the Rand Paul of retrievers folks! He's probably good at poker. Can drink beer (lol rad). 8/10 good dog https://t.co/pYAJkAe76p\n",
       "1989                                 This is a purebred Piers Morgan. Loves to Netflix and chill. Always looks like he forgot to unplug the iron. 6/10 https://t.co/DWnyCjf2mx\n",
       "Name: text, Length: 1028, dtype: object"
      ]
     },
     "execution_count": 474,
     "metadata": {},
     "output_type": "execute_result"
    }
   ],
   "source": [
    "df_master.query('dog_gender == \"male\"')['text']"
   ]
  },
  {
   "cell_type": "code",
   "execution_count": 475,
   "metadata": {},
   "outputs": [
    {
     "data": {
      "text/plain": [
       "5       Here we have a majestic great white breaching off South Africa's coast. Absolutely h*ckin breathtaking. 13/10 (IG: tucker_marlo) #BarkWeek https://t.co/kQ04fDDRmh\n",
       "21                                    I've yet to rate a Venezuelan Hover Wiener. This is such an honor. 14/10 paw-inspiring af (IG: roxy.thedoxy) https://t.co/20VrLAA8ba\n",
       "23                                                        You may not have known you needed to see this today. 13/10 please enjoy (IG: emmylouroo) https://t.co/WZqNqygEyV\n",
       "24               This... is a Jubilant Antarctic House Bear. We only rate dogs. Please only send dogs. Thank you... 12/10 would suffocate in floof https://t.co/4Ad1jzJSdp\n",
       "28             This is Roscoe. Another pupper fallen victim to spontaneous tongue ejections. Get the BlepiPen immediate. 12/10 deep breaths Roscoe https://t.co/RGE08MIJox\n",
       "                                                                                       ...                                                                                \n",
       "1987                          This is a truly beautiful English Wilson Staff retriever. Has a nice phone. Privileged. 10/10 would trade lives with https://t.co/fvIbQfHjIe\n",
       "1988                                              Here we have a 1949 1st generation vulpix. Enjoys sweat tea and Fox News. Cannot be phased. 5/10 https://t.co/4B7cOc1EDq\n",
       "1990                                    Here is a very happy pup. Big fan of well-maintained decks. Just look at that tongue. 9/10 would cuddle af https://t.co/y671yMhoiR\n",
       "1991                           This is a western brown Mitsubishi terrier. Upset about leaf. Actually 2 dogs here. 7/10 would walk the shit out of https://t.co/r7mOb2m0UI\n",
       "1992                                   Here we have a Japanese Irish Setter. Lost eye in Vietnam (?). Big fan of relaxing on stair. 8/10 would pet https://t.co/BLDqew2Ijj\n",
       "Name: text, Length: 627, dtype: object"
      ]
     },
     "execution_count": 475,
     "metadata": {},
     "output_type": "execute_result"
    }
   ],
   "source": [
    "df_master.query('dog_gender == \"NA\"')['text']"
   ]
  },
  {
   "cell_type": "markdown",
   "metadata": {},
   "source": [
    "### Recheck the master dataframe"
   ]
  },
  {
   "cell_type": "code",
   "execution_count": 476,
   "metadata": {},
   "outputs": [
    {
     "name": "stdout",
     "output_type": "stream",
     "text": [
      "<class 'pandas.core.frame.DataFrame'>\n",
      "Int64Index: 1993 entries, 0 to 1992\n",
      "Data columns (total 19 columns):\n",
      " #   Column                        Non-Null Count  Dtype              \n",
      "---  ------                        --------------  -----              \n",
      " 0   tweet_id                      1993 non-null   string             \n",
      " 1   dog_rating                    1993 non-null   float64            \n",
      " 2   dog_stage                     1993 non-null   object             \n",
      " 3   dog_breed                     1993 non-null   object             \n",
      " 4   dog_gender                    1993 non-null   object             \n",
      " 5   retweets                      1993 non-null   int64              \n",
      " 6   favorites                     1993 non-null   int64              \n",
      " 7   img_num                       1993 non-null   int64              \n",
      " 8   creation_time                 1993 non-null   datetime64[ns, UTC]\n",
      " 9   timestamp                     1993 non-null   datetime64[ns, UTC]\n",
      " 10  p_conf                        1993 non-null   float64            \n",
      " 11  rating_numerator_corrected    1993 non-null   float64            \n",
      " 12  rating_denominator_corrected  1993 non-null   float64            \n",
      " 13  name                          1993 non-null   object             \n",
      " 14  source                        1993 non-null   object             \n",
      " 15  text                          1993 non-null   object             \n",
      " 16  expanded_urls                 1993 non-null   object             \n",
      " 17  jpg_url                       1993 non-null   object             \n",
      " 18  additional_urls               1993 non-null   object             \n",
      "dtypes: datetime64[ns, UTC](2), float64(4), int64(3), object(9), string(1)\n",
      "memory usage: 311.4+ KB\n"
     ]
    }
   ],
   "source": [
    "df_master.info()"
   ]
  },
  {
   "cell_type": "markdown",
   "metadata": {},
   "source": [
    "### Save the master data as csv file"
   ]
  },
  {
   "cell_type": "code",
   "execution_count": 477,
   "metadata": {},
   "outputs": [],
   "source": [
    "df_master.to_csv('df_master.csv')"
   ]
  },
  {
   "cell_type": "markdown",
   "metadata": {},
   "source": [
    "## Analyzing and Visualizing Data\n",
    "In this section, analyze and visualize your wrangled data. You must produce at least **three (3) insights and one (1) visualization.**"
   ]
  },
  {
   "cell_type": "markdown",
   "metadata": {},
   "source": [
    "#### PRE-ANALYSIS: clean the variable ```dog_rating``` for further analysis"
   ]
  },
  {
   "cell_type": "code",
   "execution_count": 478,
   "metadata": {},
   "outputs": [
    {
     "name": "stdout",
     "output_type": "stream",
     "text": [
      "5% percentile of rating is 0.6\n",
      "95% percentile of rating is 1.3\n"
     ]
    }
   ],
   "source": [
    "#drop outliers of dog_rating for further analysis\n",
    "##find 5% and 95% percentile value of dog_rating\n",
    "per_5 = np.percentile(df_master['dog_rating'],5)\n",
    "per_95 = np.percentile(df_master['dog_rating'],95)\n",
    "\n",
    "print('5% percentile of rating is',per_5)\n",
    "print('95% percentile of rating is',per_95)"
   ]
  },
  {
   "cell_type": "code",
   "execution_count": 481,
   "metadata": {},
   "outputs": [],
   "source": [
    "#create a new dataframe for analysis\n",
    "df_analysis = df_master.copy()"
   ]
  },
  {
   "cell_type": "code",
   "execution_count": 430,
   "metadata": {},
   "outputs": [],
   "source": [
    "#drop outliers\n",
    "df_analysis.drop(df_analysis[(df_analysis['dog_rating'] < 0.6) |(df_analysis['dog_rating'] > 1.3)].index, inplace = True)"
   ]
  },
  {
   "cell_type": "code",
   "execution_count": 431,
   "metadata": {},
   "outputs": [
    {
     "data": {
      "image/png": "[encoded data removed]",
      "text/plain": [
       "<Figure size 432x288 with 1 Axes>"
      ]
     },
     "metadata": {
      "needs_background": "light"
     },
     "output_type": "display_data"
    }
   ],
   "source": [
    "#check the distribution of cleaned dog_rating\n",
    "plt.boxplot(df_analysis['dog_rating'])\n",
    "plt.title('Distribution of dog_rating')\n",
    "plt.show()"
   ]
  },
  {
   "cell_type": "code",
   "execution_count": 432,
   "metadata": {},
   "outputs": [
    {
     "data": {
      "text/plain": [
       "count    1874.000000\n",
       "mean        1.077585\n",
       "std         0.163335\n",
       "min         0.600000\n",
       "25%         1.000000\n",
       "50%         1.100000\n",
       "75%         1.200000\n",
       "max         1.300000\n",
       "Name: dog_rating, dtype: float64"
      ]
     },
     "execution_count": 432,
     "metadata": {},
     "output_type": "execute_result"
    }
   ],
   "source": [
    "#check the statistics df_analysis\n",
    "df_analysis.dog_rating.describe()"
   ]
  },
  {
   "cell_type": "markdown",
   "metadata": {},
   "source": [
    "#### NOW, ```dog_rating```, the focal dependent variable (DV) is READY for analysis"
   ]
  },
  {
   "cell_type": "markdown",
   "metadata": {},
   "source": [
    "#### Check statistics or frequencies of independent variables"
   ]
  },
  {
   "cell_type": "code",
   "execution_count": 433,
   "metadata": {},
   "outputs": [
    {
     "data": {
      "text/html": [
       "<div>\n",
       "<style scoped>\n",
       "    .dataframe tbody tr th:only-of-type {\n",
       "        vertical-align: middle;\n",
       "    }\n",
       "\n",
       "    .dataframe tbody tr th {\n",
       "        vertical-align: top;\n",
       "    }\n",
       "\n",
       "    .dataframe thead th {\n",
       "        text-align: right;\n",
       "    }\n",
       "</style>\n",
       "<table border=\"1\" class=\"dataframe\">\n",
       "  <thead>\n",
       "    <tr style=\"text-align: right;\">\n",
       "      <th></th>\n",
       "      <th>dog_rating</th>\n",
       "      <th>retweets</th>\n",
       "      <th>favorites</th>\n",
       "      <th>img_num</th>\n",
       "    </tr>\n",
       "  </thead>\n",
       "  <tbody>\n",
       "    <tr>\n",
       "      <th>count</th>\n",
       "      <td>1874.000000</td>\n",
       "      <td>1874.000000</td>\n",
       "      <td>1874.000000</td>\n",
       "      <td>1874.000000</td>\n",
       "    </tr>\n",
       "    <tr>\n",
       "      <th>mean</th>\n",
       "      <td>1.077585</td>\n",
       "      <td>2173.368196</td>\n",
       "      <td>7521.945037</td>\n",
       "      <td>1.199573</td>\n",
       "    </tr>\n",
       "    <tr>\n",
       "      <th>std</th>\n",
       "      <td>0.163335</td>\n",
       "      <td>3936.772935</td>\n",
       "      <td>11091.021350</td>\n",
       "      <td>0.548434</td>\n",
       "    </tr>\n",
       "    <tr>\n",
       "      <th>min</th>\n",
       "      <td>0.600000</td>\n",
       "      <td>11.000000</td>\n",
       "      <td>66.000000</td>\n",
       "      <td>1.000000</td>\n",
       "    </tr>\n",
       "    <tr>\n",
       "      <th>25%</th>\n",
       "      <td>1.000000</td>\n",
       "      <td>489.250000</td>\n",
       "      <td>1711.000000</td>\n",
       "      <td>1.000000</td>\n",
       "    </tr>\n",
       "    <tr>\n",
       "      <th>50%</th>\n",
       "      <td>1.100000</td>\n",
       "      <td>1072.500000</td>\n",
       "      <td>3456.000000</td>\n",
       "      <td>1.000000</td>\n",
       "    </tr>\n",
       "    <tr>\n",
       "      <th>75%</th>\n",
       "      <td>1.200000</td>\n",
       "      <td>2487.750000</td>\n",
       "      <td>9397.500000</td>\n",
       "      <td>1.000000</td>\n",
       "    </tr>\n",
       "    <tr>\n",
       "      <th>max</th>\n",
       "      <td>1.300000</td>\n",
       "      <td>70485.000000</td>\n",
       "      <td>144420.000000</td>\n",
       "      <td>4.000000</td>\n",
       "    </tr>\n",
       "  </tbody>\n",
       "</table>\n",
       "</div>"
      ],
      "text/plain": [
       "        dog_rating      retweets      favorites      img_num\n",
       "count  1874.000000   1874.000000    1874.000000  1874.000000\n",
       "mean      1.077585   2173.368196    7521.945037     1.199573\n",
       "std       0.163335   3936.772935   11091.021350     0.548434\n",
       "min       0.600000     11.000000      66.000000     1.000000\n",
       "25%       1.000000    489.250000    1711.000000     1.000000\n",
       "50%       1.100000   1072.500000    3456.000000     1.000000\n",
       "75%       1.200000   2487.750000    9397.500000     1.000000\n",
       "max       1.300000  70485.000000  144420.000000     4.000000"
      ]
     },
     "execution_count": 433,
     "metadata": {},
     "output_type": "execute_result"
    }
   ],
   "source": [
    "#check statistics continuous variables \n",
    "df_analysis[['dog_rating','retweets','favorites','img_num']].describe()"
   ]
  },
  {
   "cell_type": "code",
   "execution_count": 434,
   "metadata": {},
   "outputs": [],
   "source": [
    "#check frequencies of discrete/categorical variables\n",
    "def check_frequencies(variable):\n",
    "    freq_table = pd.DataFrame([df_analysis[variable].value_counts(),df_analysis[variable].value_counts(normalize=True)],index = ['number','percent']).T\n",
    "    freq_table\n",
    "    return (freq_table)"
   ]
  },
  {
   "cell_type": "code",
   "execution_count": 435,
   "metadata": {},
   "outputs": [
    {
     "data": {
      "text/html": [
       "<div>\n",
       "<style scoped>\n",
       "    .dataframe tbody tr th:only-of-type {\n",
       "        vertical-align: middle;\n",
       "    }\n",
       "\n",
       "    .dataframe tbody tr th {\n",
       "        vertical-align: top;\n",
       "    }\n",
       "\n",
       "    .dataframe thead th {\n",
       "        text-align: right;\n",
       "    }\n",
       "</style>\n",
       "<table border=\"1\" class=\"dataframe\">\n",
       "  <thead>\n",
       "    <tr style=\"text-align: right;\">\n",
       "      <th></th>\n",
       "      <th>number</th>\n",
       "      <th>percent</th>\n",
       "    </tr>\n",
       "  </thead>\n",
       "  <tbody>\n",
       "    <tr>\n",
       "      <th>1</th>\n",
       "      <td>1606.0</td>\n",
       "      <td>0.856990</td>\n",
       "    </tr>\n",
       "    <tr>\n",
       "      <th>2</th>\n",
       "      <td>188.0</td>\n",
       "      <td>0.100320</td>\n",
       "    </tr>\n",
       "    <tr>\n",
       "      <th>3</th>\n",
       "      <td>54.0</td>\n",
       "      <td>0.028815</td>\n",
       "    </tr>\n",
       "    <tr>\n",
       "      <th>4</th>\n",
       "      <td>26.0</td>\n",
       "      <td>0.013874</td>\n",
       "    </tr>\n",
       "  </tbody>\n",
       "</table>\n",
       "</div>"
      ],
      "text/plain": [
       "   number   percent\n",
       "1  1606.0  0.856990\n",
       "2   188.0  0.100320\n",
       "3    54.0  0.028815\n",
       "4    26.0  0.013874"
      ]
     },
     "execution_count": 435,
     "metadata": {},
     "output_type": "execute_result"
    }
   ],
   "source": [
    "#check frequencies of n of images\n",
    "check_frequencies('img_num')"
   ]
  },
  {
   "cell_type": "code",
   "execution_count": 436,
   "metadata": {},
   "outputs": [
    {
     "data": {
      "text/html": [
       "<div>\n",
       "<style scoped>\n",
       "    .dataframe tbody tr th:only-of-type {\n",
       "        vertical-align: middle;\n",
       "    }\n",
       "\n",
       "    .dataframe tbody tr th {\n",
       "        vertical-align: top;\n",
       "    }\n",
       "\n",
       "    .dataframe thead th {\n",
       "        text-align: right;\n",
       "    }\n",
       "</style>\n",
       "<table border=\"1\" class=\"dataframe\">\n",
       "  <thead>\n",
       "    <tr style=\"text-align: right;\">\n",
       "      <th></th>\n",
       "      <th>number</th>\n",
       "      <th>percent</th>\n",
       "    </tr>\n",
       "  </thead>\n",
       "  <tbody>\n",
       "    <tr>\n",
       "      <th>NA</th>\n",
       "      <td>1586.0</td>\n",
       "      <td>0.846318</td>\n",
       "    </tr>\n",
       "    <tr>\n",
       "      <th>pupper</th>\n",
       "      <td>195.0</td>\n",
       "      <td>0.104055</td>\n",
       "    </tr>\n",
       "    <tr>\n",
       "      <th>doggo</th>\n",
       "      <td>59.0</td>\n",
       "      <td>0.031483</td>\n",
       "    </tr>\n",
       "    <tr>\n",
       "      <th>puppo</th>\n",
       "      <td>21.0</td>\n",
       "      <td>0.011206</td>\n",
       "    </tr>\n",
       "    <tr>\n",
       "      <th>floofer</th>\n",
       "      <td>8.0</td>\n",
       "      <td>0.004269</td>\n",
       "    </tr>\n",
       "    <tr>\n",
       "      <th>doggo, pupper</th>\n",
       "      <td>5.0</td>\n",
       "      <td>0.002668</td>\n",
       "    </tr>\n",
       "  </tbody>\n",
       "</table>\n",
       "</div>"
      ],
      "text/plain": [
       "               number   percent\n",
       "NA             1586.0  0.846318\n",
       "pupper          195.0  0.104055\n",
       "doggo            59.0  0.031483\n",
       "puppo            21.0  0.011206\n",
       "floofer           8.0  0.004269\n",
       "doggo, pupper     5.0  0.002668"
      ]
     },
     "execution_count": 436,
     "metadata": {},
     "output_type": "execute_result"
    }
   ],
   "source": [
    "#check frequencies of dog stage\n",
    "check_frequencies('dog_stage')"
   ]
  },
  {
   "cell_type": "code",
   "execution_count": 437,
   "metadata": {},
   "outputs": [
    {
     "data": {
      "text/html": [
       "<div>\n",
       "<style scoped>\n",
       "    .dataframe tbody tr th:only-of-type {\n",
       "        vertical-align: middle;\n",
       "    }\n",
       "\n",
       "    .dataframe tbody tr th {\n",
       "        vertical-align: top;\n",
       "    }\n",
       "\n",
       "    .dataframe thead th {\n",
       "        text-align: right;\n",
       "    }\n",
       "</style>\n",
       "<table border=\"1\" class=\"dataframe\">\n",
       "  <thead>\n",
       "    <tr style=\"text-align: right;\">\n",
       "      <th></th>\n",
       "      <th>number</th>\n",
       "      <th>percent</th>\n",
       "    </tr>\n",
       "  </thead>\n",
       "  <tbody>\n",
       "    <tr>\n",
       "      <th>male</th>\n",
       "      <td>979.0</td>\n",
       "      <td>0.522412</td>\n",
       "    </tr>\n",
       "    <tr>\n",
       "      <th>NA</th>\n",
       "      <td>569.0</td>\n",
       "      <td>0.303629</td>\n",
       "    </tr>\n",
       "    <tr>\n",
       "      <th>female</th>\n",
       "      <td>326.0</td>\n",
       "      <td>0.173959</td>\n",
       "    </tr>\n",
       "  </tbody>\n",
       "</table>\n",
       "</div>"
      ],
      "text/plain": [
       "        number   percent\n",
       "male     979.0  0.522412\n",
       "NA       569.0  0.303629\n",
       "female   326.0  0.173959"
      ]
     },
     "execution_count": 437,
     "metadata": {},
     "output_type": "execute_result"
    }
   ],
   "source": [
    "#check frequencies of dog stage\n",
    "check_frequencies('dog_gender')"
   ]
  },
  {
   "cell_type": "code",
   "execution_count": 438,
   "metadata": {},
   "outputs": [
    {
     "data": {
      "text/html": [
       "<div>\n",
       "<style scoped>\n",
       "    .dataframe tbody tr th:only-of-type {\n",
       "        vertical-align: middle;\n",
       "    }\n",
       "\n",
       "    .dataframe tbody tr th {\n",
       "        vertical-align: top;\n",
       "    }\n",
       "\n",
       "    .dataframe thead th {\n",
       "        text-align: right;\n",
       "    }\n",
       "</style>\n",
       "<table border=\"1\" class=\"dataframe\">\n",
       "  <thead>\n",
       "    <tr style=\"text-align: right;\">\n",
       "      <th></th>\n",
       "      <th>number</th>\n",
       "      <th>percent</th>\n",
       "    </tr>\n",
       "  </thead>\n",
       "  <tbody>\n",
       "    <tr>\n",
       "      <th>NA</th>\n",
       "      <td>241.0</td>\n",
       "      <td>0.128602</td>\n",
       "    </tr>\n",
       "    <tr>\n",
       "      <th>golden_retriever</th>\n",
       "      <td>153.0</td>\n",
       "      <td>0.081644</td>\n",
       "    </tr>\n",
       "    <tr>\n",
       "      <th>labrador_retriever</th>\n",
       "      <td>107.0</td>\n",
       "      <td>0.057097</td>\n",
       "    </tr>\n",
       "    <tr>\n",
       "      <th>pembroke</th>\n",
       "      <td>89.0</td>\n",
       "      <td>0.047492</td>\n",
       "    </tr>\n",
       "    <tr>\n",
       "      <th>chihuahua</th>\n",
       "      <td>87.0</td>\n",
       "      <td>0.046425</td>\n",
       "    </tr>\n",
       "    <tr>\n",
       "      <th>pug</th>\n",
       "      <td>61.0</td>\n",
       "      <td>0.032551</td>\n",
       "    </tr>\n",
       "    <tr>\n",
       "      <th>toy_poodle</th>\n",
       "      <td>51.0</td>\n",
       "      <td>0.027215</td>\n",
       "    </tr>\n",
       "    <tr>\n",
       "      <th>chow</th>\n",
       "      <td>48.0</td>\n",
       "      <td>0.025614</td>\n",
       "    </tr>\n",
       "    <tr>\n",
       "      <th>pomeranian</th>\n",
       "      <td>41.0</td>\n",
       "      <td>0.021878</td>\n",
       "    </tr>\n",
       "    <tr>\n",
       "      <th>samoyed</th>\n",
       "      <td>41.0</td>\n",
       "      <td>0.021878</td>\n",
       "    </tr>\n",
       "    <tr>\n",
       "      <th>malamute</th>\n",
       "      <td>33.0</td>\n",
       "      <td>0.017609</td>\n",
       "    </tr>\n",
       "    <tr>\n",
       "      <th>chesapeake_bay_retriever</th>\n",
       "      <td>31.0</td>\n",
       "      <td>0.016542</td>\n",
       "    </tr>\n",
       "    <tr>\n",
       "      <th>cocker_spaniel</th>\n",
       "      <td>30.0</td>\n",
       "      <td>0.016009</td>\n",
       "    </tr>\n",
       "    <tr>\n",
       "      <th>french_bulldog</th>\n",
       "      <td>28.0</td>\n",
       "      <td>0.014941</td>\n",
       "    </tr>\n",
       "    <tr>\n",
       "      <th>miniature_pinscher</th>\n",
       "      <td>22.0</td>\n",
       "      <td>0.011740</td>\n",
       "    </tr>\n",
       "    <tr>\n",
       "      <th>eskimo_dog</th>\n",
       "      <td>21.0</td>\n",
       "      <td>0.011206</td>\n",
       "    </tr>\n",
       "    <tr>\n",
       "      <th>cardigan</th>\n",
       "      <td>21.0</td>\n",
       "      <td>0.011206</td>\n",
       "    </tr>\n",
       "    <tr>\n",
       "      <th>staffordshire_bullterrier</th>\n",
       "      <td>21.0</td>\n",
       "      <td>0.011206</td>\n",
       "    </tr>\n",
       "    <tr>\n",
       "      <th>german_shepherd</th>\n",
       "      <td>21.0</td>\n",
       "      <td>0.011206</td>\n",
       "    </tr>\n",
       "    <tr>\n",
       "      <th>siberian_husky</th>\n",
       "      <td>20.0</td>\n",
       "      <td>0.010672</td>\n",
       "    </tr>\n",
       "    <tr>\n",
       "      <th>shih-tzu</th>\n",
       "      <td>20.0</td>\n",
       "      <td>0.010672</td>\n",
       "    </tr>\n",
       "    <tr>\n",
       "      <th>beagle</th>\n",
       "      <td>20.0</td>\n",
       "      <td>0.010672</td>\n",
       "    </tr>\n",
       "    <tr>\n",
       "      <th>shetland_sheepdog</th>\n",
       "      <td>19.0</td>\n",
       "      <td>0.010139</td>\n",
       "    </tr>\n",
       "    <tr>\n",
       "      <th>maltese_dog</th>\n",
       "      <td>18.0</td>\n",
       "      <td>0.009605</td>\n",
       "    </tr>\n",
       "    <tr>\n",
       "      <th>rottweiler</th>\n",
       "      <td>18.0</td>\n",
       "      <td>0.009605</td>\n",
       "    </tr>\n",
       "    <tr>\n",
       "      <th>italian_greyhound</th>\n",
       "      <td>17.0</td>\n",
       "      <td>0.009072</td>\n",
       "    </tr>\n",
       "    <tr>\n",
       "      <th>kuvasz</th>\n",
       "      <td>17.0</td>\n",
       "      <td>0.009072</td>\n",
       "    </tr>\n",
       "    <tr>\n",
       "      <th>basset</th>\n",
       "      <td>16.0</td>\n",
       "      <td>0.008538</td>\n",
       "    </tr>\n",
       "    <tr>\n",
       "      <th>lakeland_terrier</th>\n",
       "      <td>16.0</td>\n",
       "      <td>0.008538</td>\n",
       "    </tr>\n",
       "    <tr>\n",
       "      <th>west_highland_white_terrier</th>\n",
       "      <td>16.0</td>\n",
       "      <td>0.008538</td>\n",
       "    </tr>\n",
       "    <tr>\n",
       "      <th>american_staffordshire_terrier</th>\n",
       "      <td>15.0</td>\n",
       "      <td>0.008004</td>\n",
       "    </tr>\n",
       "    <tr>\n",
       "      <th>great_pyrenees</th>\n",
       "      <td>15.0</td>\n",
       "      <td>0.008004</td>\n",
       "    </tr>\n",
       "    <tr>\n",
       "      <th>old_english_sheepdog</th>\n",
       "      <td>14.0</td>\n",
       "      <td>0.007471</td>\n",
       "    </tr>\n",
       "    <tr>\n",
       "      <th>pekinese</th>\n",
       "      <td>14.0</td>\n",
       "      <td>0.007471</td>\n",
       "    </tr>\n",
       "    <tr>\n",
       "      <th>vizsla</th>\n",
       "      <td>13.0</td>\n",
       "      <td>0.006937</td>\n",
       "    </tr>\n",
       "    <tr>\n",
       "      <th>kelpie</th>\n",
       "      <td>13.0</td>\n",
       "      <td>0.006937</td>\n",
       "    </tr>\n",
       "    <tr>\n",
       "      <th>schipperke</th>\n",
       "      <td>13.0</td>\n",
       "      <td>0.006937</td>\n",
       "    </tr>\n",
       "    <tr>\n",
       "      <th>soft-coated_wheaten_terrier</th>\n",
       "      <td>12.0</td>\n",
       "      <td>0.006403</td>\n",
       "    </tr>\n",
       "    <tr>\n",
       "      <th>airedale</th>\n",
       "      <td>12.0</td>\n",
       "      <td>0.006403</td>\n",
       "    </tr>\n",
       "    <tr>\n",
       "      <th>norwegian_elkhound</th>\n",
       "      <td>11.0</td>\n",
       "      <td>0.005870</td>\n",
       "    </tr>\n",
       "    <tr>\n",
       "      <th>borzoi</th>\n",
       "      <td>11.0</td>\n",
       "      <td>0.005870</td>\n",
       "    </tr>\n",
       "    <tr>\n",
       "      <th>whippet</th>\n",
       "      <td>11.0</td>\n",
       "      <td>0.005870</td>\n",
       "    </tr>\n",
       "    <tr>\n",
       "      <th>boxer</th>\n",
       "      <td>11.0</td>\n",
       "      <td>0.005870</td>\n",
       "    </tr>\n",
       "    <tr>\n",
       "      <th>great_dane</th>\n",
       "      <td>11.0</td>\n",
       "      <td>0.005870</td>\n",
       "    </tr>\n",
       "    <tr>\n",
       "      <th>dalmatian</th>\n",
       "      <td>11.0</td>\n",
       "      <td>0.005870</td>\n",
       "    </tr>\n",
       "    <tr>\n",
       "      <th>boston_bull</th>\n",
       "      <td>11.0</td>\n",
       "      <td>0.005870</td>\n",
       "    </tr>\n",
       "    <tr>\n",
       "      <th>bernese_mountain_dog</th>\n",
       "      <td>11.0</td>\n",
       "      <td>0.005870</td>\n",
       "    </tr>\n",
       "    <tr>\n",
       "      <th>collie</th>\n",
       "      <td>11.0</td>\n",
       "      <td>0.005870</td>\n",
       "    </tr>\n",
       "    <tr>\n",
       "      <th>malinois</th>\n",
       "      <td>11.0</td>\n",
       "      <td>0.005870</td>\n",
       "    </tr>\n",
       "    <tr>\n",
       "      <th>standard_poodle</th>\n",
       "      <td>10.0</td>\n",
       "      <td>0.005336</td>\n",
       "    </tr>\n",
       "    <tr>\n",
       "      <th>yorkshire_terrier</th>\n",
       "      <td>10.0</td>\n",
       "      <td>0.005336</td>\n",
       "    </tr>\n",
       "    <tr>\n",
       "      <th>border_collie</th>\n",
       "      <td>10.0</td>\n",
       "      <td>0.005336</td>\n",
       "    </tr>\n",
       "    <tr>\n",
       "      <th>blenheim_spaniel</th>\n",
       "      <td>10.0</td>\n",
       "      <td>0.005336</td>\n",
       "    </tr>\n",
       "    <tr>\n",
       "      <th>english_springer</th>\n",
       "      <td>9.0</td>\n",
       "      <td>0.004803</td>\n",
       "    </tr>\n",
       "    <tr>\n",
       "      <th>basenji</th>\n",
       "      <td>9.0</td>\n",
       "      <td>0.004803</td>\n",
       "    </tr>\n",
       "    <tr>\n",
       "      <th>doberman</th>\n",
       "      <td>9.0</td>\n",
       "      <td>0.004803</td>\n",
       "    </tr>\n",
       "    <tr>\n",
       "      <th>miniature_poodle</th>\n",
       "      <td>8.0</td>\n",
       "      <td>0.004269</td>\n",
       "    </tr>\n",
       "    <tr>\n",
       "      <th>english_setter</th>\n",
       "      <td>8.0</td>\n",
       "      <td>0.004269</td>\n",
       "    </tr>\n",
       "    <tr>\n",
       "      <th>brittany_spaniel</th>\n",
       "      <td>8.0</td>\n",
       "      <td>0.004269</td>\n",
       "    </tr>\n",
       "    <tr>\n",
       "      <th>flat-coated_retriever</th>\n",
       "      <td>8.0</td>\n",
       "      <td>0.004269</td>\n",
       "    </tr>\n",
       "    <tr>\n",
       "      <th>german_short-haired_pointer</th>\n",
       "      <td>8.0</td>\n",
       "      <td>0.004269</td>\n",
       "    </tr>\n",
       "    <tr>\n",
       "      <th>norfolk_terrier</th>\n",
       "      <td>7.0</td>\n",
       "      <td>0.003735</td>\n",
       "    </tr>\n",
       "    <tr>\n",
       "      <th>papillon</th>\n",
       "      <td>7.0</td>\n",
       "      <td>0.003735</td>\n",
       "    </tr>\n",
       "    <tr>\n",
       "      <th>saint_bernard</th>\n",
       "      <td>7.0</td>\n",
       "      <td>0.003735</td>\n",
       "    </tr>\n",
       "    <tr>\n",
       "      <th>border_terrier</th>\n",
       "      <td>7.0</td>\n",
       "      <td>0.003735</td>\n",
       "    </tr>\n",
       "    <tr>\n",
       "      <th>newfoundland</th>\n",
       "      <td>7.0</td>\n",
       "      <td>0.003735</td>\n",
       "    </tr>\n",
       "    <tr>\n",
       "      <th>irish_terrier</th>\n",
       "      <td>6.0</td>\n",
       "      <td>0.003202</td>\n",
       "    </tr>\n",
       "    <tr>\n",
       "      <th>mexican_hairless</th>\n",
       "      <td>6.0</td>\n",
       "      <td>0.003202</td>\n",
       "    </tr>\n",
       "    <tr>\n",
       "      <th>dandie_dinmont</th>\n",
       "      <td>6.0</td>\n",
       "      <td>0.003202</td>\n",
       "    </tr>\n",
       "    <tr>\n",
       "      <th>bloodhound</th>\n",
       "      <td>6.0</td>\n",
       "      <td>0.003202</td>\n",
       "    </tr>\n",
       "    <tr>\n",
       "      <th>redbone</th>\n",
       "      <td>6.0</td>\n",
       "      <td>0.003202</td>\n",
       "    </tr>\n",
       "    <tr>\n",
       "      <th>ibizan_hound</th>\n",
       "      <td>5.0</td>\n",
       "      <td>0.002668</td>\n",
       "    </tr>\n",
       "    <tr>\n",
       "      <th>bedlington_terrier</th>\n",
       "      <td>5.0</td>\n",
       "      <td>0.002668</td>\n",
       "    </tr>\n",
       "    <tr>\n",
       "      <th>walker_hound</th>\n",
       "      <td>5.0</td>\n",
       "      <td>0.002668</td>\n",
       "    </tr>\n",
       "    <tr>\n",
       "      <th>bull_mastiff</th>\n",
       "      <td>5.0</td>\n",
       "      <td>0.002668</td>\n",
       "    </tr>\n",
       "    <tr>\n",
       "      <th>lhasa</th>\n",
       "      <td>5.0</td>\n",
       "      <td>0.002668</td>\n",
       "    </tr>\n",
       "    <tr>\n",
       "      <th>norwich_terrier</th>\n",
       "      <td>5.0</td>\n",
       "      <td>0.002668</td>\n",
       "    </tr>\n",
       "    <tr>\n",
       "      <th>tibetan_mastiff</th>\n",
       "      <td>4.0</td>\n",
       "      <td>0.002134</td>\n",
       "    </tr>\n",
       "    <tr>\n",
       "      <th>keeshond</th>\n",
       "      <td>4.0</td>\n",
       "      <td>0.002134</td>\n",
       "    </tr>\n",
       "    <tr>\n",
       "      <th>weimaraner</th>\n",
       "      <td>4.0</td>\n",
       "      <td>0.002134</td>\n",
       "    </tr>\n",
       "    <tr>\n",
       "      <th>saluki</th>\n",
       "      <td>4.0</td>\n",
       "      <td>0.002134</td>\n",
       "    </tr>\n",
       "    <tr>\n",
       "      <th>tibetan_terrier</th>\n",
       "      <td>4.0</td>\n",
       "      <td>0.002134</td>\n",
       "    </tr>\n",
       "    <tr>\n",
       "      <th>miniature_schnauzer</th>\n",
       "      <td>4.0</td>\n",
       "      <td>0.002134</td>\n",
       "    </tr>\n",
       "    <tr>\n",
       "      <th>scottish_deerhound</th>\n",
       "      <td>4.0</td>\n",
       "      <td>0.002134</td>\n",
       "    </tr>\n",
       "    <tr>\n",
       "      <th>bluetick</th>\n",
       "      <td>4.0</td>\n",
       "      <td>0.002134</td>\n",
       "    </tr>\n",
       "    <tr>\n",
       "      <th>giant_schnauzer</th>\n",
       "      <td>4.0</td>\n",
       "      <td>0.002134</td>\n",
       "    </tr>\n",
       "    <tr>\n",
       "      <th>rhodesian_ridgeback</th>\n",
       "      <td>4.0</td>\n",
       "      <td>0.002134</td>\n",
       "    </tr>\n",
       "    <tr>\n",
       "      <th>welsh_springer_spaniel</th>\n",
       "      <td>4.0</td>\n",
       "      <td>0.002134</td>\n",
       "    </tr>\n",
       "    <tr>\n",
       "      <th>gordon_setter</th>\n",
       "      <td>3.0</td>\n",
       "      <td>0.001601</td>\n",
       "    </tr>\n",
       "    <tr>\n",
       "      <th>brabancon_griffon</th>\n",
       "      <td>3.0</td>\n",
       "      <td>0.001601</td>\n",
       "    </tr>\n",
       "    <tr>\n",
       "      <th>irish_water_spaniel</th>\n",
       "      <td>3.0</td>\n",
       "      <td>0.001601</td>\n",
       "    </tr>\n",
       "    <tr>\n",
       "      <th>briard</th>\n",
       "      <td>3.0</td>\n",
       "      <td>0.001601</td>\n",
       "    </tr>\n",
       "    <tr>\n",
       "      <th>komondor</th>\n",
       "      <td>3.0</td>\n",
       "      <td>0.001601</td>\n",
       "    </tr>\n",
       "    <tr>\n",
       "      <th>irish_setter</th>\n",
       "      <td>3.0</td>\n",
       "      <td>0.001601</td>\n",
       "    </tr>\n",
       "    <tr>\n",
       "      <th>toy_terrier</th>\n",
       "      <td>3.0</td>\n",
       "      <td>0.001601</td>\n",
       "    </tr>\n",
       "    <tr>\n",
       "      <th>curly-coated_retriever</th>\n",
       "      <td>3.0</td>\n",
       "      <td>0.001601</td>\n",
       "    </tr>\n",
       "    <tr>\n",
       "      <th>cairn</th>\n",
       "      <td>3.0</td>\n",
       "      <td>0.001601</td>\n",
       "    </tr>\n",
       "    <tr>\n",
       "      <th>greater_swiss_mountain_dog</th>\n",
       "      <td>3.0</td>\n",
       "      <td>0.001601</td>\n",
       "    </tr>\n",
       "    <tr>\n",
       "      <th>leonberg</th>\n",
       "      <td>3.0</td>\n",
       "      <td>0.001601</td>\n",
       "    </tr>\n",
       "    <tr>\n",
       "      <th>australian_terrier</th>\n",
       "      <td>2.0</td>\n",
       "      <td>0.001067</td>\n",
       "    </tr>\n",
       "    <tr>\n",
       "      <th>groenendael</th>\n",
       "      <td>2.0</td>\n",
       "      <td>0.001067</td>\n",
       "    </tr>\n",
       "    <tr>\n",
       "      <th>appenzeller</th>\n",
       "      <td>2.0</td>\n",
       "      <td>0.001067</td>\n",
       "    </tr>\n",
       "    <tr>\n",
       "      <th>afghan_hound</th>\n",
       "      <td>2.0</td>\n",
       "      <td>0.001067</td>\n",
       "    </tr>\n",
       "    <tr>\n",
       "      <th>sussex_spaniel</th>\n",
       "      <td>2.0</td>\n",
       "      <td>0.001067</td>\n",
       "    </tr>\n",
       "    <tr>\n",
       "      <th>wire-haired_fox_terrier</th>\n",
       "      <td>2.0</td>\n",
       "      <td>0.001067</td>\n",
       "    </tr>\n",
       "    <tr>\n",
       "      <th>irish_wolfhound</th>\n",
       "      <td>1.0</td>\n",
       "      <td>0.000534</td>\n",
       "    </tr>\n",
       "    <tr>\n",
       "      <th>standard_schnauzer</th>\n",
       "      <td>1.0</td>\n",
       "      <td>0.000534</td>\n",
       "    </tr>\n",
       "    <tr>\n",
       "      <th>clumber</th>\n",
       "      <td>1.0</td>\n",
       "      <td>0.000534</td>\n",
       "    </tr>\n",
       "    <tr>\n",
       "      <th>bouvier_des_flandres</th>\n",
       "      <td>1.0</td>\n",
       "      <td>0.000534</td>\n",
       "    </tr>\n",
       "    <tr>\n",
       "      <th>entlebucher</th>\n",
       "      <td>1.0</td>\n",
       "      <td>0.000534</td>\n",
       "    </tr>\n",
       "    <tr>\n",
       "      <th>scotch_terrier</th>\n",
       "      <td>1.0</td>\n",
       "      <td>0.000534</td>\n",
       "    </tr>\n",
       "    <tr>\n",
       "      <th>silky_terrier</th>\n",
       "      <td>1.0</td>\n",
       "      <td>0.000534</td>\n",
       "    </tr>\n",
       "    <tr>\n",
       "      <th>black-and-tan_coonhound</th>\n",
       "      <td>1.0</td>\n",
       "      <td>0.000534</td>\n",
       "    </tr>\n",
       "  </tbody>\n",
       "</table>\n",
       "</div>"
      ],
      "text/plain": [
       "                                number   percent\n",
       "NA                               241.0  0.128602\n",
       "golden_retriever                 153.0  0.081644\n",
       "labrador_retriever               107.0  0.057097\n",
       "pembroke                          89.0  0.047492\n",
       "chihuahua                         87.0  0.046425\n",
       "pug                               61.0  0.032551\n",
       "toy_poodle                        51.0  0.027215\n",
       "chow                              48.0  0.025614\n",
       "pomeranian                        41.0  0.021878\n",
       "samoyed                           41.0  0.021878\n",
       "malamute                          33.0  0.017609\n",
       "chesapeake_bay_retriever          31.0  0.016542\n",
       "cocker_spaniel                    30.0  0.016009\n",
       "french_bulldog                    28.0  0.014941\n",
       "miniature_pinscher                22.0  0.011740\n",
       "eskimo_dog                        21.0  0.011206\n",
       "cardigan                          21.0  0.011206\n",
       "staffordshire_bullterrier         21.0  0.011206\n",
       "german_shepherd                   21.0  0.011206\n",
       "siberian_husky                    20.0  0.010672\n",
       "shih-tzu                          20.0  0.010672\n",
       "beagle                            20.0  0.010672\n",
       "shetland_sheepdog                 19.0  0.010139\n",
       "maltese_dog                       18.0  0.009605\n",
       "rottweiler                        18.0  0.009605\n",
       "italian_greyhound                 17.0  0.009072\n",
       "kuvasz                            17.0  0.009072\n",
       "basset                            16.0  0.008538\n",
       "lakeland_terrier                  16.0  0.008538\n",
       "west_highland_white_terrier       16.0  0.008538\n",
       "american_staffordshire_terrier    15.0  0.008004\n",
       "great_pyrenees                    15.0  0.008004\n",
       "old_english_sheepdog              14.0  0.007471\n",
       "pekinese                          14.0  0.007471\n",
       "vizsla                            13.0  0.006937\n",
       "kelpie                            13.0  0.006937\n",
       "schipperke                        13.0  0.006937\n",
       "soft-coated_wheaten_terrier       12.0  0.006403\n",
       "airedale                          12.0  0.006403\n",
       "norwegian_elkhound                11.0  0.005870\n",
       "borzoi                            11.0  0.005870\n",
       "whippet                           11.0  0.005870\n",
       "boxer                             11.0  0.005870\n",
       "great_dane                        11.0  0.005870\n",
       "dalmatian                         11.0  0.005870\n",
       "boston_bull                       11.0  0.005870\n",
       "bernese_mountain_dog              11.0  0.005870\n",
       "collie                            11.0  0.005870\n",
       "malinois                          11.0  0.005870\n",
       "standard_poodle                   10.0  0.005336\n",
       "yorkshire_terrier                 10.0  0.005336\n",
       "border_collie                     10.0  0.005336\n",
       "blenheim_spaniel                  10.0  0.005336\n",
       "english_springer                   9.0  0.004803\n",
       "basenji                            9.0  0.004803\n",
       "doberman                           9.0  0.004803\n",
       "miniature_poodle                   8.0  0.004269\n",
       "english_setter                     8.0  0.004269\n",
       "brittany_spaniel                   8.0  0.004269\n",
       "flat-coated_retriever              8.0  0.004269\n",
       "german_short-haired_pointer        8.0  0.004269\n",
       "norfolk_terrier                    7.0  0.003735\n",
       "papillon                           7.0  0.003735\n",
       "saint_bernard                      7.0  0.003735\n",
       "border_terrier                     7.0  0.003735\n",
       "newfoundland                       7.0  0.003735\n",
       "irish_terrier                      6.0  0.003202\n",
       "mexican_hairless                   6.0  0.003202\n",
       "dandie_dinmont                     6.0  0.003202\n",
       "bloodhound                         6.0  0.003202\n",
       "redbone                            6.0  0.003202\n",
       "ibizan_hound                       5.0  0.002668\n",
       "bedlington_terrier                 5.0  0.002668\n",
       "walker_hound                       5.0  0.002668\n",
       "bull_mastiff                       5.0  0.002668\n",
       "lhasa                              5.0  0.002668\n",
       "norwich_terrier                    5.0  0.002668\n",
       "tibetan_mastiff                    4.0  0.002134\n",
       "keeshond                           4.0  0.002134\n",
       "weimaraner                         4.0  0.002134\n",
       "saluki                             4.0  0.002134\n",
       "tibetan_terrier                    4.0  0.002134\n",
       "miniature_schnauzer                4.0  0.002134\n",
       "scottish_deerhound                 4.0  0.002134\n",
       "bluetick                           4.0  0.002134\n",
       "giant_schnauzer                    4.0  0.002134\n",
       "rhodesian_ridgeback                4.0  0.002134\n",
       "welsh_springer_spaniel             4.0  0.002134\n",
       "gordon_setter                      3.0  0.001601\n",
       "brabancon_griffon                  3.0  0.001601\n",
       "irish_water_spaniel                3.0  0.001601\n",
       "briard                             3.0  0.001601\n",
       "komondor                           3.0  0.001601\n",
       "irish_setter                       3.0  0.001601\n",
       "toy_terrier                        3.0  0.001601\n",
       "curly-coated_retriever             3.0  0.001601\n",
       "cairn                              3.0  0.001601\n",
       "greater_swiss_mountain_dog         3.0  0.001601\n",
       "leonberg                           3.0  0.001601\n",
       "australian_terrier                 2.0  0.001067\n",
       "groenendael                        2.0  0.001067\n",
       "appenzeller                        2.0  0.001067\n",
       "afghan_hound                       2.0  0.001067\n",
       "sussex_spaniel                     2.0  0.001067\n",
       "wire-haired_fox_terrier            2.0  0.001067\n",
       "irish_wolfhound                    1.0  0.000534\n",
       "standard_schnauzer                 1.0  0.000534\n",
       "clumber                            1.0  0.000534\n",
       "bouvier_des_flandres               1.0  0.000534\n",
       "entlebucher                        1.0  0.000534\n",
       "scotch_terrier                     1.0  0.000534\n",
       "silky_terrier                      1.0  0.000534\n",
       "black-and-tan_coonhound            1.0  0.000534"
      ]
     },
     "execution_count": 438,
     "metadata": {},
     "output_type": "execute_result"
    }
   ],
   "source": [
    "#check frequencies of dog breed\n",
    "pd.set_option('display.max_rows', 120)\n",
    "check_frequencies('dog_breed')"
   ]
  },
  {
   "cell_type": "code",
   "execution_count": 439,
   "metadata": {},
   "outputs": [
    {
     "data": {
      "text/plain": [
       "Index(['irish_wolfhound', 'standard_schnauzer', 'clumber',\n",
       "       'bouvier_des_flandres', 'entlebucher', 'scotch_terrier',\n",
       "       'silky_terrier', 'black-and-tan_coonhound'],\n",
       "      dtype='object')"
      ]
     },
     "execution_count": 439,
     "metadata": {},
     "output_type": "execute_result"
    }
   ],
   "source": [
    "#list of breeds only appear once\n",
    "check_frequencies('dog_breed').query('number == 1.0').index"
   ]
  },
  {
   "cell_type": "markdown",
   "metadata": {},
   "source": [
    "#### H1: dog rating is postively correlated with N of retweets, favorites and images posted"
   ]
  },
  {
   "cell_type": "markdown",
   "metadata": {},
   "source": [
    "#### Analysis"
   ]
  },
  {
   "cell_type": "code",
   "execution_count": 440,
   "metadata": {},
   "outputs": [
    {
     "data": {
      "text/html": [
       "<div>\n",
       "<style scoped>\n",
       "    .dataframe tbody tr th:only-of-type {\n",
       "        vertical-align: middle;\n",
       "    }\n",
       "\n",
       "    .dataframe tbody tr th {\n",
       "        vertical-align: top;\n",
       "    }\n",
       "\n",
       "    .dataframe thead th {\n",
       "        text-align: right;\n",
       "    }\n",
       "</style>\n",
       "<table border=\"1\" class=\"dataframe\">\n",
       "  <thead>\n",
       "    <tr style=\"text-align: right;\">\n",
       "      <th></th>\n",
       "      <th>dog_rating</th>\n",
       "      <th>retweets</th>\n",
       "      <th>favorites</th>\n",
       "      <th>img_num</th>\n",
       "    </tr>\n",
       "  </thead>\n",
       "  <tbody>\n",
       "    <tr>\n",
       "      <th>count</th>\n",
       "      <td>1874.000000</td>\n",
       "      <td>1874.000000</td>\n",
       "      <td>1874.000000</td>\n",
       "      <td>1874.000000</td>\n",
       "    </tr>\n",
       "    <tr>\n",
       "      <th>mean</th>\n",
       "      <td>1.077585</td>\n",
       "      <td>2173.368196</td>\n",
       "      <td>7521.945037</td>\n",
       "      <td>1.199573</td>\n",
       "    </tr>\n",
       "    <tr>\n",
       "      <th>std</th>\n",
       "      <td>0.163335</td>\n",
       "      <td>3936.772935</td>\n",
       "      <td>11091.021350</td>\n",
       "      <td>0.548434</td>\n",
       "    </tr>\n",
       "    <tr>\n",
       "      <th>min</th>\n",
       "      <td>0.600000</td>\n",
       "      <td>11.000000</td>\n",
       "      <td>66.000000</td>\n",
       "      <td>1.000000</td>\n",
       "    </tr>\n",
       "    <tr>\n",
       "      <th>25%</th>\n",
       "      <td>1.000000</td>\n",
       "      <td>489.250000</td>\n",
       "      <td>1711.000000</td>\n",
       "      <td>1.000000</td>\n",
       "    </tr>\n",
       "    <tr>\n",
       "      <th>50%</th>\n",
       "      <td>1.100000</td>\n",
       "      <td>1072.500000</td>\n",
       "      <td>3456.000000</td>\n",
       "      <td>1.000000</td>\n",
       "    </tr>\n",
       "    <tr>\n",
       "      <th>75%</th>\n",
       "      <td>1.200000</td>\n",
       "      <td>2487.750000</td>\n",
       "      <td>9397.500000</td>\n",
       "      <td>1.000000</td>\n",
       "    </tr>\n",
       "    <tr>\n",
       "      <th>max</th>\n",
       "      <td>1.300000</td>\n",
       "      <td>70485.000000</td>\n",
       "      <td>144420.000000</td>\n",
       "      <td>4.000000</td>\n",
       "    </tr>\n",
       "  </tbody>\n",
       "</table>\n",
       "</div>"
      ],
      "text/plain": [
       "        dog_rating      retweets      favorites      img_num\n",
       "count  1874.000000   1874.000000    1874.000000  1874.000000\n",
       "mean      1.077585   2173.368196    7521.945037     1.199573\n",
       "std       0.163335   3936.772935   11091.021350     0.548434\n",
       "min       0.600000     11.000000      66.000000     1.000000\n",
       "25%       1.000000    489.250000    1711.000000     1.000000\n",
       "50%       1.100000   1072.500000    3456.000000     1.000000\n",
       "75%       1.200000   2487.750000    9397.500000     1.000000\n",
       "max       1.300000  70485.000000  144420.000000     4.000000"
      ]
     },
     "execution_count": 440,
     "metadata": {},
     "output_type": "execute_result"
    }
   ],
   "source": [
    "df_analysis[['dog_rating','retweets','favorites','img_num']].describe()"
   ]
  },
  {
   "cell_type": "code",
   "execution_count": 441,
   "metadata": {},
   "outputs": [
    {
     "data": {
      "text/html": [
       "<div>\n",
       "<style scoped>\n",
       "    .dataframe tbody tr th:only-of-type {\n",
       "        vertical-align: middle;\n",
       "    }\n",
       "\n",
       "    .dataframe tbody tr th {\n",
       "        vertical-align: top;\n",
       "    }\n",
       "\n",
       "    .dataframe thead th {\n",
       "        text-align: right;\n",
       "    }\n",
       "</style>\n",
       "<table border=\"1\" class=\"dataframe\">\n",
       "  <thead>\n",
       "    <tr style=\"text-align: right;\">\n",
       "      <th></th>\n",
       "      <th>dog_rating</th>\n",
       "      <th>retweets</th>\n",
       "      <th>favorites</th>\n",
       "      <th>img_num</th>\n",
       "    </tr>\n",
       "  </thead>\n",
       "  <tbody>\n",
       "    <tr>\n",
       "      <th>dog_rating</th>\n",
       "      <td>1.000000</td>\n",
       "      <td>0.312636</td>\n",
       "      <td>0.419268</td>\n",
       "      <td>0.183771</td>\n",
       "    </tr>\n",
       "    <tr>\n",
       "      <th>retweets</th>\n",
       "      <td>0.312636</td>\n",
       "      <td>1.000000</td>\n",
       "      <td>0.927961</td>\n",
       "      <td>0.083979</td>\n",
       "    </tr>\n",
       "    <tr>\n",
       "      <th>favorites</th>\n",
       "      <td>0.419268</td>\n",
       "      <td>0.927961</td>\n",
       "      <td>1.000000</td>\n",
       "      <td>0.106701</td>\n",
       "    </tr>\n",
       "    <tr>\n",
       "      <th>img_num</th>\n",
       "      <td>0.183771</td>\n",
       "      <td>0.083979</td>\n",
       "      <td>0.106701</td>\n",
       "      <td>1.000000</td>\n",
       "    </tr>\n",
       "  </tbody>\n",
       "</table>\n",
       "</div>"
      ],
      "text/plain": [
       "            dog_rating  retweets  favorites   img_num\n",
       "dog_rating    1.000000  0.312636   0.419268  0.183771\n",
       "retweets      0.312636  1.000000   0.927961  0.083979\n",
       "favorites     0.419268  0.927961   1.000000  0.106701\n",
       "img_num       0.183771  0.083979   0.106701  1.000000"
      ]
     },
     "execution_count": 441,
     "metadata": {},
     "output_type": "execute_result"
    }
   ],
   "source": [
    "df_analysis[['dog_rating','retweets','favorites','img_num']].corr()"
   ]
  },
  {
   "cell_type": "markdown",
   "metadata": {},
   "source": [
    "#### Conclusion: consistent with H1, dog rating has a moderate positive correlation with number of retweets and number of favorites and a relatively week correlation with number of images posted."
   ]
  },
  {
   "cell_type": "markdown",
   "metadata": {},
   "source": [
    "-------"
   ]
  },
  {
   "cell_type": "markdown",
   "metadata": {},
   "source": [
    "#### H2: female dogs would receive higher dog rating than male dogs and dogs who do not specify gender  (i.e., rating_female > rating_male & rating_female > rating_wo/gender)"
   ]
  },
  {
   "cell_type": "markdown",
   "metadata": {},
   "source": [
    "#### Analysis"
   ]
  },
  {
   "cell_type": "code",
   "execution_count": 442,
   "metadata": {},
   "outputs": [
    {
     "data": {
      "text/html": [
       "<div>\n",
       "<style scoped>\n",
       "    .dataframe tbody tr th:only-of-type {\n",
       "        vertical-align: middle;\n",
       "    }\n",
       "\n",
       "    .dataframe tbody tr th {\n",
       "        vertical-align: top;\n",
       "    }\n",
       "\n",
       "    .dataframe thead th {\n",
       "        text-align: right;\n",
       "    }\n",
       "</style>\n",
       "<table border=\"1\" class=\"dataframe\">\n",
       "  <thead>\n",
       "    <tr style=\"text-align: right;\">\n",
       "      <th></th>\n",
       "      <th>sum_sq</th>\n",
       "      <th>df</th>\n",
       "      <th>F</th>\n",
       "      <th>PR(&gt;F)</th>\n",
       "    </tr>\n",
       "  </thead>\n",
       "  <tbody>\n",
       "    <tr>\n",
       "      <th>C(dog_gender)</th>\n",
       "      <td>0.857893</td>\n",
       "      <td>2.0</td>\n",
       "      <td>16.341942</td>\n",
       "      <td>9.205800e-08</td>\n",
       "    </tr>\n",
       "    <tr>\n",
       "      <th>Residual</th>\n",
       "      <td>49.110374</td>\n",
       "      <td>1871.0</td>\n",
       "      <td>NaN</td>\n",
       "      <td>NaN</td>\n",
       "    </tr>\n",
       "  </tbody>\n",
       "</table>\n",
       "</div>"
      ],
      "text/plain": [
       "                  sum_sq      df          F        PR(>F)\n",
       "C(dog_gender)   0.857893     2.0  16.341942  9.205800e-08\n",
       "Residual       49.110374  1871.0        NaN           NaN"
      ]
     },
     "execution_count": 442,
     "metadata": {},
     "output_type": "execute_result"
    }
   ],
   "source": [
    "#conduct ANOVA to first check whether there is siginficant group difference across the three groups\n",
    "model_gender = ols('dog_rating ~ C(dog_gender)', data=df_analysis).fit()\n",
    "anova_gender = sm.stats.anova_lm(model_gender, typ=2)\n",
    "anova_gender"
   ]
  },
  {
   "cell_type": "code",
   "execution_count": 443,
   "metadata": {},
   "outputs": [],
   "source": [
    "#since there is significant group difference, do a follow-up pairwise comparison to see how each two groups are different"
   ]
  },
  {
   "cell_type": "code",
   "execution_count": 444,
   "metadata": {},
   "outputs": [
    {
     "name": "stdout",
     "output_type": "stream",
     "text": [
      "Multiple Comparison of Means - Tukey HSD, FWER=0.05 \n",
      "====================================================\n",
      "group1 group2 meandiff p-adj   lower   upper  reject\n",
      "----------------------------------------------------\n",
      "    NA female   0.0598  0.001  0.0334  0.0862   True\n",
      "    NA   male    0.006 0.7418  -0.014   0.026  False\n",
      "female   male  -0.0538  0.001 -0.0781 -0.0295   True\n",
      "----------------------------------------------------\n"
     ]
    }
   ],
   "source": [
    "tukey_gender = pairwise_tukeyhsd(endog=df_analysis['dog_rating'],\n",
    "                          groups=df_analysis['dog_gender'],\n",
    "                          alpha=0.05)\n",
    "print(tukey_gender)"
   ]
  },
  {
   "cell_type": "code",
   "execution_count": 445,
   "metadata": {},
   "outputs": [
    {
     "name": "stdout",
     "output_type": "stream",
     "text": [
      "Multiple Comparison of Means - Tukey HSD, FWER=0.05 \n",
      "====================================================\n",
      "group1 group2 meandiff p-adj   lower   upper  reject\n",
      "----------------------------------------------------\n",
      "    NA female   0.0598  0.001  0.0334  0.0862   True\n",
      "    NA   male    0.006 0.7418  -0.014   0.026  False\n",
      "female   male  -0.0538  0.001 -0.0781 -0.0295   True\n",
      "----------------------------------------------------\n"
     ]
    }
   ],
   "source": [
    "print(tukey_gender)"
   ]
  },
  {
   "cell_type": "markdown",
   "metadata": {},
   "source": [
    "#### Conclusion: consistent with the H2, female dogs receive significantly higher dog rating than male dogs (p = 0.001) and dogs who do not specify genders (p = 0.001). No difference is found between male dogs and dogs who do not specify gender (p = 0.74)."
   ]
  },
  {
   "cell_type": "markdown",
   "metadata": {},
   "source": [
    "--------"
   ]
  },
  {
   "cell_type": "markdown",
   "metadata": {},
   "source": [
    "#### H3: dog stage may also have impact on dog rating, but there is a priori hypothesis on the patterns of the impact"
   ]
  },
  {
   "cell_type": "markdown",
   "metadata": {},
   "source": [
    "#### Analysis"
   ]
  },
  {
   "cell_type": "code",
   "execution_count": 446,
   "metadata": {},
   "outputs": [
    {
     "data": {
      "text/html": [
       "<div>\n",
       "<style scoped>\n",
       "    .dataframe tbody tr th:only-of-type {\n",
       "        vertical-align: middle;\n",
       "    }\n",
       "\n",
       "    .dataframe tbody tr th {\n",
       "        vertical-align: top;\n",
       "    }\n",
       "\n",
       "    .dataframe thead th {\n",
       "        text-align: right;\n",
       "    }\n",
       "</style>\n",
       "<table border=\"1\" class=\"dataframe\">\n",
       "  <thead>\n",
       "    <tr style=\"text-align: right;\">\n",
       "      <th></th>\n",
       "      <th>sum_sq</th>\n",
       "      <th>df</th>\n",
       "      <th>F</th>\n",
       "      <th>PR(&gt;F)</th>\n",
       "    </tr>\n",
       "  </thead>\n",
       "  <tbody>\n",
       "    <tr>\n",
       "      <th>C(dog_stage)</th>\n",
       "      <td>0.950273</td>\n",
       "      <td>5.0</td>\n",
       "      <td>7.242688</td>\n",
       "      <td>9.965763e-07</td>\n",
       "    </tr>\n",
       "    <tr>\n",
       "      <th>Residual</th>\n",
       "      <td>49.017994</td>\n",
       "      <td>1868.0</td>\n",
       "      <td>NaN</td>\n",
       "      <td>NaN</td>\n",
       "    </tr>\n",
       "  </tbody>\n",
       "</table>\n",
       "</div>"
      ],
      "text/plain": [
       "                 sum_sq      df         F        PR(>F)\n",
       "C(dog_stage)   0.950273     5.0  7.242688  9.965763e-07\n",
       "Residual      49.017994  1868.0       NaN           NaN"
      ]
     },
     "execution_count": 446,
     "metadata": {},
     "output_type": "execute_result"
    }
   ],
   "source": [
    "#conduct ANOVA to first check whether there is siginficant group difference across the six groups \n",
    "model_stage = ols('dog_rating ~ C(dog_stage)', data=df_analysis).fit()\n",
    "anova_stage = sm.stats.anova_lm(model_stage, typ=2)\n",
    "anova_stage"
   ]
  },
  {
   "cell_type": "code",
   "execution_count": 477,
   "metadata": {},
   "outputs": [
    {
     "data": {
      "text/html": [
       "<div>\n",
       "<style scoped>\n",
       "    .dataframe tbody tr th:only-of-type {\n",
       "        vertical-align: middle;\n",
       "    }\n",
       "\n",
       "    .dataframe tbody tr th {\n",
       "        vertical-align: top;\n",
       "    }\n",
       "\n",
       "    .dataframe thead th {\n",
       "        text-align: right;\n",
       "    }\n",
       "</style>\n",
       "<table border=\"1\" class=\"dataframe\">\n",
       "  <thead>\n",
       "    <tr style=\"text-align: right;\">\n",
       "      <th></th>\n",
       "      <th></th>\n",
       "      <th>dog_rating</th>\n",
       "    </tr>\n",
       "    <tr>\n",
       "      <th>dog_stage</th>\n",
       "      <th>dog_gender</th>\n",
       "      <th></th>\n",
       "    </tr>\n",
       "  </thead>\n",
       "  <tbody>\n",
       "    <tr>\n",
       "      <th rowspan=\"3\" valign=\"top\">NA</th>\n",
       "      <th>NA</th>\n",
       "      <td>1.049662</td>\n",
       "    </tr>\n",
       "    <tr>\n",
       "      <th>female</th>\n",
       "      <td>1.124354</td>\n",
       "    </tr>\n",
       "    <tr>\n",
       "      <th>male</th>\n",
       "      <td>1.071938</td>\n",
       "    </tr>\n",
       "    <tr>\n",
       "      <th rowspan=\"3\" valign=\"top\">doggo</th>\n",
       "      <th>NA</th>\n",
       "      <td>1.184211</td>\n",
       "    </tr>\n",
       "    <tr>\n",
       "      <th>female</th>\n",
       "      <td>1.208333</td>\n",
       "    </tr>\n",
       "    <tr>\n",
       "      <th>male</th>\n",
       "      <td>1.132143</td>\n",
       "    </tr>\n",
       "    <tr>\n",
       "      <th>doggo, pupper</th>\n",
       "      <th>NA</th>\n",
       "      <td>1.180000</td>\n",
       "    </tr>\n",
       "    <tr>\n",
       "      <th rowspan=\"2\" valign=\"top\">floofer</th>\n",
       "      <th>NA</th>\n",
       "      <td>1.200000</td>\n",
       "    </tr>\n",
       "    <tr>\n",
       "      <th>male</th>\n",
       "      <td>1.183333</td>\n",
       "    </tr>\n",
       "    <tr>\n",
       "      <th rowspan=\"3\" valign=\"top\">pupper</th>\n",
       "      <th>NA</th>\n",
       "      <td>1.108219</td>\n",
       "    </tr>\n",
       "    <tr>\n",
       "      <th>female</th>\n",
       "      <td>1.076486</td>\n",
       "    </tr>\n",
       "    <tr>\n",
       "      <th>male</th>\n",
       "      <td>1.009195</td>\n",
       "    </tr>\n",
       "    <tr>\n",
       "      <th rowspan=\"3\" valign=\"top\">puppo</th>\n",
       "      <th>NA</th>\n",
       "      <td>1.150000</td>\n",
       "    </tr>\n",
       "    <tr>\n",
       "      <th>female</th>\n",
       "      <td>1.187500</td>\n",
       "    </tr>\n",
       "    <tr>\n",
       "      <th>male</th>\n",
       "      <td>1.211111</td>\n",
       "    </tr>\n",
       "  </tbody>\n",
       "</table>\n",
       "</div>"
      ],
      "text/plain": [
       "                          dog_rating\n",
       "dog_stage     dog_gender            \n",
       "NA            NA            1.049662\n",
       "              female        1.124354\n",
       "              male          1.071938\n",
       "doggo         NA            1.184211\n",
       "              female        1.208333\n",
       "              male          1.132143\n",
       "doggo, pupper NA            1.180000\n",
       "floofer       NA            1.200000\n",
       "              male          1.183333\n",
       "pupper        NA            1.108219\n",
       "              female        1.076486\n",
       "              male          1.009195\n",
       "puppo         NA            1.150000\n",
       "              female        1.187500\n",
       "              male          1.211111"
      ]
     },
     "execution_count": 477,
     "metadata": {},
     "output_type": "execute_result"
    }
   ],
   "source": [
    "df_analysis.groupby(['dog_stage','dog_gender']).mean()[['dog_rating']]"
   ]
  },
  {
   "cell_type": "code",
   "execution_count": 447,
   "metadata": {},
   "outputs": [
    {
     "name": "stdout",
     "output_type": "stream",
     "text": [
      "       Multiple Comparison of Means - Tukey HSD, FWER=0.05        \n",
      "==================================================================\n",
      "    group1        group2    meandiff p-adj   lower   upper  reject\n",
      "------------------------------------------------------------------\n",
      "           NA         doggo   0.0901  0.001  0.0288  0.1513   True\n",
      "           NA doggo, pupper   0.1057  0.668 -0.1013  0.3126  False\n",
      "           NA       floofer   0.1132 0.3603 -0.0506  0.2769  False\n",
      "           NA        pupper   -0.016 0.7569 -0.0511  0.0191  False\n",
      "           NA         puppo   0.1161 0.0142  0.0146  0.2176   True\n",
      "        doggo doggo, pupper   0.0156    0.9 -0.1996  0.2308  False\n",
      "        doggo       floofer   0.0231    0.9  -0.151  0.1972  False\n",
      "        doggo        pupper  -0.1061  0.001 -0.1747 -0.0374   True\n",
      "        doggo         puppo   0.0261    0.9 -0.0914  0.1435  False\n",
      "doggo, pupper       floofer   0.0075    0.9 -0.2559  0.2709  False\n",
      "doggo, pupper        pupper  -0.1217 0.5514 -0.3309  0.0876  False\n",
      "doggo, pupper         puppo   0.0105    0.9 -0.2195  0.2404  False\n",
      "      floofer        pupper  -0.1292 0.2334 -0.2959  0.0375  False\n",
      "      floofer         puppo    0.003    0.9  -0.189   0.195  False\n",
      "       pupper         puppo   0.1321 0.0053   0.026  0.2383   True\n",
      "------------------------------------------------------------------\n"
     ]
    }
   ],
   "source": [
    "#since there is significant group difference, do a follow-up pairwise comparison to see how each two groups are different\n",
    "tukey_stage = pairwise_tukeyhsd(endog=df_analysis['dog_rating'],\n",
    "                          groups=df_analysis['dog_stage'],\n",
    "                          alpha=0.05)\n",
    "print(tukey_stage)"
   ]
  },
  {
   "cell_type": "markdown",
   "metadata": {},
   "source": [
    "#### Conclusion: pupper dogs receive lower dog rating than doggo (p = 0.001) and puppo (p = 0.005) dogs and both doggo (p = 0.001) and puppo (p = 0.014) dogs receive higher dog rating than dogs who do not specify dog stage."
   ]
  },
  {
   "cell_type": "markdown",
   "metadata": {},
   "source": [
    "### Insights (key):\n",
    "**1. The popularity of tweets have positive impact on dog rating: dogs in a tweet receive higher ratings as the number of retweets and favorites of the tweet increases.**\n",
    "\n",
    "**2. Information of dog has an impact of dog rating: dogs who have more images receive higher ratings.**\n",
    "\n",
    "**3. Gender has significant impacts on dog rating: female dogs receive higher ratings than male dogs and dogs who do not specify genders.**\n",
    "\n",
    "**4. Dog stage also has significant impacts on dog rating: pupper dogs receive lower dog rating than doggo dogs and puppo dogs.**\n",
    "\n",
    "*5. Caveat for insights 3 and 4: the sample size for each group of dog gender and dog stage is uneven which lead to loss of statistical power, so, interpret the ANOVA results with cautious; fortunately, the issue is partially taken care by the post-hoc Tukey test*"
   ]
  },
  {
   "cell_type": "markdown",
   "metadata": {},
   "source": [
    "### Visualization"
   ]
  },
  {
   "cell_type": "markdown",
   "metadata": {},
   "source": [
    "#### Create a bar chart to see whether there the impact of dog gender on dog rating is universal to all dog stages"
   ]
  },
  {
   "cell_type": "code",
   "execution_count": 483,
   "metadata": {},
   "outputs": [],
   "source": [
    "sns.set_theme(style=\"whitegrid\", palette=\"pastel\")"
   ]
  },
  {
   "cell_type": "code",
   "execution_count": 474,
   "metadata": {},
   "outputs": [],
   "source": [
    "conclusion = 'Notes: female dogs receive the highest rating only among doggo dogs and when dog stage is not specified, suggesting an interaction between dog gender and dog stage on dog rating'"
   ]
  },
  {
   "cell_type": "code",
   "execution_count": 485,
   "metadata": {},
   "outputs": [
    {
     "data": {
      "image/png": "[encoded data removed]",
      "text/plain": [
       "<Figure size 1440x432 with 1 Axes>"
      ]
     },
     "metadata": {},
     "output_type": "display_data"
    }
   ],
   "source": [
    "plt.figure(figsize = (20,6))\n",
    "\n",
    "plt.title('The Impact of Dog Stage and Dog Gender on Dog Rating on Twitter-WeRateDogs', fontsize = 20)\n",
    "\n",
    "sns.barplot(x=\"dog_stage\", \n",
    "            y=\"dog_rating\",\n",
    "            hue ='dog_gender',\n",
    "            ci=None,\n",
    "            data=df_analysis,\n",
    "            alpha = 0.8)\n",
    "\n",
    "plt.ylim(1, 1.35)\n",
    "\n",
    "plt.xlabel('Dog Stage', fontsize =15)\n",
    "plt.ylabel('Average Dog Rating',fontsize=15)\n",
    "\n",
    "plt.legend(bbox_to_anchor=(1.02, 1), loc='upper left', borderaxespad=0, \n",
    "           title = 'Dog Gender', title_fontsize = 15, \n",
    "           fontsize = 12)\n",
    "plt.text(-0.25,0.94, conclusion, fontsize = 12, color = 'black', fontstyle = 'italic',\n",
    "          horizontalalignment='left', verticalalignment='center', wrap = True)\n",
    "\n",
    "plt.savefig('F_Int.jpg',bbox_inches = 'tight',pad_inches= 0.3)\n",
    "plt.show()"
   ]
  },
  {
   "cell_type": "code",
   "execution_count": 478,
   "metadata": {},
   "outputs": [
    {
     "data": {
      "text/html": [
       "<div>\n",
       "<style scoped>\n",
       "    .dataframe tbody tr th:only-of-type {\n",
       "        vertical-align: middle;\n",
       "    }\n",
       "\n",
       "    .dataframe tbody tr th {\n",
       "        vertical-align: top;\n",
       "    }\n",
       "\n",
       "    .dataframe thead th {\n",
       "        text-align: right;\n",
       "    }\n",
       "</style>\n",
       "<table border=\"1\" class=\"dataframe\">\n",
       "  <thead>\n",
       "    <tr style=\"text-align: right;\">\n",
       "      <th></th>\n",
       "      <th></th>\n",
       "      <th>dog_rating</th>\n",
       "    </tr>\n",
       "    <tr>\n",
       "      <th>dog_stage</th>\n",
       "      <th>dog_gender</th>\n",
       "      <th></th>\n",
       "    </tr>\n",
       "  </thead>\n",
       "  <tbody>\n",
       "    <tr>\n",
       "      <th rowspan=\"3\" valign=\"top\">NA</th>\n",
       "      <th>NA</th>\n",
       "      <td>1.049662</td>\n",
       "    </tr>\n",
       "    <tr>\n",
       "      <th>female</th>\n",
       "      <td>1.124354</td>\n",
       "    </tr>\n",
       "    <tr>\n",
       "      <th>male</th>\n",
       "      <td>1.071938</td>\n",
       "    </tr>\n",
       "    <tr>\n",
       "      <th rowspan=\"3\" valign=\"top\">doggo</th>\n",
       "      <th>NA</th>\n",
       "      <td>1.184211</td>\n",
       "    </tr>\n",
       "    <tr>\n",
       "      <th>female</th>\n",
       "      <td>1.208333</td>\n",
       "    </tr>\n",
       "    <tr>\n",
       "      <th>male</th>\n",
       "      <td>1.132143</td>\n",
       "    </tr>\n",
       "    <tr>\n",
       "      <th>doggo, pupper</th>\n",
       "      <th>NA</th>\n",
       "      <td>1.180000</td>\n",
       "    </tr>\n",
       "    <tr>\n",
       "      <th rowspan=\"2\" valign=\"top\">floofer</th>\n",
       "      <th>NA</th>\n",
       "      <td>1.200000</td>\n",
       "    </tr>\n",
       "    <tr>\n",
       "      <th>male</th>\n",
       "      <td>1.183333</td>\n",
       "    </tr>\n",
       "    <tr>\n",
       "      <th rowspan=\"3\" valign=\"top\">pupper</th>\n",
       "      <th>NA</th>\n",
       "      <td>1.108219</td>\n",
       "    </tr>\n",
       "    <tr>\n",
       "      <th>female</th>\n",
       "      <td>1.076486</td>\n",
       "    </tr>\n",
       "    <tr>\n",
       "      <th>male</th>\n",
       "      <td>1.009195</td>\n",
       "    </tr>\n",
       "    <tr>\n",
       "      <th rowspan=\"3\" valign=\"top\">puppo</th>\n",
       "      <th>NA</th>\n",
       "      <td>1.150000</td>\n",
       "    </tr>\n",
       "    <tr>\n",
       "      <th>female</th>\n",
       "      <td>1.187500</td>\n",
       "    </tr>\n",
       "    <tr>\n",
       "      <th>male</th>\n",
       "      <td>1.211111</td>\n",
       "    </tr>\n",
       "  </tbody>\n",
       "</table>\n",
       "</div>"
      ],
      "text/plain": [
       "                          dog_rating\n",
       "dog_stage     dog_gender            \n",
       "NA            NA            1.049662\n",
       "              female        1.124354\n",
       "              male          1.071938\n",
       "doggo         NA            1.184211\n",
       "              female        1.208333\n",
       "              male          1.132143\n",
       "doggo, pupper NA            1.180000\n",
       "floofer       NA            1.200000\n",
       "              male          1.183333\n",
       "pupper        NA            1.108219\n",
       "              female        1.076486\n",
       "              male          1.009195\n",
       "puppo         NA            1.150000\n",
       "              female        1.187500\n",
       "              male          1.211111"
      ]
     },
     "execution_count": 478,
     "metadata": {},
     "output_type": "execute_result"
    }
   ],
   "source": [
    "df_analysis.groupby(['dog_stage','dog_gender']).mean()[['dog_rating']]"
   ]
  },
  {
   "cell_type": "code",
   "execution_count": 459,
   "metadata": {},
   "outputs": [
    {
     "name": "stderr",
     "output_type": "stream",
     "text": [
      "/opt/anaconda3/lib/python3.8/site-packages/statsmodels/base/model.py:1832: ValueWarning: covariance of constraints does not have full rank. The number of constraints is 10, but rank is 7\n",
      "  warnings.warn('covariance of constraints does not have full '\n"
     ]
    },
    {
     "data": {
      "text/html": [
       "<div>\n",
       "<style scoped>\n",
       "    .dataframe tbody tr th:only-of-type {\n",
       "        vertical-align: middle;\n",
       "    }\n",
       "\n",
       "    .dataframe tbody tr th {\n",
       "        vertical-align: top;\n",
       "    }\n",
       "\n",
       "    .dataframe thead th {\n",
       "        text-align: right;\n",
       "    }\n",
       "</style>\n",
       "<table border=\"1\" class=\"dataframe\">\n",
       "  <thead>\n",
       "    <tr style=\"text-align: right;\">\n",
       "      <th></th>\n",
       "      <th>sum_sq</th>\n",
       "      <th>df</th>\n",
       "      <th>F</th>\n",
       "      <th>PR(&gt;F)</th>\n",
       "    </tr>\n",
       "  </thead>\n",
       "  <tbody>\n",
       "    <tr>\n",
       "      <th>Intercept</th>\n",
       "      <td>513.434653</td>\n",
       "      <td>1.0</td>\n",
       "      <td>20061.466668</td>\n",
       "      <td>0.000000e+00</td>\n",
       "    </tr>\n",
       "    <tr>\n",
       "      <th>C(dog_gender)</th>\n",
       "      <td>0.966573</td>\n",
       "      <td>2.0</td>\n",
       "      <td>18.883489</td>\n",
       "      <td>7.606736e-09</td>\n",
       "    </tr>\n",
       "    <tr>\n",
       "      <th>C(dog_stage)</th>\n",
       "      <td>0.646950</td>\n",
       "      <td>5.0</td>\n",
       "      <td>5.055661</td>\n",
       "      <td>1.316115e-04</td>\n",
       "    </tr>\n",
       "    <tr>\n",
       "      <th>C(dog_gender):C(dog_stage)</th>\n",
       "      <td>0.887044</td>\n",
       "      <td>10.0</td>\n",
       "      <td>3.465955</td>\n",
       "      <td>1.077819e-03</td>\n",
       "    </tr>\n",
       "    <tr>\n",
       "      <th>Residual</th>\n",
       "      <td>47.577529</td>\n",
       "      <td>1859.0</td>\n",
       "      <td>NaN</td>\n",
       "      <td>NaN</td>\n",
       "    </tr>\n",
       "  </tbody>\n",
       "</table>\n",
       "</div>"
      ],
      "text/plain": [
       "                                sum_sq      df             F        PR(>F)\n",
       "Intercept                   513.434653     1.0  20061.466668  0.000000e+00\n",
       "C(dog_gender)                 0.966573     2.0     18.883489  7.606736e-09\n",
       "C(dog_stage)                  0.646950     5.0      5.055661  1.316115e-04\n",
       "C(dog_gender):C(dog_stage)    0.887044    10.0      3.465955  1.077819e-03\n",
       "Residual                     47.577529  1859.0           NaN           NaN"
      ]
     },
     "execution_count": 459,
     "metadata": {},
     "output_type": "execute_result"
    }
   ],
   "source": [
    "#conduct a follow ANOVA to see whether the suggested interaction is significant -- results suggest the interaction is significant\n",
    "model_int = ols('dog_rating ~ C(dog_gender) +  C(dog_stage) + C(dog_gender)* C(dog_stage)', data=df_analysis).fit()\n",
    "anova_int = sm.stats.anova_lm(model_int, typ=3)\n",
    "anova_int"
   ]
  },
  {
   "cell_type": "markdown",
   "metadata": {},
   "source": [
    "#### Create supplementary figures for insights"
   ]
  },
  {
   "cell_type": "code",
   "execution_count": 523,
   "metadata": {},
   "outputs": [],
   "source": [
    "#create a bar chat function\n",
    "def supp_bar_chats(x,name,conclusion,p1):\n",
    "    \n",
    "    plt.figure(figsize = (10,6))\n",
    "    plt.title('The Impact of ' + name + ' on Dog Rating on Twitter-WeRateDogs', fontsize = 15)\n",
    "    \n",
    "    sns.barplot(x=x, \n",
    "            y=\"dog_rating\",\n",
    "            data=df_analysis,\n",
    "            ci = None,\n",
    "            alpha = 0.8)\n",
    "    \n",
    "    plt.ylim(1, 1.25)\n",
    "    \n",
    "    plt.xlabel(name, fontsize = 12)\n",
    "    plt.ylabel('Average Dog Rating',fontsize= 12)\n",
    "    plt.text(p1,0.96,conclusion, fontsize = 12, color = 'black', fontstyle = 'italic',\n",
    "          horizontalalignment='left', verticalalignment='center', wrap = True)\n",
    "    \n",
    "    plt.savefig('F_'+x+'.jpg',bbox_inches = 'tight',pad_inches= 0.3)\n",
    "    plt.show()"
   ]
  },
  {
   "cell_type": "code",
   "execution_count": 530,
   "metadata": {},
   "outputs": [
    {
     "data": {
      "image/png": "[encoded data removed]",
      "text/plain": [
       "<Figure size 720x432 with 1 Axes>"
      ]
     },
     "metadata": {},
     "output_type": "display_data"
    }
   ],
   "source": [
    "#create a bar chat to virsualize the impact of number of images on dog rating\n",
    "conclusion_img = 'Note: dogs with more images receive higher ratings'\n",
    "supp_bar_chats('img_num','Number of Images',conclusion_img,0.5)"
   ]
  },
  {
   "cell_type": "code",
   "execution_count": 531,
   "metadata": {},
   "outputs": [
    {
     "data": {
      "image/png": "[encoded data removed]",
      "text/plain": [
       "<Figure size 720x432 with 1 Axes>"
      ]
     },
     "metadata": {},
     "output_type": "display_data"
    }
   ],
   "source": [
    "#create a bar chat to virsualize the impact of dog gender on dog rating\n",
    "conclusion_gender = \"Note: female dogs receive higher ratings than male dogs and dogs who do not specify genders\"\n",
    "supp_bar_chats('dog_gender','Dog Gender',conclusion_gender,-0.4)"
   ]
  },
  {
   "cell_type": "code",
   "execution_count": 535,
   "metadata": {},
   "outputs": [
    {
     "data": {
      "image/png": "[encoded data removed]",
      "text/plain": [
       "<Figure size 720x432 with 1 Axes>"
      ]
     },
     "metadata": {},
     "output_type": "display_data"
    }
   ],
   "source": [
    "#create a bar chat to virsualize the impact of dog stage on dog rating\n",
    "conclusion_stage = \"Note: pupper receive the lowest ratings and puppo receive the highest ratings\"\n",
    "supp_bar_chats('dog_stage','Dog Stage',conclusion_stage,0.2)"
   ]
  },
  {
   "cell_type": "code",
   "execution_count": 226,
   "metadata": {},
   "outputs": [],
   "source": [
    "#create a scatter plot function\n",
    "def supp_scatter_chats(y,name):\n",
    "    \n",
    "    plt.figure(figsize = (12,8))\n",
    "    plt.title('The Relationship Between ' + name + ' and Dog Rating on Twitter-WeRateDogs', fontsize = 18)\n",
    "    \n",
    "    sns.scatterplot(x = \"dog_rating\", \n",
    "            y=y,\n",
    "            data=df_analysis,\n",
    "            alpha = 0.8)\n",
    "    \n",
    "    plt.xlabel('Dog Rating', fontsize = 15)\n",
    "    plt.ylabel(name,fontsize= 15)\n",
    "    \n",
    "    plt.savefig('F_'+y+'.jpg',bbox_inches = 'tight',pad_inches= 0.3)\n",
    "    plt.show()"
   ]
  },
  {
   "cell_type": "code",
   "execution_count": 227,
   "metadata": {},
   "outputs": [
    {
     "data": {
      "image/png": "[encoded data removed]",
      "text/plain": [
       "<Figure size 864x576 with 1 Axes>"
      ]
     },
     "metadata": {},
     "output_type": "display_data"
    }
   ],
   "source": [
    "##create a scatter plot to virsualize the impact of retweets on dog rating\n",
    "supp_scatter_chats('retweets','Retweets')"
   ]
  },
  {
   "cell_type": "code",
   "execution_count": 228,
   "metadata": {},
   "outputs": [
    {
     "data": {
      "image/png": "[encoded data removed]",
      "text/plain": [
       "<Figure size 864x576 with 1 Axes>"
      ]
     },
     "metadata": {},
     "output_type": "display_data"
    }
   ],
   "source": [
    "##create a scatter plot to virsualize the impact of favorites on dog rating\n",
    "supp_scatter_chats('favorites','Favorites')"
   ]
  }
 ],
 "metadata": {
  "extensions": {
   "jupyter_dashboards": {
    "activeView": "report_default",
    "version": 1,
    "views": {
     "grid_default": {
      "cellMargin": 10,
      "defaultCellHeight": 20,
      "maxColumns": 12,
      "name": "grid",
      "type": "grid"
     },
     "report_default": {
      "name": "report",
      "type": "report"
     }
    }
   }
  },
  "kernelspec": {
   "display_name": "Python 3",
   "language": "python",
   "name": "python3"
  },
  "language_info": {
   "codemirror_mode": {
    "name": "ipython",
    "version": 3
   },
   "file_extension": ".py",
   "mimetype": "text/x-python",
   "name": "python",
   "nbconvert_exporter": "python",
   "pygments_lexer": "ipython3",
   "version": "3.8.8"
  }
 },
 "nbformat": 4,
 "nbformat_minor": 4
}
